{
 "cells": [
  {
   "cell_type": "code",
   "execution_count": 4,
   "id": "d695ca9b-188d-42d8-9c9d-4fc9772c3755",
   "metadata": {
    "tags": []
   },
   "outputs": [],
   "source": [
    "import numpy as np"
   ]
  },
  {
   "cell_type": "code",
   "execution_count": 5,
   "id": "2b545054-96d0-404b-bf6e-b9adffe4f866",
   "metadata": {
    "tags": []
   },
   "outputs": [],
   "source": [
    "import pandas as pd"
   ]
  },
  {
   "cell_type": "code",
   "execution_count": 6,
   "id": "828db1ea-76c5-4025-988c-d01454cb40f9",
   "metadata": {
    "tags": []
   },
   "outputs": [],
   "source": [
    "data='https://raw.githubusercontent.com/alexeygrigorev/mlbookcamp-code/master/chapter-02-car-price/data.csv'"
   ]
  },
  {
   "cell_type": "code",
   "execution_count": 7,
   "id": "96cf81c7-ca40-406c-9084-53d4540b1db4",
   "metadata": {
    "tags": []
   },
   "outputs": [
    {
     "name": "stdout",
     "output_type": "stream",
     "text": [
      "--2023-10-02 09:45:20--  https://raw.githubusercontent.com/alexeygrigorev/mlbookcamp-code/master/chapter-02-car-price/data.csv\n",
      "Resolving raw.githubusercontent.com (raw.githubusercontent.com)... 185.199.111.133, 185.199.110.133, 185.199.108.133, ...\n",
      "Connecting to raw.githubusercontent.com (raw.githubusercontent.com)|185.199.111.133|:443... connected.\n",
      "HTTP request sent, awaiting response... 200 OK\n",
      "Length: 1475504 (1.4M) [text/plain]\n",
      "Saving to: ‘data.csv.2’\n",
      "\n",
      "data.csv.2          100%[===================>]   1.41M  8.82MB/s    in 0.2s    \n",
      "\n",
      "2023-10-02 09:45:22 (8.82 MB/s) - ‘data.csv.2’ saved [1475504/1475504]\n",
      "\n"
     ]
    }
   ],
   "source": [
    "!wget $data"
   ]
  },
  {
   "cell_type": "code",
   "execution_count": 556,
   "id": "3ca726fe-98ff-4a36-8345-e22f60b254a8",
   "metadata": {
    "tags": []
   },
   "outputs": [],
   "source": [
    "df=pd.read_csv('data.csv.2')"
   ]
  },
  {
   "cell_type": "code",
   "execution_count": 557,
   "id": "4d600dc1-df52-47f1-bd02-de00a41d3a78",
   "metadata": {
    "tags": []
   },
   "outputs": [],
   "source": [
    "columns = ['Make',\n",
    "'Model',\n",
    "'Year',\n",
    "'Engine HP',\n",
    "'Engine Cylinders',\n",
    "'Transmission Type',\n",
    "'Vehicle Style',\n",
    "'highway MPG',\n",
    "'city mpg','MSRP']"
   ]
  },
  {
   "cell_type": "code",
   "execution_count": 558,
   "id": "ece2b83d-7747-4a38-9fb7-dccbf1ffd376",
   "metadata": {
    "tags": []
   },
   "outputs": [],
   "source": [
    "df=df[columns]"
   ]
  },
  {
   "cell_type": "code",
   "execution_count": 559,
   "id": "abf22924-52d5-476d-b405-b3cff544c7f7",
   "metadata": {
    "tags": []
   },
   "outputs": [],
   "source": [
    "df.columns=['Make',\n",
    "'Model',\n",
    "'Year',\n",
    "'Engine HP',\n",
    "'Engine Cylinders',\n",
    "'Transmission Type',\n",
    "'Vehicle Style',\n",
    "'highway MPG',\n",
    "'city mpg','price']"
   ]
  },
  {
   "cell_type": "code",
   "execution_count": 560,
   "id": "faa34746-dd74-4a21-940f-b69a25729d9a",
   "metadata": {
    "tags": []
   },
   "outputs": [],
   "source": [
    "df.columns=df.columns.str.lower().str.replace(' ','_')"
   ]
  },
  {
   "cell_type": "markdown",
   "id": "5a66cb53-f496-4f69-b424-b2db4e9f23ae",
   "metadata": {},
   "source": [
    "# Answer - 1"
   ]
  },
  {
   "cell_type": "code",
   "execution_count": 561,
   "id": "2350367e-fac6-4518-9228-e93b1536b408",
   "metadata": {
    "tags": []
   },
   "outputs": [
    {
     "data": {
      "text/plain": [
       "transmission_type\n",
       "AUTOMATIC           8266\n",
       "MANUAL              2935\n",
       "AUTOMATED_MANUAL     626\n",
       "DIRECT_DRIVE          68\n",
       "UNKNOWN               19\n",
       "Name: count, dtype: int64"
      ]
     },
     "execution_count": 561,
     "metadata": {},
     "output_type": "execute_result"
    }
   ],
   "source": [
    "df['transmission_type'].value_counts()"
   ]
  },
  {
   "cell_type": "code",
   "execution_count": null,
   "id": "7cd5f03d-26b1-41ad-8dbb-f862b789ee6c",
   "metadata": {},
   "outputs": [],
   "source": [
    "# AUTOMATIC - 8266"
   ]
  },
  {
   "cell_type": "markdown",
   "id": "905163fd-061d-4072-bc4c-0c6c17b5c97b",
   "metadata": {},
   "source": [
    "# Answer - 2"
   ]
  },
  {
   "cell_type": "code",
   "execution_count": 562,
   "id": "3916dbba-70f4-45bf-977e-a5d5e9f54a64",
   "metadata": {
    "tags": []
   },
   "outputs": [
    {
     "data": {
      "text/plain": [
       "make                  0\n",
       "model                 0\n",
       "year                  0\n",
       "engine_hp            69\n",
       "engine_cylinders     30\n",
       "transmission_type     0\n",
       "vehicle_style         0\n",
       "highway_mpg           0\n",
       "city_mpg              0\n",
       "price                 0\n",
       "dtype: int64"
      ]
     },
     "execution_count": 562,
     "metadata": {},
     "output_type": "execute_result"
    }
   ],
   "source": [
    "df.isnull().sum()"
   ]
  },
  {
   "cell_type": "code",
   "execution_count": 563,
   "id": "fd18c8ef-7f9d-4c37-a74f-2754b329c94b",
   "metadata": {
    "tags": []
   },
   "outputs": [
    {
     "data": {
      "text/plain": [
       "year                  int64\n",
       "engine_hp           float64\n",
       "engine_cylinders    float64\n",
       "highway_mpg           int64\n",
       "city_mpg              int64\n",
       "price                 int64\n",
       "dtype: object"
      ]
     },
     "execution_count": 563,
     "metadata": {},
     "output_type": "execute_result"
    }
   ],
   "source": [
    "df[numerical].dtypes"
   ]
  },
  {
   "cell_type": "code",
   "execution_count": 564,
   "id": "244cadd7-2d39-4cc2-b3cb-eb79865c5374",
   "metadata": {
    "tags": []
   },
   "outputs": [],
   "source": [
    "df=df.fillna(0)"
   ]
  },
  {
   "cell_type": "code",
   "execution_count": 565,
   "id": "26a93354-bdca-47a5-b30c-0efa4590e91e",
   "metadata": {
    "tags": []
   },
   "outputs": [
    {
     "data": {
      "text/plain": [
       "make                 0\n",
       "model                0\n",
       "year                 0\n",
       "engine_hp            0\n",
       "engine_cylinders     0\n",
       "transmission_type    0\n",
       "vehicle_style        0\n",
       "highway_mpg          0\n",
       "city_mpg             0\n",
       "price                0\n",
       "dtype: int64"
      ]
     },
     "execution_count": 565,
     "metadata": {},
     "output_type": "execute_result"
    }
   ],
   "source": [
    "df.isnull().sum()"
   ]
  },
  {
   "cell_type": "code",
   "execution_count": 566,
   "id": "ae305353-a761-4ade-b251-e9a66e1d8593",
   "metadata": {
    "tags": []
   },
   "outputs": [],
   "source": [
    "corrM=df[numerical].corr()"
   ]
  },
  {
   "cell_type": "code",
   "execution_count": 567,
   "id": "a8ab77bb-a164-4b04-a9d9-128afa26685e",
   "metadata": {
    "tags": []
   },
   "outputs": [
    {
     "data": {
      "text/html": [
       "<div>\n",
       "<style scoped>\n",
       "    .dataframe tbody tr th:only-of-type {\n",
       "        vertical-align: middle;\n",
       "    }\n",
       "\n",
       "    .dataframe tbody tr th {\n",
       "        vertical-align: top;\n",
       "    }\n",
       "\n",
       "    .dataframe thead th {\n",
       "        text-align: right;\n",
       "    }\n",
       "</style>\n",
       "<table border=\"1\" class=\"dataframe\">\n",
       "  <thead>\n",
       "    <tr style=\"text-align: right;\">\n",
       "      <th></th>\n",
       "      <th>year</th>\n",
       "      <th>engine_hp</th>\n",
       "      <th>engine_cylinders</th>\n",
       "      <th>highway_mpg</th>\n",
       "      <th>city_mpg</th>\n",
       "      <th>price</th>\n",
       "    </tr>\n",
       "  </thead>\n",
       "  <tbody>\n",
       "    <tr>\n",
       "      <th>year</th>\n",
       "      <td>1.000000</td>\n",
       "      <td>0.338714</td>\n",
       "      <td>-0.040708</td>\n",
       "      <td>0.258240</td>\n",
       "      <td>0.198171</td>\n",
       "      <td>0.227590</td>\n",
       "    </tr>\n",
       "    <tr>\n",
       "      <th>engine_hp</th>\n",
       "      <td>0.338714</td>\n",
       "      <td>1.000000</td>\n",
       "      <td>0.774851</td>\n",
       "      <td>-0.415707</td>\n",
       "      <td>-0.424918</td>\n",
       "      <td>0.650095</td>\n",
       "    </tr>\n",
       "    <tr>\n",
       "      <th>engine_cylinders</th>\n",
       "      <td>-0.040708</td>\n",
       "      <td>0.774851</td>\n",
       "      <td>1.000000</td>\n",
       "      <td>-0.614541</td>\n",
       "      <td>-0.587306</td>\n",
       "      <td>0.526274</td>\n",
       "    </tr>\n",
       "    <tr>\n",
       "      <th>highway_mpg</th>\n",
       "      <td>0.258240</td>\n",
       "      <td>-0.415707</td>\n",
       "      <td>-0.614541</td>\n",
       "      <td>1.000000</td>\n",
       "      <td>0.886829</td>\n",
       "      <td>-0.160043</td>\n",
       "    </tr>\n",
       "    <tr>\n",
       "      <th>city_mpg</th>\n",
       "      <td>0.198171</td>\n",
       "      <td>-0.424918</td>\n",
       "      <td>-0.587306</td>\n",
       "      <td>0.886829</td>\n",
       "      <td>1.000000</td>\n",
       "      <td>-0.157676</td>\n",
       "    </tr>\n",
       "    <tr>\n",
       "      <th>price</th>\n",
       "      <td>0.227590</td>\n",
       "      <td>0.650095</td>\n",
       "      <td>0.526274</td>\n",
       "      <td>-0.160043</td>\n",
       "      <td>-0.157676</td>\n",
       "      <td>1.000000</td>\n",
       "    </tr>\n",
       "  </tbody>\n",
       "</table>\n",
       "</div>"
      ],
      "text/plain": [
       "                      year  engine_hp  engine_cylinders  highway_mpg  \\\n",
       "year              1.000000   0.338714         -0.040708     0.258240   \n",
       "engine_hp         0.338714   1.000000          0.774851    -0.415707   \n",
       "engine_cylinders -0.040708   0.774851          1.000000    -0.614541   \n",
       "highway_mpg       0.258240  -0.415707         -0.614541     1.000000   \n",
       "city_mpg          0.198171  -0.424918         -0.587306     0.886829   \n",
       "price             0.227590   0.650095          0.526274    -0.160043   \n",
       "\n",
       "                  city_mpg     price  \n",
       "year              0.198171  0.227590  \n",
       "engine_hp        -0.424918  0.650095  \n",
       "engine_cylinders -0.587306  0.526274  \n",
       "highway_mpg       0.886829 -0.160043  \n",
       "city_mpg          1.000000 -0.157676  \n",
       "price            -0.157676  1.000000  "
      ]
     },
     "execution_count": 567,
     "metadata": {},
     "output_type": "execute_result"
    }
   ],
   "source": [
    "corrM"
   ]
  },
  {
   "cell_type": "code",
   "execution_count": 76,
   "id": "38f89f55-4a8c-4949-984d-8343d4ccb613",
   "metadata": {
    "tags": []
   },
   "outputs": [],
   "source": [
    "# .89 between city_mpg and highway_mpg"
   ]
  },
  {
   "cell_type": "code",
   "execution_count": 568,
   "id": "3e546192-02ad-4624-84c9-6bf4e3ed4fe5",
   "metadata": {
    "tags": []
   },
   "outputs": [],
   "source": [
    "price_mean=df['price'].mean()"
   ]
  },
  {
   "cell_type": "code",
   "execution_count": 569,
   "id": "e9f32217-6dbd-4973-a7d6-0da98ee5190a",
   "metadata": {
    "tags": []
   },
   "outputs": [],
   "source": [
    "df.loc[df['price'] < price_mean,'above_average'] = 0"
   ]
  },
  {
   "cell_type": "code",
   "execution_count": 570,
   "id": "567f4992-38b6-4254-ab40-2494f0d7cc2d",
   "metadata": {
    "tags": []
   },
   "outputs": [
    {
     "data": {
      "text/plain": [
       "above_average\n",
       "0.0    8645\n",
       "Name: count, dtype: int64"
      ]
     },
     "execution_count": 570,
     "metadata": {},
     "output_type": "execute_result"
    }
   ],
   "source": [
    "df['above_average'].value_counts()"
   ]
  },
  {
   "cell_type": "code",
   "execution_count": 571,
   "id": "196aea07-4af5-4a17-a2b2-2ae9c35636ba",
   "metadata": {
    "tags": []
   },
   "outputs": [],
   "source": [
    "df.loc[df['price'] > price_mean,'above_average'] = 1"
   ]
  },
  {
   "cell_type": "code",
   "execution_count": 572,
   "id": "122bac5f-c82b-4424-aab8-57a1debdfbaf",
   "metadata": {
    "tags": []
   },
   "outputs": [
    {
     "data": {
      "text/plain": [
       "above_average\n",
       "0.0    8645\n",
       "1.0    3269\n",
       "Name: count, dtype: int64"
      ]
     },
     "execution_count": 572,
     "metadata": {},
     "output_type": "execute_result"
    }
   ],
   "source": [
    "df['above_average'].value_counts()"
   ]
  },
  {
   "cell_type": "code",
   "execution_count": 573,
   "id": "7b37b893-e457-4f5c-9a8d-946161816b01",
   "metadata": {
    "tags": []
   },
   "outputs": [],
   "source": [
    "from sklearn.model_selection import train_test_split"
   ]
  },
  {
   "cell_type": "code",
   "execution_count": 574,
   "id": "2ae657e1-0ae1-4b53-be1a-b2892749684c",
   "metadata": {
    "tags": []
   },
   "outputs": [
    {
     "data": {
      "text/plain": [
       "Index(['make', 'model', 'year', 'engine_hp', 'engine_cylinders',\n",
       "       'transmission_type', 'vehicle_style', 'highway_mpg', 'city_mpg',\n",
       "       'price', 'above_average'],\n",
       "      dtype='object')"
      ]
     },
     "execution_count": 574,
     "metadata": {},
     "output_type": "execute_result"
    }
   ],
   "source": [
    "df.columns"
   ]
  },
  {
   "cell_type": "code",
   "execution_count": 32,
   "id": "66ca78c6-fd93-4c60-998f-d6367b7b06b1",
   "metadata": {
    "tags": []
   },
   "outputs": [],
   "source": [
    "#df_x=df[['make', 'model', 'year', 'engine_hp', 'engine_cylinders','transmission_type', 'vehicle_style', 'highway_mpg', 'city_mpg']]"
   ]
  },
  {
   "cell_type": "code",
   "execution_count": 575,
   "id": "1664cc18-c1d1-4ca7-8554-c2ae3eca33fe",
   "metadata": {
    "tags": []
   },
   "outputs": [],
   "source": [
    "df_fulltrain, df_test = train_test_split(df, test_size=0.2,random_state=42)"
   ]
  },
  {
   "cell_type": "code",
   "execution_count": 576,
   "id": "3debdd04-9ea3-4bf3-b450-a387ab5ed2b5",
   "metadata": {
    "tags": []
   },
   "outputs": [],
   "source": [
    "df_train, df_val = train_test_split(df_fulltrain, test_size=0.25,random_state=42)"
   ]
  },
  {
   "cell_type": "code",
   "execution_count": 577,
   "id": "878da98b-7a21-4e2a-b1d8-87df5fd2f876",
   "metadata": {
    "tags": []
   },
   "outputs": [
    {
     "data": {
      "text/plain": [
       "(7148, 2383, 2383)"
      ]
     },
     "execution_count": 577,
     "metadata": {},
     "output_type": "execute_result"
    }
   ],
   "source": [
    "len(df_train), len(df_test),len(df_val)"
   ]
  },
  {
   "cell_type": "code",
   "execution_count": 578,
   "id": "9d652055-7a89-44ec-a4f0-5e27ec3025b5",
   "metadata": {
    "tags": []
   },
   "outputs": [],
   "source": [
    "from sklearn.metrics import mutual_info_score"
   ]
  },
  {
   "cell_type": "code",
   "execution_count": 579,
   "id": "64b6533e-3bbb-468d-a7a1-496447e04ac8",
   "metadata": {
    "tags": []
   },
   "outputs": [
    {
     "name": "stdout",
     "output_type": "stream",
     "text": [
      "make 0.24\n",
      "model 0.46\n",
      "transmission_type 0.02\n",
      "vehicle_style 0.08\n"
     ]
    }
   ],
   "source": [
    "for c in categorical :\n",
    "    print (c, round(mutual_info_score(df_train.above_average, df_train[c]),2))"
   ]
  },
  {
   "cell_type": "markdown",
   "id": "3ec26146-a121-4b87-abc5-a3801176f26f",
   "metadata": {},
   "source": [
    "# Answer - 4"
   ]
  },
  {
   "cell_type": "code",
   "execution_count": 580,
   "id": "5a48a337-bca4-4656-9f94-19c337c6fe71",
   "metadata": {
    "tags": []
   },
   "outputs": [
    {
     "data": {
      "text/plain": [
       "((7148, 9), (2383, 9), (2383, 9), (11914, 9))"
      ]
     },
     "execution_count": 580,
     "metadata": {},
     "output_type": "execute_result"
    }
   ],
   "source": [
    "df_train_x.shape, df_val_x.shape, df_test_x.shape, df_x.shape"
   ]
  },
  {
   "cell_type": "code",
   "execution_count": 581,
   "id": "33df092a-c844-469c-a673-0deb937ebd79",
   "metadata": {
    "tags": []
   },
   "outputs": [],
   "source": [
    "df_train_x=df_train[['make', 'model', 'year', 'engine_hp', 'engine_cylinders',\n",
    "       'transmission_type', 'vehicle_style', 'highway_mpg', 'city_mpg']]"
   ]
  },
  {
   "cell_type": "code",
   "execution_count": 582,
   "id": "dca05b94-cb87-4b5b-a388-d02c69b04386",
   "metadata": {
    "tags": []
   },
   "outputs": [],
   "source": [
    "df_val_x=df_val[['make', 'model', 'year', 'engine_hp', 'engine_cylinders',\n",
    "       'transmission_type', 'vehicle_style', 'highway_mpg', 'city_mpg']]"
   ]
  },
  {
   "cell_type": "code",
   "execution_count": 583,
   "id": "45466010-2480-4b3d-8ca8-0065011ee5a7",
   "metadata": {
    "tags": []
   },
   "outputs": [],
   "source": [
    "df_test_x=df_test[['make', 'model', 'year', 'engine_hp', 'engine_cylinders',\n",
    "       'transmission_type', 'vehicle_style', 'highway_mpg', 'city_mpg']]"
   ]
  },
  {
   "cell_type": "code",
   "execution_count": 584,
   "id": "94db1721-41b1-479b-9583-538a5018fe51",
   "metadata": {
    "tags": []
   },
   "outputs": [],
   "source": [
    "df_x=df[['make', 'model', 'year', 'engine_hp', 'engine_cylinders',\n",
    "       'transmission_type', 'vehicle_style', 'highway_mpg', 'city_mpg']]"
   ]
  },
  {
   "cell_type": "code",
   "execution_count": 585,
   "id": "799b75ff-3f78-41a0-98e8-c242499bc519",
   "metadata": {
    "tags": []
   },
   "outputs": [],
   "source": [
    "from sklearn.feature_extraction import DictVectorizer"
   ]
  },
  {
   "cell_type": "code",
   "execution_count": 685,
   "id": "f5f080bf-d746-4486-a61c-44ffa8b47bc7",
   "metadata": {
    "tags": []
   },
   "outputs": [],
   "source": [
    "dv=DictVectorizer(sparse=True)"
   ]
  },
  {
   "cell_type": "code",
   "execution_count": 326,
   "id": "b5937dd1-29fb-4d0d-bba4-521592ed0360",
   "metadata": {
    "tags": []
   },
   "outputs": [],
   "source": [
    "#dict_df=df_x.to_dict(orient='records')"
   ]
  },
  {
   "cell_type": "code",
   "execution_count": 686,
   "id": "555f2b77-112d-4255-9258-a8a02f5c354c",
   "metadata": {
    "tags": []
   },
   "outputs": [],
   "source": [
    "dict_df_train_x=df_train_x.to_dict(orient='records')\n",
    "dict_df_val_x=df_val_x.to_dict(orient='records')\n",
    "dict_df_test_x=df_test_x.to_dict(orient='records')\n"
   ]
  },
  {
   "cell_type": "code",
   "execution_count": 687,
   "id": "cbd6e663-1710-40a3-92ce-ba3ee85c4253",
   "metadata": {
    "tags": []
   },
   "outputs": [
    {
     "data": {
      "text/html": [
       "<style>#sk-container-id-50 {color: black;}#sk-container-id-50 pre{padding: 0;}#sk-container-id-50 div.sk-toggleable {background-color: white;}#sk-container-id-50 label.sk-toggleable__label {cursor: pointer;display: block;width: 100%;margin-bottom: 0;padding: 0.3em;box-sizing: border-box;text-align: center;}#sk-container-id-50 label.sk-toggleable__label-arrow:before {content: \"▸\";float: left;margin-right: 0.25em;color: #696969;}#sk-container-id-50 label.sk-toggleable__label-arrow:hover:before {color: black;}#sk-container-id-50 div.sk-estimator:hover label.sk-toggleable__label-arrow:before {color: black;}#sk-container-id-50 div.sk-toggleable__content {max-height: 0;max-width: 0;overflow: hidden;text-align: left;background-color: #f0f8ff;}#sk-container-id-50 div.sk-toggleable__content pre {margin: 0.2em;color: black;border-radius: 0.25em;background-color: #f0f8ff;}#sk-container-id-50 input.sk-toggleable__control:checked~div.sk-toggleable__content {max-height: 200px;max-width: 100%;overflow: auto;}#sk-container-id-50 input.sk-toggleable__control:checked~label.sk-toggleable__label-arrow:before {content: \"▾\";}#sk-container-id-50 div.sk-estimator input.sk-toggleable__control:checked~label.sk-toggleable__label {background-color: #d4ebff;}#sk-container-id-50 div.sk-label input.sk-toggleable__control:checked~label.sk-toggleable__label {background-color: #d4ebff;}#sk-container-id-50 input.sk-hidden--visually {border: 0;clip: rect(1px 1px 1px 1px);clip: rect(1px, 1px, 1px, 1px);height: 1px;margin: -1px;overflow: hidden;padding: 0;position: absolute;width: 1px;}#sk-container-id-50 div.sk-estimator {font-family: monospace;background-color: #f0f8ff;border: 1px dotted black;border-radius: 0.25em;box-sizing: border-box;margin-bottom: 0.5em;}#sk-container-id-50 div.sk-estimator:hover {background-color: #d4ebff;}#sk-container-id-50 div.sk-parallel-item::after {content: \"\";width: 100%;border-bottom: 1px solid gray;flex-grow: 1;}#sk-container-id-50 div.sk-label:hover label.sk-toggleable__label {background-color: #d4ebff;}#sk-container-id-50 div.sk-serial::before {content: \"\";position: absolute;border-left: 1px solid gray;box-sizing: border-box;top: 0;bottom: 0;left: 50%;z-index: 0;}#sk-container-id-50 div.sk-serial {display: flex;flex-direction: column;align-items: center;background-color: white;padding-right: 0.2em;padding-left: 0.2em;position: relative;}#sk-container-id-50 div.sk-item {position: relative;z-index: 1;}#sk-container-id-50 div.sk-parallel {display: flex;align-items: stretch;justify-content: center;background-color: white;position: relative;}#sk-container-id-50 div.sk-item::before, #sk-container-id-50 div.sk-parallel-item::before {content: \"\";position: absolute;border-left: 1px solid gray;box-sizing: border-box;top: 0;bottom: 0;left: 50%;z-index: -1;}#sk-container-id-50 div.sk-parallel-item {display: flex;flex-direction: column;z-index: 1;position: relative;background-color: white;}#sk-container-id-50 div.sk-parallel-item:first-child::after {align-self: flex-end;width: 50%;}#sk-container-id-50 div.sk-parallel-item:last-child::after {align-self: flex-start;width: 50%;}#sk-container-id-50 div.sk-parallel-item:only-child::after {width: 0;}#sk-container-id-50 div.sk-dashed-wrapped {border: 1px dashed gray;margin: 0 0.4em 0.5em 0.4em;box-sizing: border-box;padding-bottom: 0.4em;background-color: white;}#sk-container-id-50 div.sk-label label {font-family: monospace;font-weight: bold;display: inline-block;line-height: 1.2em;}#sk-container-id-50 div.sk-label-container {text-align: center;}#sk-container-id-50 div.sk-container {/* jupyter's `normalize.less` sets `[hidden] { display: none; }` but bootstrap.min.css set `[hidden] { display: none !important; }` so we also need the `!important` here to be able to override the default hidden behavior on the sphinx rendered scikit-learn.org. See: https://github.com/scikit-learn/scikit-learn/issues/21755 */display: inline-block !important;position: relative;}#sk-container-id-50 div.sk-text-repr-fallback {display: none;}</style><div id=\"sk-container-id-50\" class=\"sk-top-container\"><div class=\"sk-text-repr-fallback\"><pre>DictVectorizer()</pre><b>In a Jupyter environment, please rerun this cell to show the HTML representation or trust the notebook. <br />On GitHub, the HTML representation is unable to render, please try loading this page with nbviewer.org.</b></div><div class=\"sk-container\" hidden><div class=\"sk-item\"><div class=\"sk-estimator sk-toggleable\"><input class=\"sk-toggleable__control sk-hidden--visually\" id=\"sk-estimator-id-50\" type=\"checkbox\" checked><label for=\"sk-estimator-id-50\" class=\"sk-toggleable__label sk-toggleable__label-arrow\">DictVectorizer</label><div class=\"sk-toggleable__content\"><pre>DictVectorizer()</pre></div></div></div></div></div>"
      ],
      "text/plain": [
       "DictVectorizer()"
      ]
     },
     "execution_count": 687,
     "metadata": {},
     "output_type": "execute_result"
    }
   ],
   "source": [
    "dv.fit(dict_df_train_x)"
   ]
  },
  {
   "cell_type": "code",
   "execution_count": 688,
   "id": "249e9c4f-41ab-4cf1-805d-01f0faf0aa54",
   "metadata": {
    "tags": []
   },
   "outputs": [
    {
     "data": {
      "text/plain": [
       "<7148x943 sparse matrix of type '<class 'numpy.float64'>'\n",
       "\twith 64332 stored elements in Compressed Sparse Row format>"
      ]
     },
     "execution_count": 688,
     "metadata": {},
     "output_type": "execute_result"
    }
   ],
   "source": [
    "dv.transform(dict_df_train_x)"
   ]
  },
  {
   "cell_type": "code",
   "execution_count": 689,
   "id": "83b2f80c-8372-42eb-aee3-4648b8b9a755",
   "metadata": {
    "tags": []
   },
   "outputs": [],
   "source": [
    "X_train=dv.transform(dict_df_train_x)\n",
    "X_val=dv.transform(dict_df_val_x)\n",
    "X_test=dv.transform(dict_df_test_x)"
   ]
  },
  {
   "cell_type": "code",
   "execution_count": 690,
   "id": "a90a9a3c-80e6-46b0-a735-c253cc43a728",
   "metadata": {
    "tags": []
   },
   "outputs": [],
   "source": [
    "y_train = df_train['above_average']\n",
    "y_val = df_val['above_average']\n",
    "y_test = df_test['above_average']"
   ]
  },
  {
   "cell_type": "code",
   "execution_count": 691,
   "id": "a6d5d804-be2e-42c6-ac01-e44b13217b7a",
   "metadata": {
    "tags": []
   },
   "outputs": [],
   "source": [
    "from sklearn.linear_model import LogisticRegression"
   ]
  },
  {
   "cell_type": "code",
   "execution_count": 692,
   "id": "358e7b22-9eda-4df3-af58-b3c459970b01",
   "metadata": {
    "tags": []
   },
   "outputs": [],
   "source": [
    "model = LogisticRegression(solver='liblinear', C=10, max_iter=1000, random_state=42)"
   ]
  },
  {
   "cell_type": "code",
   "execution_count": 693,
   "id": "d8f308c3-bfb5-45af-8e06-0b2649733ccd",
   "metadata": {
    "tags": []
   },
   "outputs": [
    {
     "data": {
      "text/html": [
       "<style>#sk-container-id-51 {color: black;}#sk-container-id-51 pre{padding: 0;}#sk-container-id-51 div.sk-toggleable {background-color: white;}#sk-container-id-51 label.sk-toggleable__label {cursor: pointer;display: block;width: 100%;margin-bottom: 0;padding: 0.3em;box-sizing: border-box;text-align: center;}#sk-container-id-51 label.sk-toggleable__label-arrow:before {content: \"▸\";float: left;margin-right: 0.25em;color: #696969;}#sk-container-id-51 label.sk-toggleable__label-arrow:hover:before {color: black;}#sk-container-id-51 div.sk-estimator:hover label.sk-toggleable__label-arrow:before {color: black;}#sk-container-id-51 div.sk-toggleable__content {max-height: 0;max-width: 0;overflow: hidden;text-align: left;background-color: #f0f8ff;}#sk-container-id-51 div.sk-toggleable__content pre {margin: 0.2em;color: black;border-radius: 0.25em;background-color: #f0f8ff;}#sk-container-id-51 input.sk-toggleable__control:checked~div.sk-toggleable__content {max-height: 200px;max-width: 100%;overflow: auto;}#sk-container-id-51 input.sk-toggleable__control:checked~label.sk-toggleable__label-arrow:before {content: \"▾\";}#sk-container-id-51 div.sk-estimator input.sk-toggleable__control:checked~label.sk-toggleable__label {background-color: #d4ebff;}#sk-container-id-51 div.sk-label input.sk-toggleable__control:checked~label.sk-toggleable__label {background-color: #d4ebff;}#sk-container-id-51 input.sk-hidden--visually {border: 0;clip: rect(1px 1px 1px 1px);clip: rect(1px, 1px, 1px, 1px);height: 1px;margin: -1px;overflow: hidden;padding: 0;position: absolute;width: 1px;}#sk-container-id-51 div.sk-estimator {font-family: monospace;background-color: #f0f8ff;border: 1px dotted black;border-radius: 0.25em;box-sizing: border-box;margin-bottom: 0.5em;}#sk-container-id-51 div.sk-estimator:hover {background-color: #d4ebff;}#sk-container-id-51 div.sk-parallel-item::after {content: \"\";width: 100%;border-bottom: 1px solid gray;flex-grow: 1;}#sk-container-id-51 div.sk-label:hover label.sk-toggleable__label {background-color: #d4ebff;}#sk-container-id-51 div.sk-serial::before {content: \"\";position: absolute;border-left: 1px solid gray;box-sizing: border-box;top: 0;bottom: 0;left: 50%;z-index: 0;}#sk-container-id-51 div.sk-serial {display: flex;flex-direction: column;align-items: center;background-color: white;padding-right: 0.2em;padding-left: 0.2em;position: relative;}#sk-container-id-51 div.sk-item {position: relative;z-index: 1;}#sk-container-id-51 div.sk-parallel {display: flex;align-items: stretch;justify-content: center;background-color: white;position: relative;}#sk-container-id-51 div.sk-item::before, #sk-container-id-51 div.sk-parallel-item::before {content: \"\";position: absolute;border-left: 1px solid gray;box-sizing: border-box;top: 0;bottom: 0;left: 50%;z-index: -1;}#sk-container-id-51 div.sk-parallel-item {display: flex;flex-direction: column;z-index: 1;position: relative;background-color: white;}#sk-container-id-51 div.sk-parallel-item:first-child::after {align-self: flex-end;width: 50%;}#sk-container-id-51 div.sk-parallel-item:last-child::after {align-self: flex-start;width: 50%;}#sk-container-id-51 div.sk-parallel-item:only-child::after {width: 0;}#sk-container-id-51 div.sk-dashed-wrapped {border: 1px dashed gray;margin: 0 0.4em 0.5em 0.4em;box-sizing: border-box;padding-bottom: 0.4em;background-color: white;}#sk-container-id-51 div.sk-label label {font-family: monospace;font-weight: bold;display: inline-block;line-height: 1.2em;}#sk-container-id-51 div.sk-label-container {text-align: center;}#sk-container-id-51 div.sk-container {/* jupyter's `normalize.less` sets `[hidden] { display: none; }` but bootstrap.min.css set `[hidden] { display: none !important; }` so we also need the `!important` here to be able to override the default hidden behavior on the sphinx rendered scikit-learn.org. See: https://github.com/scikit-learn/scikit-learn/issues/21755 */display: inline-block !important;position: relative;}#sk-container-id-51 div.sk-text-repr-fallback {display: none;}</style><div id=\"sk-container-id-51\" class=\"sk-top-container\"><div class=\"sk-text-repr-fallback\"><pre>LogisticRegression(C=10, max_iter=1000, random_state=42, solver=&#x27;liblinear&#x27;)</pre><b>In a Jupyter environment, please rerun this cell to show the HTML representation or trust the notebook. <br />On GitHub, the HTML representation is unable to render, please try loading this page with nbviewer.org.</b></div><div class=\"sk-container\" hidden><div class=\"sk-item\"><div class=\"sk-estimator sk-toggleable\"><input class=\"sk-toggleable__control sk-hidden--visually\" id=\"sk-estimator-id-51\" type=\"checkbox\" checked><label for=\"sk-estimator-id-51\" class=\"sk-toggleable__label sk-toggleable__label-arrow\">LogisticRegression</label><div class=\"sk-toggleable__content\"><pre>LogisticRegression(C=10, max_iter=1000, random_state=42, solver=&#x27;liblinear&#x27;)</pre></div></div></div></div></div>"
      ],
      "text/plain": [
       "LogisticRegression(C=10, max_iter=1000, random_state=42, solver='liblinear')"
      ]
     },
     "execution_count": 693,
     "metadata": {},
     "output_type": "execute_result"
    }
   ],
   "source": [
    "model.fit(X_train,y_train)"
   ]
  },
  {
   "cell_type": "code",
   "execution_count": 694,
   "id": "afe5b4de-317b-466c-a40b-3865ce9a208e",
   "metadata": {
    "tags": []
   },
   "outputs": [],
   "source": [
    "y_val_pred = model.predict_proba(X_val)[:,1]"
   ]
  },
  {
   "cell_type": "code",
   "execution_count": 695,
   "id": "3562c331-9842-4cdf-b260-4958df819d6d",
   "metadata": {
    "tags": []
   },
   "outputs": [],
   "source": [
    "high_price = (y_val_pred > 0.5)"
   ]
  },
  {
   "cell_type": "code",
   "execution_count": 696,
   "id": "c10c2252-388c-4de1-bd3b-c193c41449c9",
   "metadata": {
    "tags": []
   },
   "outputs": [
    {
     "data": {
      "text/plain": [
       "above_average\n",
       "0.0    1722\n",
       "1.0     661\n",
       "Name: count, dtype: int64"
      ]
     },
     "execution_count": 696,
     "metadata": {},
     "output_type": "execute_result"
    }
   ],
   "source": [
    "y_val.value_counts()"
   ]
  },
  {
   "cell_type": "code",
   "execution_count": 697,
   "id": "ef095c00-a277-4712-95bd-19e0bf8ef17b",
   "metadata": {
    "tags": []
   },
   "outputs": [],
   "source": [
    "full_accuracy = round((high_price.astype(int)==y_val).mean(),2)"
   ]
  },
  {
   "cell_type": "code",
   "execution_count": 698,
   "id": "c91f89f4-39c9-4a59-895f-3fa6b570e638",
   "metadata": {
    "tags": []
   },
   "outputs": [
    {
     "name": "stdout",
     "output_type": "stream",
     "text": [
      "0.93\n"
     ]
    }
   ],
   "source": [
    "print (full_accuracy)"
   ]
  },
  {
   "cell_type": "markdown",
   "id": "8328479a-7ac6-442e-8573-74830199b0da",
   "metadata": {},
   "source": [
    "# Answer - 5"
   ]
  },
  {
   "cell_type": "code",
   "execution_count": 600,
   "id": "4248d43a-a206-451d-a612-d8904ee430d6",
   "metadata": {
    "tags": []
   },
   "outputs": [
    {
     "name": "stdout",
     "output_type": "stream",
     "text": [
      "make\n",
      "0.945\n",
      "difference: -0.015\n",
      "\n",
      "model\n",
      "0.924\n",
      "difference: 0.006\n",
      "\n",
      "year\n",
      "0.9475\n",
      "difference: -0.017\n",
      "\n",
      "engine_hp\n",
      "0.9299\n",
      "difference: 0.0\n",
      "\n",
      "engine_cylinders\n",
      "0.9459\n",
      "difference: -0.016\n",
      "\n",
      "transmission_type\n",
      "0.9459\n",
      "difference: -0.016\n",
      "\n",
      "vehicle_style\n",
      "0.9329\n",
      "difference: -0.003\n",
      "\n",
      "highway_mpg\n",
      "0.9467\n",
      "difference: -0.017\n",
      "\n",
      "city_mpg\n",
      "0.9459\n",
      "difference: -0.016\n",
      "\n"
     ]
    }
   ],
   "source": [
    "\n",
    "dv=DictVectorizer(sparse=False)  \n",
    "\n",
    "df_train_x = df_train[['make', 'model', 'year', 'engine_hp', 'engine_cylinders',\n",
    "       'transmission_type', 'vehicle_style', 'highway_mpg', 'city_mpg']]\n",
    "\n",
    "df_val_x = df_val[['make', 'model', 'year', 'engine_hp', 'engine_cylinders',\n",
    "       'transmission_type', 'vehicle_style', 'highway_mpg', 'city_mpg']]\n",
    "\n",
    "for i in df_train_x.columns:\n",
    "    df_train_x_new=df_train_x.drop(i, axis=1)\n",
    "    df_val_x_new=df_val_x.drop(i, axis=1)\n",
    "    \n",
    "    dict_df_train_x_new=df_train_x_new.to_dict(orient='records')\n",
    "    dict_df_val_x_new=df_val_x_new.to_dict(orient='records')\n",
    "    dv.fit(dict_df_train_x_new)\n",
    "\n",
    "    X_train_new=dv.transform(dict_df_train_x_new)\n",
    "    X_val_new=dv.transform(dict_df_val_x_new)\n",
    "\n",
    "    model = LogisticRegression(solver='liblinear', C=10, max_iter=1000, random_state=42)\n",
    "    model.fit(X_train_new,y_train)\n",
    "    y_val_pred_new = model.predict_proba(X_val_new)[:,1]\n",
    "    high_price = (y_val_pred_new > 0.5)\n",
    "    \n",
    "    print (i)\n",
    "    mod_accuracy=round((high_price.astype(int)==y_val).mean(),4)\n",
    "    diff_acc = round(full_accuracy - mod_accuracy,3)\n",
    "    print (mod_accuracy)\n",
    "    print (\"difference:\", diff_acc)\n",
    "    print()\n"
   ]
  },
  {
   "cell_type": "markdown",
   "id": "65888c83-d660-4a6f-95e3-bbaa1de7e24c",
   "metadata": {},
   "source": [
    "# Answer - 6"
   ]
  },
  {
   "cell_type": "code",
   "execution_count": 625,
   "id": "c864eb3c-e674-494c-81e4-f48550837c3e",
   "metadata": {
    "tags": []
   },
   "outputs": [
    {
     "data": {
      "text/html": [
       "<div>\n",
       "<style scoped>\n",
       "    .dataframe tbody tr th:only-of-type {\n",
       "        vertical-align: middle;\n",
       "    }\n",
       "\n",
       "    .dataframe tbody tr th {\n",
       "        vertical-align: top;\n",
       "    }\n",
       "\n",
       "    .dataframe thead th {\n",
       "        text-align: right;\n",
       "    }\n",
       "</style>\n",
       "<table border=\"1\" class=\"dataframe\">\n",
       "  <thead>\n",
       "    <tr style=\"text-align: right;\">\n",
       "      <th></th>\n",
       "      <th>make</th>\n",
       "      <th>model</th>\n",
       "      <th>year</th>\n",
       "      <th>engine_hp</th>\n",
       "      <th>engine_cylinders</th>\n",
       "      <th>transmission_type</th>\n",
       "      <th>vehicle_style</th>\n",
       "      <th>highway_mpg</th>\n",
       "      <th>city_mpg</th>\n",
       "      <th>price</th>\n",
       "      <th>above_average</th>\n",
       "    </tr>\n",
       "  </thead>\n",
       "  <tbody>\n",
       "    <tr>\n",
       "      <th>0</th>\n",
       "      <td>BMW</td>\n",
       "      <td>1 Series M</td>\n",
       "      <td>2011</td>\n",
       "      <td>335.0</td>\n",
       "      <td>6.0</td>\n",
       "      <td>MANUAL</td>\n",
       "      <td>Coupe</td>\n",
       "      <td>26</td>\n",
       "      <td>19</td>\n",
       "      <td>46135</td>\n",
       "      <td>1.0</td>\n",
       "    </tr>\n",
       "    <tr>\n",
       "      <th>1</th>\n",
       "      <td>BMW</td>\n",
       "      <td>1 Series</td>\n",
       "      <td>2011</td>\n",
       "      <td>300.0</td>\n",
       "      <td>6.0</td>\n",
       "      <td>MANUAL</td>\n",
       "      <td>Convertible</td>\n",
       "      <td>28</td>\n",
       "      <td>19</td>\n",
       "      <td>40650</td>\n",
       "      <td>1.0</td>\n",
       "    </tr>\n",
       "    <tr>\n",
       "      <th>2</th>\n",
       "      <td>BMW</td>\n",
       "      <td>1 Series</td>\n",
       "      <td>2011</td>\n",
       "      <td>300.0</td>\n",
       "      <td>6.0</td>\n",
       "      <td>MANUAL</td>\n",
       "      <td>Coupe</td>\n",
       "      <td>28</td>\n",
       "      <td>20</td>\n",
       "      <td>36350</td>\n",
       "      <td>0.0</td>\n",
       "    </tr>\n",
       "    <tr>\n",
       "      <th>3</th>\n",
       "      <td>BMW</td>\n",
       "      <td>1 Series</td>\n",
       "      <td>2011</td>\n",
       "      <td>230.0</td>\n",
       "      <td>6.0</td>\n",
       "      <td>MANUAL</td>\n",
       "      <td>Coupe</td>\n",
       "      <td>28</td>\n",
       "      <td>18</td>\n",
       "      <td>29450</td>\n",
       "      <td>0.0</td>\n",
       "    </tr>\n",
       "    <tr>\n",
       "      <th>4</th>\n",
       "      <td>BMW</td>\n",
       "      <td>1 Series</td>\n",
       "      <td>2011</td>\n",
       "      <td>230.0</td>\n",
       "      <td>6.0</td>\n",
       "      <td>MANUAL</td>\n",
       "      <td>Convertible</td>\n",
       "      <td>28</td>\n",
       "      <td>18</td>\n",
       "      <td>34500</td>\n",
       "      <td>0.0</td>\n",
       "    </tr>\n",
       "    <tr>\n",
       "      <th>...</th>\n",
       "      <td>...</td>\n",
       "      <td>...</td>\n",
       "      <td>...</td>\n",
       "      <td>...</td>\n",
       "      <td>...</td>\n",
       "      <td>...</td>\n",
       "      <td>...</td>\n",
       "      <td>...</td>\n",
       "      <td>...</td>\n",
       "      <td>...</td>\n",
       "      <td>...</td>\n",
       "    </tr>\n",
       "    <tr>\n",
       "      <th>11909</th>\n",
       "      <td>Acura</td>\n",
       "      <td>ZDX</td>\n",
       "      <td>2012</td>\n",
       "      <td>300.0</td>\n",
       "      <td>6.0</td>\n",
       "      <td>AUTOMATIC</td>\n",
       "      <td>4dr Hatchback</td>\n",
       "      <td>23</td>\n",
       "      <td>16</td>\n",
       "      <td>46120</td>\n",
       "      <td>1.0</td>\n",
       "    </tr>\n",
       "    <tr>\n",
       "      <th>11910</th>\n",
       "      <td>Acura</td>\n",
       "      <td>ZDX</td>\n",
       "      <td>2012</td>\n",
       "      <td>300.0</td>\n",
       "      <td>6.0</td>\n",
       "      <td>AUTOMATIC</td>\n",
       "      <td>4dr Hatchback</td>\n",
       "      <td>23</td>\n",
       "      <td>16</td>\n",
       "      <td>56670</td>\n",
       "      <td>1.0</td>\n",
       "    </tr>\n",
       "    <tr>\n",
       "      <th>11911</th>\n",
       "      <td>Acura</td>\n",
       "      <td>ZDX</td>\n",
       "      <td>2012</td>\n",
       "      <td>300.0</td>\n",
       "      <td>6.0</td>\n",
       "      <td>AUTOMATIC</td>\n",
       "      <td>4dr Hatchback</td>\n",
       "      <td>23</td>\n",
       "      <td>16</td>\n",
       "      <td>50620</td>\n",
       "      <td>1.0</td>\n",
       "    </tr>\n",
       "    <tr>\n",
       "      <th>11912</th>\n",
       "      <td>Acura</td>\n",
       "      <td>ZDX</td>\n",
       "      <td>2013</td>\n",
       "      <td>300.0</td>\n",
       "      <td>6.0</td>\n",
       "      <td>AUTOMATIC</td>\n",
       "      <td>4dr Hatchback</td>\n",
       "      <td>23</td>\n",
       "      <td>16</td>\n",
       "      <td>50920</td>\n",
       "      <td>1.0</td>\n",
       "    </tr>\n",
       "    <tr>\n",
       "      <th>11913</th>\n",
       "      <td>Lincoln</td>\n",
       "      <td>Zephyr</td>\n",
       "      <td>2006</td>\n",
       "      <td>221.0</td>\n",
       "      <td>6.0</td>\n",
       "      <td>AUTOMATIC</td>\n",
       "      <td>Sedan</td>\n",
       "      <td>26</td>\n",
       "      <td>17</td>\n",
       "      <td>28995</td>\n",
       "      <td>0.0</td>\n",
       "    </tr>\n",
       "  </tbody>\n",
       "</table>\n",
       "<p>11914 rows × 11 columns</p>\n",
       "</div>"
      ],
      "text/plain": [
       "          make       model  year  engine_hp  engine_cylinders  \\\n",
       "0          BMW  1 Series M  2011      335.0               6.0   \n",
       "1          BMW    1 Series  2011      300.0               6.0   \n",
       "2          BMW    1 Series  2011      300.0               6.0   \n",
       "3          BMW    1 Series  2011      230.0               6.0   \n",
       "4          BMW    1 Series  2011      230.0               6.0   \n",
       "...        ...         ...   ...        ...               ...   \n",
       "11909    Acura         ZDX  2012      300.0               6.0   \n",
       "11910    Acura         ZDX  2012      300.0               6.0   \n",
       "11911    Acura         ZDX  2012      300.0               6.0   \n",
       "11912    Acura         ZDX  2013      300.0               6.0   \n",
       "11913  Lincoln      Zephyr  2006      221.0               6.0   \n",
       "\n",
       "      transmission_type  vehicle_style  highway_mpg  city_mpg  price  \\\n",
       "0                MANUAL          Coupe           26        19  46135   \n",
       "1                MANUAL    Convertible           28        19  40650   \n",
       "2                MANUAL          Coupe           28        20  36350   \n",
       "3                MANUAL          Coupe           28        18  29450   \n",
       "4                MANUAL    Convertible           28        18  34500   \n",
       "...                 ...            ...          ...       ...    ...   \n",
       "11909         AUTOMATIC  4dr Hatchback           23        16  46120   \n",
       "11910         AUTOMATIC  4dr Hatchback           23        16  56670   \n",
       "11911         AUTOMATIC  4dr Hatchback           23        16  50620   \n",
       "11912         AUTOMATIC  4dr Hatchback           23        16  50920   \n",
       "11913         AUTOMATIC          Sedan           26        17  28995   \n",
       "\n",
       "       above_average  \n",
       "0                1.0  \n",
       "1                1.0  \n",
       "2                0.0  \n",
       "3                0.0  \n",
       "4                0.0  \n",
       "...              ...  \n",
       "11909            1.0  \n",
       "11910            1.0  \n",
       "11911            1.0  \n",
       "11912            1.0  \n",
       "11913            0.0  \n",
       "\n",
       "[11914 rows x 11 columns]"
      ]
     },
     "execution_count": 625,
     "metadata": {},
     "output_type": "execute_result"
    }
   ],
   "source": [
    "df"
   ]
  },
  {
   "cell_type": "code",
   "execution_count": 601,
   "id": "5e086f0b-4892-4217-84f0-fbfd433c76db",
   "metadata": {
    "tags": []
   },
   "outputs": [],
   "source": [
    "df_wp=df[['make', 'model', 'year', 'engine_hp', 'engine_cylinders',\n",
    "       'transmission_type', 'vehicle_style', 'highway_mpg', 'city_mpg','price']]"
   ]
  },
  {
   "cell_type": "code",
   "execution_count": 602,
   "id": "8395bafc-a828-45b6-940b-c1d733190ab3",
   "metadata": {
    "tags": []
   },
   "outputs": [],
   "source": [
    "df_wp_x=df[['make', 'model', 'year', 'engine_hp', 'engine_cylinders',\n",
    "       'transmission_type', 'vehicle_style', 'highway_mpg', 'city_mpg']]"
   ]
  },
  {
   "cell_type": "code",
   "execution_count": 603,
   "id": "46fe5417-6544-4413-acef-08a0020ef6f5",
   "metadata": {
    "tags": []
   },
   "outputs": [],
   "source": [
    "df_wp_fulltrain, df_wp_test = train_test_split(df_wp, test_size=0.2,random_state=42)"
   ]
  },
  {
   "cell_type": "code",
   "execution_count": 604,
   "id": "74fc8979-50ad-4e10-8210-7e87c9a351e6",
   "metadata": {
    "tags": []
   },
   "outputs": [],
   "source": [
    "df_wp_train, df_wp_val = train_test_split(df_wp_fulltrain, test_size=0.25,random_state=42)"
   ]
  },
  {
   "cell_type": "code",
   "execution_count": 605,
   "id": "f16a7b81-1c8a-4c44-b1d6-5351e3a4f118",
   "metadata": {
    "tags": []
   },
   "outputs": [],
   "source": [
    "df_wp_train_x=df_wp_train[['make', 'model', 'year', 'engine_hp', 'engine_cylinders',\n",
    "       'transmission_type', 'vehicle_style', 'highway_mpg', 'city_mpg']]\n",
    "df_wp_val_x=df_wp_val[['make', 'model', 'year', 'engine_hp', 'engine_cylinders',\n",
    "       'transmission_type', 'vehicle_style', 'highway_mpg', 'city_mpg']]\n",
    "df_wp_test_x=df_wp_test[['make', 'model', 'year', 'engine_hp', 'engine_cylinders',\n",
    "       'transmission_type', 'vehicle_style', 'highway_mpg', 'city_mpg']]"
   ]
  },
  {
   "cell_type": "code",
   "execution_count": 668,
   "id": "f9ab91c0-b47e-484d-b995-ddf74b396669",
   "metadata": {
    "tags": []
   },
   "outputs": [],
   "source": [
    "dv=DictVectorizer(sparse=True)"
   ]
  },
  {
   "cell_type": "code",
   "execution_count": 657,
   "id": "736cb857-dcab-4dd1-aae0-219255c72812",
   "metadata": {
    "tags": []
   },
   "outputs": [],
   "source": [
    "dict_df_wp_train_x=df_wp_train_x.to_dict(orient='records')\n",
    "dict_df_wp_val_x=df_wp_val_x.to_dict(orient='records')\n",
    "dict_df_wp_test_x=df_wp_test_x.to_dict(orient='records')\n",
    "dict_df_wp_x=df_wp_x.to_dict(orient='records')\n"
   ]
  },
  {
   "cell_type": "code",
   "execution_count": 679,
   "id": "cbf32c49-744b-43ef-af6b-d8ae658c15ab",
   "metadata": {
    "tags": []
   },
   "outputs": [
    {
     "data": {
      "text/html": [
       "<style>#sk-container-id-49 {color: black;}#sk-container-id-49 pre{padding: 0;}#sk-container-id-49 div.sk-toggleable {background-color: white;}#sk-container-id-49 label.sk-toggleable__label {cursor: pointer;display: block;width: 100%;margin-bottom: 0;padding: 0.3em;box-sizing: border-box;text-align: center;}#sk-container-id-49 label.sk-toggleable__label-arrow:before {content: \"▸\";float: left;margin-right: 0.25em;color: #696969;}#sk-container-id-49 label.sk-toggleable__label-arrow:hover:before {color: black;}#sk-container-id-49 div.sk-estimator:hover label.sk-toggleable__label-arrow:before {color: black;}#sk-container-id-49 div.sk-toggleable__content {max-height: 0;max-width: 0;overflow: hidden;text-align: left;background-color: #f0f8ff;}#sk-container-id-49 div.sk-toggleable__content pre {margin: 0.2em;color: black;border-radius: 0.25em;background-color: #f0f8ff;}#sk-container-id-49 input.sk-toggleable__control:checked~div.sk-toggleable__content {max-height: 200px;max-width: 100%;overflow: auto;}#sk-container-id-49 input.sk-toggleable__control:checked~label.sk-toggleable__label-arrow:before {content: \"▾\";}#sk-container-id-49 div.sk-estimator input.sk-toggleable__control:checked~label.sk-toggleable__label {background-color: #d4ebff;}#sk-container-id-49 div.sk-label input.sk-toggleable__control:checked~label.sk-toggleable__label {background-color: #d4ebff;}#sk-container-id-49 input.sk-hidden--visually {border: 0;clip: rect(1px 1px 1px 1px);clip: rect(1px, 1px, 1px, 1px);height: 1px;margin: -1px;overflow: hidden;padding: 0;position: absolute;width: 1px;}#sk-container-id-49 div.sk-estimator {font-family: monospace;background-color: #f0f8ff;border: 1px dotted black;border-radius: 0.25em;box-sizing: border-box;margin-bottom: 0.5em;}#sk-container-id-49 div.sk-estimator:hover {background-color: #d4ebff;}#sk-container-id-49 div.sk-parallel-item::after {content: \"\";width: 100%;border-bottom: 1px solid gray;flex-grow: 1;}#sk-container-id-49 div.sk-label:hover label.sk-toggleable__label {background-color: #d4ebff;}#sk-container-id-49 div.sk-serial::before {content: \"\";position: absolute;border-left: 1px solid gray;box-sizing: border-box;top: 0;bottom: 0;left: 50%;z-index: 0;}#sk-container-id-49 div.sk-serial {display: flex;flex-direction: column;align-items: center;background-color: white;padding-right: 0.2em;padding-left: 0.2em;position: relative;}#sk-container-id-49 div.sk-item {position: relative;z-index: 1;}#sk-container-id-49 div.sk-parallel {display: flex;align-items: stretch;justify-content: center;background-color: white;position: relative;}#sk-container-id-49 div.sk-item::before, #sk-container-id-49 div.sk-parallel-item::before {content: \"\";position: absolute;border-left: 1px solid gray;box-sizing: border-box;top: 0;bottom: 0;left: 50%;z-index: -1;}#sk-container-id-49 div.sk-parallel-item {display: flex;flex-direction: column;z-index: 1;position: relative;background-color: white;}#sk-container-id-49 div.sk-parallel-item:first-child::after {align-self: flex-end;width: 50%;}#sk-container-id-49 div.sk-parallel-item:last-child::after {align-self: flex-start;width: 50%;}#sk-container-id-49 div.sk-parallel-item:only-child::after {width: 0;}#sk-container-id-49 div.sk-dashed-wrapped {border: 1px dashed gray;margin: 0 0.4em 0.5em 0.4em;box-sizing: border-box;padding-bottom: 0.4em;background-color: white;}#sk-container-id-49 div.sk-label label {font-family: monospace;font-weight: bold;display: inline-block;line-height: 1.2em;}#sk-container-id-49 div.sk-label-container {text-align: center;}#sk-container-id-49 div.sk-container {/* jupyter's `normalize.less` sets `[hidden] { display: none; }` but bootstrap.min.css set `[hidden] { display: none !important; }` so we also need the `!important` here to be able to override the default hidden behavior on the sphinx rendered scikit-learn.org. See: https://github.com/scikit-learn/scikit-learn/issues/21755 */display: inline-block !important;position: relative;}#sk-container-id-49 div.sk-text-repr-fallback {display: none;}</style><div id=\"sk-container-id-49\" class=\"sk-top-container\"><div class=\"sk-text-repr-fallback\"><pre>DictVectorizer()</pre><b>In a Jupyter environment, please rerun this cell to show the HTML representation or trust the notebook. <br />On GitHub, the HTML representation is unable to render, please try loading this page with nbviewer.org.</b></div><div class=\"sk-container\" hidden><div class=\"sk-item\"><div class=\"sk-estimator sk-toggleable\"><input class=\"sk-toggleable__control sk-hidden--visually\" id=\"sk-estimator-id-49\" type=\"checkbox\" checked><label for=\"sk-estimator-id-49\" class=\"sk-toggleable__label sk-toggleable__label-arrow\">DictVectorizer</label><div class=\"sk-toggleable__content\"><pre>DictVectorizer()</pre></div></div></div></div></div>"
      ],
      "text/plain": [
       "DictVectorizer()"
      ]
     },
     "execution_count": 679,
     "metadata": {},
     "output_type": "execute_result"
    }
   ],
   "source": [
    "dv.fit(dict_df_wp_x)"
   ]
  },
  {
   "cell_type": "code",
   "execution_count": 670,
   "id": "db843c13-8c7a-48eb-84ff-c505f069baa6",
   "metadata": {
    "tags": []
   },
   "outputs": [
    {
     "data": {
      "text/plain": [
       "Index(['make', 'model', 'year', 'engine_hp', 'engine_cylinders',\n",
       "       'transmission_type', 'vehicle_style', 'highway_mpg', 'city_mpg'],\n",
       "      dtype='object')"
      ]
     },
     "execution_count": 670,
     "metadata": {},
     "output_type": "execute_result"
    }
   ],
   "source": [
    "df_wp_train_x.columns"
   ]
  },
  {
   "cell_type": "code",
   "execution_count": 680,
   "id": "73c42be5-a0f9-4938-ad69-ff66b66bfcbf",
   "metadata": {
    "tags": []
   },
   "outputs": [],
   "source": [
    "X_train=dv.transform(dict_df_wp_train_x)\n",
    "X_val=dv.transform(dict_df_wp_val_x)\n",
    "X_test=dv.transform(dict_df_wp_test_x)"
   ]
  },
  {
   "cell_type": "code",
   "execution_count": 681,
   "id": "94b99b06-bc98-4318-95ed-6b862e40b710",
   "metadata": {
    "tags": []
   },
   "outputs": [],
   "source": [
    "y_train = np.log1p (df_wp_train.price). values \n",
    "y_val = np.log1p (df_wp_val.price). values \n",
    "y_test = np.log1p (df_wp_test.price). values "
   ]
  },
  {
   "cell_type": "code",
   "execution_count": 682,
   "id": "4f6700a9-d41f-42d4-9cd5-23745b72eeff",
   "metadata": {
    "tags": []
   },
   "outputs": [],
   "source": [
    "from sklearn.linear_model import Ridge"
   ]
  },
  {
   "cell_type": "code",
   "execution_count": 683,
   "id": "4b3410c1-773c-4bf9-8d48-004a082c482c",
   "metadata": {
    "tags": []
   },
   "outputs": [],
   "source": [
    "def rmse(y,y_pred):\n",
    "    diff=(y-y_pred)**2\n",
    "    mean_err=diff.mean()\n",
    "    return np.sqrt(mean_err)"
   ]
  },
  {
   "cell_type": "code",
   "execution_count": 684,
   "id": "0554824e-794c-4882-bfaf-130fa840b377",
   "metadata": {
    "tags": []
   },
   "outputs": [
    {
     "name": "stdout",
     "output_type": "stream",
     "text": [
      "0 0.2549\n",
      "0.01 0.2549\n",
      "0.1 0.255\n",
      "1 0.2583\n",
      "10 0.336\n"
     ]
    }
   ],
   "source": [
    "for i in [0, 0.01, 0.1, 1, 10]:   \n",
    "    model = Ridge(alpha = i, random_state=42,solver='sag')\n",
    "    model.fit(X_train, y_train)\n",
    "    y_pred=model.predict(X_val)\n",
    "    print (i, round(rmse(y_val,y_pred),4))"
   ]
  },
  {
   "cell_type": "code",
   "execution_count": null,
   "id": "b35034a6-7317-4a7c-84a1-8a45da0b3a1d",
   "metadata": {},
   "outputs": [],
   "source": []
  }
 ],
 "metadata": {
  "kernelspec": {
   "display_name": "Python 3 (ipykernel)",
   "language": "python",
   "name": "python3"
  },
  "language_info": {
   "codemirror_mode": {
    "name": "ipython",
    "version": 3
   },
   "file_extension": ".py",
   "mimetype": "text/x-python",
   "name": "python",
   "nbconvert_exporter": "python",
   "pygments_lexer": "ipython3",
   "version": "3.11.4"
  }
 },
 "nbformat": 4,
 "nbformat_minor": 5
}

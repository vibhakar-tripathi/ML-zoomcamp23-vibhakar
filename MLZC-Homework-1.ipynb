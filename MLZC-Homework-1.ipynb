{
 "cells": [
  {
   "cell_type": "code",
   "execution_count": 7,
   "id": "027decd3-13a5-4038-b9db-85b3310c6664",
   "metadata": {
    "tags": []
   },
   "outputs": [],
   "source": [
    "import numpy as np"
   ]
  },
  {
   "cell_type": "code",
   "execution_count": 42,
   "id": "9bfb19ab-6b68-4cdc-8169-893025d83e71",
   "metadata": {
    "tags": []
   },
   "outputs": [],
   "source": [
    "import pandas as pd"
   ]
  },
  {
   "cell_type": "code",
   "execution_count": 6,
   "id": "d31324eb-d365-4846-b026-5f0dba8930fc",
   "metadata": {
    "tags": []
   },
   "outputs": [],
   "source": [
    "import pandas as pd"
   ]
  },
  {
   "cell_type": "code",
   "execution_count": null,
   "id": "eab5b8ad-d35a-44e3-a037-c24af28efa39",
   "metadata": {},
   "outputs": [],
   "source": [
    "#Question-1"
   ]
  },
  {
   "cell_type": "code",
   "execution_count": 5,
   "id": "9e12d255-5278-4bce-bb52-a3b337306abd",
   "metadata": {
    "tags": []
   },
   "outputs": [
    {
     "data": {
      "text/plain": [
       "'2.0.3'"
      ]
     },
     "execution_count": 5,
     "metadata": {},
     "output_type": "execute_result"
    }
   ],
   "source": [
    "pd.__version__"
   ]
  },
  {
   "cell_type": "code",
   "execution_count": null,
   "id": "e2be3bed-bf63-44bd-ab76-bd9ebdc45f4c",
   "metadata": {},
   "outputs": [],
   "source": [
    "#Question-2"
   ]
  },
  {
   "cell_type": "code",
   "execution_count": 15,
   "id": "7d35424e-6952-4d3a-8d1a-ddef95c46a86",
   "metadata": {
    "tags": []
   },
   "outputs": [],
   "source": [
    "df=pd.read_csv('raw.githubusercontent.com_alexeygrigorev_datasets_master_housing.csv')"
   ]
  },
  {
   "cell_type": "code",
   "execution_count": 178,
   "id": "e4c52c61-d6d6-4f09-a156-4a186b410327",
   "metadata": {
    "tags": []
   },
   "outputs": [
    {
     "data": {
      "text/plain": [
       "(20640, 10)"
      ]
     },
     "execution_count": 178,
     "metadata": {},
     "output_type": "execute_result"
    }
   ],
   "source": [
    "df.shape"
   ]
  },
  {
   "cell_type": "code",
   "execution_count": null,
   "id": "74af30ce-f817-458f-a4ea-30a35256964b",
   "metadata": {},
   "outputs": [],
   "source": [
    "#Question-3"
   ]
  },
  {
   "cell_type": "code",
   "execution_count": 34,
   "id": "277070e9-fdaf-4e83-9ced-892149dcc099",
   "metadata": {
    "tags": []
   },
   "outputs": [
    {
     "data": {
      "text/plain": [
       "longitude               0\n",
       "latitude                0\n",
       "housing_median_age      0\n",
       "total_rooms             0\n",
       "total_bedrooms        207\n",
       "population              0\n",
       "households              0\n",
       "median_income           0\n",
       "median_house_value      0\n",
       "ocean_proximity         0\n",
       "dtype: int64"
      ]
     },
     "execution_count": 34,
     "metadata": {},
     "output_type": "execute_result"
    }
   ],
   "source": [
    "df.isnull().sum()"
   ]
  },
  {
   "cell_type": "code",
   "execution_count": null,
   "id": "4301c4d1-9047-4588-b221-841d2c4810ac",
   "metadata": {},
   "outputs": [],
   "source": [
    "#Question-4"
   ]
  },
  {
   "cell_type": "code",
   "execution_count": 36,
   "id": "253dc4bb-c254-42d5-ad8c-7e2d3800c179",
   "metadata": {
    "tags": []
   },
   "outputs": [
    {
     "data": {
      "text/plain": [
       "5"
      ]
     },
     "execution_count": 36,
     "metadata": {},
     "output_type": "execute_result"
    }
   ],
   "source": [
    "df['ocean_proximity'].nunique()"
   ]
  },
  {
   "cell_type": "code",
   "execution_count": null,
   "id": "6292fc0d-56ef-4959-a0de-8c8cca79b965",
   "metadata": {},
   "outputs": [],
   "source": [
    "Question-5"
   ]
  },
  {
   "cell_type": "code",
   "execution_count": 37,
   "id": "92d13b07-1b6a-4d71-908f-328bd05c3d6c",
   "metadata": {
    "tags": []
   },
   "outputs": [
    {
     "data": {
      "text/plain": [
       "ocean_proximity\n",
       "<1H OCEAN     240084.285464\n",
       "INLAND        124805.392001\n",
       "ISLAND        380440.000000\n",
       "NEAR BAY      259212.311790\n",
       "NEAR OCEAN    249433.977427\n",
       "Name: median_house_value, dtype: float64"
      ]
     },
     "execution_count": 37,
     "metadata": {},
     "output_type": "execute_result"
    }
   ],
   "source": [
    "df.groupby('ocean_proximity').median_house_value.mean()"
   ]
  },
  {
   "cell_type": "code",
   "execution_count": null,
   "id": "bf3bbe2b-49b1-44ba-aa42-7bb639962cd8",
   "metadata": {},
   "outputs": [],
   "source": [
    "#Question-6"
   ]
  },
  {
   "cell_type": "code",
   "execution_count": 181,
   "id": "406c6937-eacf-4463-9aae-2e3e51c4d532",
   "metadata": {
    "tags": []
   },
   "outputs": [],
   "source": [
    "avg_br=df['total_bedrooms'].mean()"
   ]
  },
  {
   "cell_type": "code",
   "execution_count": 76,
   "id": "6168a7bb-474c-4a2b-873d-3315a2afc26b",
   "metadata": {
    "tags": []
   },
   "outputs": [],
   "source": [
    "df['total_bedrooms'].fillna(avg_br,inplace=True)"
   ]
  },
  {
   "cell_type": "code",
   "execution_count": 182,
   "id": "94f38c49-df52-485e-8c4a-378274bdd311",
   "metadata": {
    "tags": []
   },
   "outputs": [],
   "source": [
    "avg_br_1=df['total_bedrooms'].mean()"
   ]
  },
  {
   "cell_type": "code",
   "execution_count": 78,
   "id": "fe9c157f-f4e0-4756-8cb7-cf3cbd374c5d",
   "metadata": {
    "tags": []
   },
   "outputs": [
    {
     "data": {
      "text/plain": [
       "longitude             0\n",
       "latitude              0\n",
       "housing_median_age    0\n",
       "total_rooms           0\n",
       "total_bedrooms        0\n",
       "population            0\n",
       "households            0\n",
       "median_income         0\n",
       "median_house_value    0\n",
       "ocean_proximity       0\n",
       "dtype: int64"
      ]
     },
     "execution_count": 78,
     "metadata": {},
     "output_type": "execute_result"
    }
   ],
   "source": [
    "df.isnull().sum()"
   ]
  },
  {
   "cell_type": "code",
   "execution_count": 184,
   "id": "d1b5f5c6-1cb5-46a9-b41b-92143448b94d",
   "metadata": {
    "tags": []
   },
   "outputs": [
    {
     "data": {
      "text/plain": [
       "True"
      ]
     },
     "execution_count": 184,
     "metadata": {},
     "output_type": "execute_result"
    }
   ],
   "source": [
    " avg_br==avg_br_1"
   ]
  },
  {
   "cell_type": "code",
   "execution_count": null,
   "id": "b34fd1f9-f742-49de-9434-cdff621ee49b",
   "metadata": {},
   "outputs": [],
   "source": [
    "#Question-7"
   ]
  },
  {
   "cell_type": "code",
   "execution_count": 188,
   "id": "3c040a01-874f-4729-b0db-4150331e3338",
   "metadata": {
    "tags": []
   },
   "outputs": [],
   "source": [
    "X=df[\n",
    "df['ocean_proximity']==\"ISLAND\"\n",
    "][['housing_median_age', 'total_rooms', 'total_bedrooms']].to_numpy()"
   ]
  },
  {
   "cell_type": "code",
   "execution_count": 189,
   "id": "a9cf0f5e-af92-4c57-924d-32282f64a3a3",
   "metadata": {
    "tags": []
   },
   "outputs": [
    {
     "data": {
      "text/plain": [
       "(5, 3)"
      ]
     },
     "execution_count": 189,
     "metadata": {},
     "output_type": "execute_result"
    }
   ],
   "source": [
    "X.shape"
   ]
  },
  {
   "cell_type": "code",
   "execution_count": 190,
   "id": "291e4ff0-55d7-471f-b4a6-dfa18b78958d",
   "metadata": {
    "tags": []
   },
   "outputs": [
    {
     "data": {
      "text/plain": [
       "numpy.ndarray"
      ]
     },
     "execution_count": 190,
     "metadata": {},
     "output_type": "execute_result"
    }
   ],
   "source": [
    "type(X)"
   ]
  },
  {
   "cell_type": "code",
   "execution_count": 240,
   "id": "8ae8df8b-794b-401d-a607-7ed9428fa92d",
   "metadata": {
    "tags": []
   },
   "outputs": [],
   "source": [
    "XTX=np.matmul(X.T,X)"
   ]
  },
  {
   "cell_type": "code",
   "execution_count": 241,
   "id": "037c2462-9335-4e8f-9804-8f97573dc01f",
   "metadata": {
    "tags": []
   },
   "outputs": [
    {
     "data": {
      "text/plain": [
       "array([[9.6820000e+03, 3.5105300e+05, 9.1357000e+04],\n",
       "       [3.5105300e+05, 1.4399307e+07, 3.7720360e+06],\n",
       "       [9.1357000e+04, 3.7720360e+06, 9.9835800e+05]])"
      ]
     },
     "execution_count": 241,
     "metadata": {},
     "output_type": "execute_result"
    }
   ],
   "source": [
    "XTX"
   ]
  },
  {
   "cell_type": "code",
   "execution_count": 242,
   "id": "72ee618e-cab4-4d6d-b495-283df18a5647",
   "metadata": {
    "tags": []
   },
   "outputs": [],
   "source": [
    "invXTX=np.linalg.inv(XTX)"
   ]
  },
  {
   "cell_type": "code",
   "execution_count": 243,
   "id": "e3bd219f-838a-4fd7-947c-ed3d136cbba2",
   "metadata": {
    "tags": []
   },
   "outputs": [
    {
     "data": {
      "text/plain": [
       "(3, 3)"
      ]
     },
     "execution_count": 243,
     "metadata": {},
     "output_type": "execute_result"
    }
   ],
   "source": [
    "invXTX.shape"
   ]
  },
  {
   "cell_type": "code",
   "execution_count": 244,
   "id": "3fe8589c-303d-4770-aab2-90174d7d7795",
   "metadata": {
    "tags": []
   },
   "outputs": [
    {
     "data": {
      "text/plain": [
       "(3, 5)"
      ]
     },
     "execution_count": 244,
     "metadata": {},
     "output_type": "execute_result"
    }
   ],
   "source": [
    "(X.T).shape"
   ]
  },
  {
   "cell_type": "code",
   "execution_count": 245,
   "id": "0d9f8882-145b-49e0-a858-8b6e6e0bc47a",
   "metadata": {
    "tags": []
   },
   "outputs": [],
   "source": [
    "InvXXT=invXTX.dot(X.T)"
   ]
  },
  {
   "cell_type": "code",
   "execution_count": 246,
   "id": "8f91809a-b86b-4d49-a698-421a1ceb6296",
   "metadata": {
    "tags": []
   },
   "outputs": [
    {
     "data": {
      "text/plain": [
       "(3, 5)"
      ]
     },
     "execution_count": 246,
     "metadata": {},
     "output_type": "execute_result"
    }
   ],
   "source": [
    "InvXXT.shape"
   ]
  },
  {
   "cell_type": "code",
   "execution_count": 233,
   "id": "6e2a2778-382f-4c82-98ed-0274da316371",
   "metadata": {
    "tags": []
   },
   "outputs": [],
   "source": [
    "y=np.array([950, 1300, 800, 1000, 1300])"
   ]
  },
  {
   "cell_type": "code",
   "execution_count": 247,
   "id": "2bfea6da-963a-4b74-81c3-f3480b094f72",
   "metadata": {
    "tags": []
   },
   "outputs": [
    {
     "data": {
      "text/plain": [
       "(5,)"
      ]
     },
     "execution_count": 247,
     "metadata": {},
     "output_type": "execute_result"
    }
   ],
   "source": [
    "y.shape"
   ]
  },
  {
   "cell_type": "code",
   "execution_count": 248,
   "id": "237a0f07-6ede-43d5-8298-38062d3e6b06",
   "metadata": {
    "tags": []
   },
   "outputs": [],
   "source": [
    "w=InvXXT.dot(y)"
   ]
  },
  {
   "cell_type": "code",
   "execution_count": 249,
   "id": "0694fb30-326b-470d-a2e0-e0915d328142",
   "metadata": {
    "tags": []
   },
   "outputs": [
    {
     "data": {
      "text/plain": [
       "array([23.12330961, -1.48124183,  5.69922946])"
      ]
     },
     "execution_count": 249,
     "metadata": {},
     "output_type": "execute_result"
    }
   ],
   "source": [
    "w"
   ]
  },
  {
   "cell_type": "code",
   "execution_count": null,
   "id": "b28abd6f-bb83-41f1-8b49-739377640c02",
   "metadata": {},
   "outputs": [],
   "source": []
  }
 ],
 "metadata": {
  "kernelspec": {
   "display_name": "Python 3 (ipykernel)",
   "language": "python",
   "name": "python3"
  },
  "language_info": {
   "codemirror_mode": {
    "name": "ipython",
    "version": 3
   },
   "file_extension": ".py",
   "mimetype": "text/x-python",
   "name": "python",
   "nbconvert_exporter": "python",
   "pygments_lexer": "ipython3",
   "version": "3.11.4"
  },
  "toc-autonumbering": true,
  "toc-showcode": true
 },
 "nbformat": 4,
 "nbformat_minor": 5
}

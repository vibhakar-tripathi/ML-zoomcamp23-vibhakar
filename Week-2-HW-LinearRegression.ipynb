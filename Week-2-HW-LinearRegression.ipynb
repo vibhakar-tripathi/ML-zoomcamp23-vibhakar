{
 "cells": [
  {
   "cell_type": "code",
   "execution_count": 378,
   "id": "9968fa57-7747-467f-bc67-2e9de7c60374",
   "metadata": {
    "tags": []
   },
   "outputs": [],
   "source": [
    "import numpy as np"
   ]
  },
  {
   "cell_type": "code",
   "execution_count": 379,
   "id": "d17610d9-18db-4b92-8d27-12b1da5fdb63",
   "metadata": {
    "tags": []
   },
   "outputs": [],
   "source": [
    "import pandas as pd"
   ]
  },
  {
   "cell_type": "code",
   "execution_count": 380,
   "id": "c218058a-7d9b-48b4-b702-293f3499586a",
   "metadata": {
    "tags": []
   },
   "outputs": [],
   "source": [
    "data= 'https://raw.githubusercontent.com/alexeygrigorev/datasets/master/housing.csv'"
   ]
  },
  {
   "cell_type": "code",
   "execution_count": 381,
   "id": "489193c0-a8b7-4fb9-9855-e9656e451680",
   "metadata": {
    "tags": []
   },
   "outputs": [
    {
     "name": "stdout",
     "output_type": "stream",
     "text": [
      "--2023-09-28 22:07:17--  https://raw.githubusercontent.com/alexeygrigorev/datasets/master/housing.csv\n",
      "Resolving raw.githubusercontent.com (raw.githubusercontent.com)... 185.199.108.133, 185.199.109.133, 185.199.110.133, ...\n",
      "Connecting to raw.githubusercontent.com (raw.githubusercontent.com)|185.199.108.133|:443... connected.\n",
      "HTTP request sent, awaiting response... 200 OK\n",
      "Length: 1423529 (1.4M) [text/plain]\n",
      "Saving to: ‘housing.csv.9’\n",
      "\n",
      "housing.csv.9       100%[===================>]   1.36M  3.96MB/s    in 0.3s    \n",
      "\n",
      "2023-09-28 22:07:19 (3.96 MB/s) - ‘housing.csv.9’ saved [1423529/1423529]\n",
      "\n"
     ]
    }
   ],
   "source": [
    "!wget $data"
   ]
  },
  {
   "cell_type": "code",
   "execution_count": 719,
   "id": "0557bd01-6122-490c-b1f2-bfdfb2fd0f17",
   "metadata": {
    "tags": []
   },
   "outputs": [],
   "source": [
    "df=pd.read_csv('housing.csv')"
   ]
  },
  {
   "cell_type": "code",
   "execution_count": 720,
   "id": "38c816e3-7efe-4a02-b286-0f8c7b1be1f6",
   "metadata": {
    "tags": []
   },
   "outputs": [],
   "source": [
    "newdf = df [(df['ocean_proximity'] ==  '<1H OCEAN') | (df['ocean_proximity'] == 'INLAND')]"
   ]
  },
  {
   "cell_type": "code",
   "execution_count": 814,
   "id": "bdd8fcd5-c6c0-4296-a603-72666f7ca1e6",
   "metadata": {
    "tags": []
   },
   "outputs": [],
   "source": [
    "columns = [\n",
    "'housing_median_age',\n",
    "'total_rooms',\n",
    "'total_bedrooms',\n",
    "'population',\n",
    "'households',\n",
    "'median_income',\n",
    "'median_house_value']"
   ]
  },
  {
   "cell_type": "code",
   "execution_count": 815,
   "id": "9c90039b-7978-4e1c-ac44-31415194ed2a",
   "metadata": {
    "tags": []
   },
   "outputs": [],
   "source": [
    "newdf=pd.DataFrame(newdf,columns=columns)"
   ]
  },
  {
   "cell_type": "markdown",
   "id": "ae0539f9-ba61-4d6c-a2ac-d7fce86e646f",
   "metadata": {},
   "source": [
    "# Question-1"
   ]
  },
  {
   "cell_type": "code",
   "execution_count": 816,
   "id": "09bc69bf-c59e-4145-897f-961a333a5524",
   "metadata": {
    "tags": []
   },
   "outputs": [
    {
     "data": {
      "text/plain": [
       "housing_median_age      0\n",
       "total_rooms             0\n",
       "total_bedrooms        157\n",
       "population              0\n",
       "households              0\n",
       "median_income           0\n",
       "median_house_value      0\n",
       "dtype: int64"
      ]
     },
     "execution_count": 816,
     "metadata": {},
     "output_type": "execute_result"
    }
   ],
   "source": [
    "newdf.isnull().sum()"
   ]
  },
  {
   "cell_type": "code",
   "execution_count": 12,
   "id": "c59bc2ba-26de-438c-9bd1-95c5625c553e",
   "metadata": {
    "tags": []
   },
   "outputs": [],
   "source": [
    "# total_bedrooms - 157"
   ]
  },
  {
   "cell_type": "markdown",
   "id": "4f965b25-72ec-4196-8e9e-66dcb5107bff",
   "metadata": {},
   "source": [
    "# Question -2"
   ]
  },
  {
   "cell_type": "code",
   "execution_count": 817,
   "id": "83379943-d01b-4f10-b9d8-93c120cf0417",
   "metadata": {
    "tags": []
   },
   "outputs": [
    {
     "data": {
      "text/html": [
       "<div>\n",
       "<style scoped>\n",
       "    .dataframe tbody tr th:only-of-type {\n",
       "        vertical-align: middle;\n",
       "    }\n",
       "\n",
       "    .dataframe tbody tr th {\n",
       "        vertical-align: top;\n",
       "    }\n",
       "\n",
       "    .dataframe thead th {\n",
       "        text-align: right;\n",
       "    }\n",
       "</style>\n",
       "<table border=\"1\" class=\"dataframe\">\n",
       "  <thead>\n",
       "    <tr style=\"text-align: right;\">\n",
       "      <th></th>\n",
       "      <th>housing_median_age</th>\n",
       "      <th>total_rooms</th>\n",
       "      <th>total_bedrooms</th>\n",
       "      <th>population</th>\n",
       "      <th>households</th>\n",
       "      <th>median_income</th>\n",
       "      <th>median_house_value</th>\n",
       "    </tr>\n",
       "  </thead>\n",
       "  <tbody>\n",
       "    <tr>\n",
       "      <th>count</th>\n",
       "      <td>15687.000000</td>\n",
       "      <td>15687.000000</td>\n",
       "      <td>15530.000000</td>\n",
       "      <td>15687.000000</td>\n",
       "      <td>15687.000000</td>\n",
       "      <td>15687.000000</td>\n",
       "      <td>15687.000000</td>\n",
       "    </tr>\n",
       "    <tr>\n",
       "      <th>mean</th>\n",
       "      <td>27.188118</td>\n",
       "      <td>2665.677312</td>\n",
       "      <td>541.244688</td>\n",
       "      <td>1466.317205</td>\n",
       "      <td>500.916491</td>\n",
       "      <td>3.804019</td>\n",
       "      <td>191943.020017</td>\n",
       "    </tr>\n",
       "    <tr>\n",
       "      <th>std</th>\n",
       "      <td>12.057128</td>\n",
       "      <td>2257.672743</td>\n",
       "      <td>435.650018</td>\n",
       "      <td>1180.389908</td>\n",
       "      <td>392.759399</td>\n",
       "      <td>1.857158</td>\n",
       "      <td>108801.077620</td>\n",
       "    </tr>\n",
       "    <tr>\n",
       "      <th>min</th>\n",
       "      <td>1.000000</td>\n",
       "      <td>2.000000</td>\n",
       "      <td>2.000000</td>\n",
       "      <td>3.000000</td>\n",
       "      <td>2.000000</td>\n",
       "      <td>0.499900</td>\n",
       "      <td>14999.000000</td>\n",
       "    </tr>\n",
       "    <tr>\n",
       "      <th>25%</th>\n",
       "      <td>17.000000</td>\n",
       "      <td>1441.000000</td>\n",
       "      <td>295.000000</td>\n",
       "      <td>802.000000</td>\n",
       "      <td>278.000000</td>\n",
       "      <td>2.520800</td>\n",
       "      <td>111300.000000</td>\n",
       "    </tr>\n",
       "    <tr>\n",
       "      <th>50%</th>\n",
       "      <td>27.000000</td>\n",
       "      <td>2118.000000</td>\n",
       "      <td>432.000000</td>\n",
       "      <td>1195.000000</td>\n",
       "      <td>406.000000</td>\n",
       "      <td>3.468800</td>\n",
       "      <td>166900.000000</td>\n",
       "    </tr>\n",
       "    <tr>\n",
       "      <th>75%</th>\n",
       "      <td>36.000000</td>\n",
       "      <td>3172.000000</td>\n",
       "      <td>645.000000</td>\n",
       "      <td>1777.000000</td>\n",
       "      <td>602.000000</td>\n",
       "      <td>4.686200</td>\n",
       "      <td>241100.000000</td>\n",
       "    </tr>\n",
       "    <tr>\n",
       "      <th>max</th>\n",
       "      <td>52.000000</td>\n",
       "      <td>39320.000000</td>\n",
       "      <td>6445.000000</td>\n",
       "      <td>35682.000000</td>\n",
       "      <td>6082.000000</td>\n",
       "      <td>15.000100</td>\n",
       "      <td>500001.000000</td>\n",
       "    </tr>\n",
       "  </tbody>\n",
       "</table>\n",
       "</div>"
      ],
      "text/plain": [
       "       housing_median_age   total_rooms  total_bedrooms    population  \\\n",
       "count        15687.000000  15687.000000    15530.000000  15687.000000   \n",
       "mean            27.188118   2665.677312      541.244688   1466.317205   \n",
       "std             12.057128   2257.672743      435.650018   1180.389908   \n",
       "min              1.000000      2.000000        2.000000      3.000000   \n",
       "25%             17.000000   1441.000000      295.000000    802.000000   \n",
       "50%             27.000000   2118.000000      432.000000   1195.000000   \n",
       "75%             36.000000   3172.000000      645.000000   1777.000000   \n",
       "max             52.000000  39320.000000     6445.000000  35682.000000   \n",
       "\n",
       "         households  median_income  median_house_value  \n",
       "count  15687.000000   15687.000000        15687.000000  \n",
       "mean     500.916491       3.804019       191943.020017  \n",
       "std      392.759399       1.857158       108801.077620  \n",
       "min        2.000000       0.499900        14999.000000  \n",
       "25%      278.000000       2.520800       111300.000000  \n",
       "50%      406.000000       3.468800       166900.000000  \n",
       "75%      602.000000       4.686200       241100.000000  \n",
       "max     6082.000000      15.000100       500001.000000  "
      ]
     },
     "execution_count": 817,
     "metadata": {},
     "output_type": "execute_result"
    }
   ],
   "source": [
    "newdf.describe()"
   ]
  },
  {
   "cell_type": "code",
   "execution_count": 15,
   "id": "d7b326f2-12f5-4b91-a139-d0de7e9fc936",
   "metadata": {
    "tags": []
   },
   "outputs": [],
   "source": [
    "# median (50% percentile) for variable 'population' - 1195"
   ]
  },
  {
   "cell_type": "code",
   "execution_count": 818,
   "id": "4e974c2d-a8cf-4992-bad4-c44dc78d7352",
   "metadata": {
    "tags": []
   },
   "outputs": [],
   "source": [
    "def split_data_count(index_len):\n",
    "    n_test=int(index_len*.2)\n",
    "    n_val=int(index_len*.2)\n",
    "    n_train=index_len - n_test - n_val\n",
    "    return([n_train,n_val,n_test])"
   ]
  },
  {
   "cell_type": "code",
   "execution_count": 819,
   "id": "33bc0f79-a465-4a0c-bb2d-ca589cbd3034",
   "metadata": {
    "tags": []
   },
   "outputs": [],
   "source": [
    "def split_data(df,index_array,n_train,n_val,n_test):\n",
    "    #df_train=pd.DataFrame()\n",
    "    #df_val=pd.DataFrame()\n",
    "    #df_test=pd.DataFrame()\n",
    "    df_train=df.iloc[idx[:n_train]]\n",
    "    df_val=df.iloc[idx[n_train:n_train+n_val]]\n",
    "    df_test=df.iloc[idx[n_train+n_val:]]\n",
    "    df_train.reset_index(drop=True,inplace=True)\n",
    "    df_val.reset_index(drop=True,inplace=True)\n",
    "    df_test.reset_index(drop=True,inplace=True)\n",
    "    return ([df_train,df_val,df_test])"
   ]
  },
  {
   "cell_type": "markdown",
   "id": "0c6e2979-abdc-4312-848b-707bb7e103f9",
   "metadata": {},
   "source": [
    "# Question - 3 Linear regression without regularization"
   ]
  },
  {
   "cell_type": "code",
   "execution_count": 820,
   "id": "c5b589ac-29ab-4fff-b9cb-39d219367f02",
   "metadata": {
    "tags": []
   },
   "outputs": [],
   "source": [
    "idx=np.arange(len(newdf))"
   ]
  },
  {
   "cell_type": "code",
   "execution_count": 821,
   "id": "6ec909f4-c472-4e80-ad8c-683c42d0c516",
   "metadata": {
    "tags": []
   },
   "outputs": [],
   "source": [
    "np.random.seed(42)"
   ]
  },
  {
   "cell_type": "code",
   "execution_count": 822,
   "id": "5cb6709c-251d-4921-a55b-8fdb281c90aa",
   "metadata": {
    "tags": []
   },
   "outputs": [],
   "source": [
    "np.random.shuffle(idx)"
   ]
  },
  {
   "cell_type": "code",
   "execution_count": 823,
   "id": "7b8b63a5-e167-4278-93e2-92a93ed94648",
   "metadata": {
    "tags": []
   },
   "outputs": [],
   "source": [
    "    index_len=len(idx)\n",
    "    n_val=int(index_len*.2)\n",
    "    n_test=int(index_len*.2)\n",
    "    \n",
    "    n_train=index_len - n_test - n_val"
   ]
  },
  {
   "cell_type": "code",
   "execution_count": 824,
   "id": "28dfbad4-b2e4-4725-b707-5616ac67cbf9",
   "metadata": {
    "tags": []
   },
   "outputs": [],
   "source": [
    "n_train,n_val,n_test=split_data_count(len(idx))"
   ]
  },
  {
   "cell_type": "code",
   "execution_count": 825,
   "id": "8f3dd881-54ca-4cc8-91de-9411a78437ce",
   "metadata": {
    "tags": []
   },
   "outputs": [
    {
     "data": {
      "text/plain": [
       "(9413, 3137, 3137)"
      ]
     },
     "execution_count": 825,
     "metadata": {},
     "output_type": "execute_result"
    }
   ],
   "source": [
    "n_train,n_val,n_test"
   ]
  },
  {
   "cell_type": "code",
   "execution_count": 597,
   "id": "8d8066bc-fbdb-4069-8f66-c769ba13dfa3",
   "metadata": {
    "tags": []
   },
   "outputs": [],
   "source": [
    "#x_train= df_train[['total_rooms','total_bedrooms','population','households']]"
   ]
  },
  {
   "cell_type": "code",
   "execution_count": 826,
   "id": "c249fdf3-feb0-4fc4-9fad-92dc922cfa32",
   "metadata": {
    "tags": []
   },
   "outputs": [],
   "source": [
    "    df_train=newdf.iloc[idx[:n_train]]\n",
    "    df_val=newdf.iloc[idx[n_train:n_train+n_val]]\n",
    "    df_test=newdf.iloc[idx[n_train+n_val:]]\n",
    "    df_train.reset_index(drop=True,inplace=True)\n",
    "    df_val.reset_index(drop=True,inplace=True)\n",
    "    df_test.reset_index(drop=True,inplace=True)"
   ]
  },
  {
   "cell_type": "code",
   "execution_count": 605,
   "id": "4aa58f7c-d8f1-43bc-bc7d-0cfa72821aa4",
   "metadata": {
    "tags": []
   },
   "outputs": [],
   "source": [
    "#df_train,df_val,df_test = split_data(newdf,idx,n_train,n_val,n_test)"
   ]
  },
  {
   "cell_type": "code",
   "execution_count": 634,
   "id": "6405bbe1-70f0-4e4b-8be1-39e00ffc593c",
   "metadata": {
    "tags": []
   },
   "outputs": [],
   "source": [
    "#feature_columns=['total_rooms','total_bedrooms','population','households']"
   ]
  },
  {
   "cell_type": "code",
   "execution_count": 827,
   "id": "53cdf803-21cc-434d-b877-ead284b5434a",
   "metadata": {
    "tags": []
   },
   "outputs": [],
   "source": [
    "def prepare_data(x,feat_columns,fillValue=0):\n",
    "   # x=x[feat_columns]\n",
    "    prepared_x=x.fillna(0)\n",
    "    return prepared_x"
   ]
  },
  {
   "cell_type": "code",
   "execution_count": 828,
   "id": "19f246b6-e526-41aa-ba46-8c53bfb442be",
   "metadata": {
    "tags": []
   },
   "outputs": [],
   "source": [
    "\n",
    "x_train=prepare_data(df_train,feature_columns,0)\n",
    "x_val=prepare_data(df_val,feature_columns,0)\n",
    "x_test=prepare_data(df_test,feature_columns,0)\n",
    "del x_train['median_house_value']\n",
    "del x_val['median_house_value']\n",
    "del x_test['median_house_value']"
   ]
  },
  {
   "cell_type": "code",
   "execution_count": 829,
   "id": "069b515c-aeea-4e88-9c07-cc20bcf07a82",
   "metadata": {
    "tags": []
   },
   "outputs": [
    {
     "data": {
      "text/html": [
       "<div>\n",
       "<style scoped>\n",
       "    .dataframe tbody tr th:only-of-type {\n",
       "        vertical-align: middle;\n",
       "    }\n",
       "\n",
       "    .dataframe tbody tr th {\n",
       "        vertical-align: top;\n",
       "    }\n",
       "\n",
       "    .dataframe thead th {\n",
       "        text-align: right;\n",
       "    }\n",
       "</style>\n",
       "<table border=\"1\" class=\"dataframe\">\n",
       "  <thead>\n",
       "    <tr style=\"text-align: right;\">\n",
       "      <th></th>\n",
       "      <th>housing_median_age</th>\n",
       "      <th>total_rooms</th>\n",
       "      <th>total_bedrooms</th>\n",
       "      <th>population</th>\n",
       "      <th>households</th>\n",
       "      <th>median_income</th>\n",
       "    </tr>\n",
       "  </thead>\n",
       "  <tbody>\n",
       "    <tr>\n",
       "      <th>0</th>\n",
       "      <td>9.0</td>\n",
       "      <td>1608.0</td>\n",
       "      <td>297.0</td>\n",
       "      <td>1057.0</td>\n",
       "      <td>295.0</td>\n",
       "      <td>3.7143</td>\n",
       "    </tr>\n",
       "    <tr>\n",
       "      <th>1</th>\n",
       "      <td>34.0</td>\n",
       "      <td>1410.0</td>\n",
       "      <td>214.0</td>\n",
       "      <td>837.0</td>\n",
       "      <td>240.0</td>\n",
       "      <td>6.1168</td>\n",
       "    </tr>\n",
       "    <tr>\n",
       "      <th>2</th>\n",
       "      <td>32.0</td>\n",
       "      <td>1116.0</td>\n",
       "      <td>328.0</td>\n",
       "      <td>1265.0</td>\n",
       "      <td>302.0</td>\n",
       "      <td>2.2950</td>\n",
       "    </tr>\n",
       "    <tr>\n",
       "      <th>3</th>\n",
       "      <td>29.0</td>\n",
       "      <td>2409.0</td>\n",
       "      <td>436.0</td>\n",
       "      <td>1142.0</td>\n",
       "      <td>440.0</td>\n",
       "      <td>3.6895</td>\n",
       "    </tr>\n",
       "    <tr>\n",
       "      <th>4</th>\n",
       "      <td>10.0</td>\n",
       "      <td>3208.0</td>\n",
       "      <td>636.0</td>\n",
       "      <td>1395.0</td>\n",
       "      <td>582.0</td>\n",
       "      <td>3.4455</td>\n",
       "    </tr>\n",
       "    <tr>\n",
       "      <th>...</th>\n",
       "      <td>...</td>\n",
       "      <td>...</td>\n",
       "      <td>...</td>\n",
       "      <td>...</td>\n",
       "      <td>...</td>\n",
       "      <td>...</td>\n",
       "    </tr>\n",
       "    <tr>\n",
       "      <th>3132</th>\n",
       "      <td>29.0</td>\n",
       "      <td>2610.0</td>\n",
       "      <td>597.0</td>\n",
       "      <td>1659.0</td>\n",
       "      <td>571.0</td>\n",
       "      <td>1.5911</td>\n",
       "    </tr>\n",
       "    <tr>\n",
       "      <th>3133</th>\n",
       "      <td>25.0</td>\n",
       "      <td>2516.0</td>\n",
       "      <td>0.0</td>\n",
       "      <td>1266.0</td>\n",
       "      <td>494.0</td>\n",
       "      <td>1.7566</td>\n",
       "    </tr>\n",
       "    <tr>\n",
       "      <th>3134</th>\n",
       "      <td>30.0</td>\n",
       "      <td>5308.0</td>\n",
       "      <td>854.0</td>\n",
       "      <td>2114.0</td>\n",
       "      <td>838.0</td>\n",
       "      <td>5.1985</td>\n",
       "    </tr>\n",
       "    <tr>\n",
       "      <th>3135</th>\n",
       "      <td>36.0</td>\n",
       "      <td>3514.0</td>\n",
       "      <td>818.0</td>\n",
       "      <td>2277.0</td>\n",
       "      <td>828.0</td>\n",
       "      <td>3.1211</td>\n",
       "    </tr>\n",
       "    <tr>\n",
       "      <th>3136</th>\n",
       "      <td>36.0</td>\n",
       "      <td>2637.0</td>\n",
       "      <td>476.0</td>\n",
       "      <td>1385.0</td>\n",
       "      <td>483.0</td>\n",
       "      <td>4.1739</td>\n",
       "    </tr>\n",
       "  </tbody>\n",
       "</table>\n",
       "<p>3137 rows × 6 columns</p>\n",
       "</div>"
      ],
      "text/plain": [
       "      housing_median_age  total_rooms  total_bedrooms  population  households  \\\n",
       "0                    9.0       1608.0           297.0      1057.0       295.0   \n",
       "1                   34.0       1410.0           214.0       837.0       240.0   \n",
       "2                   32.0       1116.0           328.0      1265.0       302.0   \n",
       "3                   29.0       2409.0           436.0      1142.0       440.0   \n",
       "4                   10.0       3208.0           636.0      1395.0       582.0   \n",
       "...                  ...          ...             ...         ...         ...   \n",
       "3132                29.0       2610.0           597.0      1659.0       571.0   \n",
       "3133                25.0       2516.0             0.0      1266.0       494.0   \n",
       "3134                30.0       5308.0           854.0      2114.0       838.0   \n",
       "3135                36.0       3514.0           818.0      2277.0       828.0   \n",
       "3136                36.0       2637.0           476.0      1385.0       483.0   \n",
       "\n",
       "      median_income  \n",
       "0            3.7143  \n",
       "1            6.1168  \n",
       "2            2.2950  \n",
       "3            3.6895  \n",
       "4            3.4455  \n",
       "...             ...  \n",
       "3132         1.5911  \n",
       "3133         1.7566  \n",
       "3134         5.1985  \n",
       "3135         3.1211  \n",
       "3136         4.1739  \n",
       "\n",
       "[3137 rows x 6 columns]"
      ]
     },
     "execution_count": 829,
     "metadata": {},
     "output_type": "execute_result"
    }
   ],
   "source": [
    "x_val"
   ]
  },
  {
   "cell_type": "code",
   "execution_count": 598,
   "id": "f10a6825-e670-4ef0-b8ed-9448d6a7a36f",
   "metadata": {
    "tags": []
   },
   "outputs": [],
   "source": [
    "#x_train= df_train[['total_rooms','total_bedrooms','population','households']]\n",
    "#x_train=x_train.fillna(0)\n",
    "#x_val= df_val[['total_rooms','total_bedrooms','population','households']]\n",
    "#x_val=x_val.fillna(0)\n",
    "#x_test= df_test[['total_rooms','total_bedrooms','population','households']]\n",
    "#x_test=x_test.fillna(0)\n",
    "\n"
   ]
  },
  {
   "cell_type": "code",
   "execution_count": 830,
   "id": "1eb43592-d3fa-4d64-bd5c-7d664150a1dc",
   "metadata": {
    "tags": []
   },
   "outputs": [],
   "source": [
    "def train_linear_regression(x,y):\n",
    "    ones=np.ones(x.shape[0])\n",
    "    x=np.column_stack([ones,x])\n",
    "    XTX=x.T.dot(x)\n",
    "    invXTX=np.linalg.inv(XTX)\n",
    "    w=invXTX.dot(x.T).dot(y)\n",
    "    print (w)\n",
    "    return w[0],w[1:]"
   ]
  },
  {
   "cell_type": "code",
   "execution_count": 831,
   "id": "bea170c0-1224-4f2f-9606-bc3ecf3e301a",
   "metadata": {
    "tags": []
   },
   "outputs": [
    {
     "data": {
      "text/html": [
       "<div>\n",
       "<style scoped>\n",
       "    .dataframe tbody tr th:only-of-type {\n",
       "        vertical-align: middle;\n",
       "    }\n",
       "\n",
       "    .dataframe tbody tr th {\n",
       "        vertical-align: top;\n",
       "    }\n",
       "\n",
       "    .dataframe thead th {\n",
       "        text-align: right;\n",
       "    }\n",
       "</style>\n",
       "<table border=\"1\" class=\"dataframe\">\n",
       "  <thead>\n",
       "    <tr style=\"text-align: right;\">\n",
       "      <th></th>\n",
       "      <th>housing_median_age</th>\n",
       "      <th>total_rooms</th>\n",
       "      <th>total_bedrooms</th>\n",
       "      <th>population</th>\n",
       "      <th>households</th>\n",
       "      <th>median_income</th>\n",
       "    </tr>\n",
       "  </thead>\n",
       "  <tbody>\n",
       "    <tr>\n",
       "      <th>0</th>\n",
       "      <td>22.0</td>\n",
       "      <td>2935.0</td>\n",
       "      <td>523.0</td>\n",
       "      <td>1927.0</td>\n",
       "      <td>530.0</td>\n",
       "      <td>2.5875</td>\n",
       "    </tr>\n",
       "    <tr>\n",
       "      <th>1</th>\n",
       "      <td>16.0</td>\n",
       "      <td>2426.0</td>\n",
       "      <td>426.0</td>\n",
       "      <td>1319.0</td>\n",
       "      <td>446.0</td>\n",
       "      <td>4.8125</td>\n",
       "    </tr>\n",
       "    <tr>\n",
       "      <th>2</th>\n",
       "      <td>26.0</td>\n",
       "      <td>3653.0</td>\n",
       "      <td>568.0</td>\n",
       "      <td>1930.0</td>\n",
       "      <td>585.0</td>\n",
       "      <td>5.7301</td>\n",
       "    </tr>\n",
       "    <tr>\n",
       "      <th>3</th>\n",
       "      <td>32.0</td>\n",
       "      <td>2668.0</td>\n",
       "      <td>609.0</td>\n",
       "      <td>1512.0</td>\n",
       "      <td>541.0</td>\n",
       "      <td>2.9422</td>\n",
       "    </tr>\n",
       "    <tr>\n",
       "      <th>4</th>\n",
       "      <td>39.0</td>\n",
       "      <td>2479.0</td>\n",
       "      <td>541.0</td>\n",
       "      <td>1990.0</td>\n",
       "      <td>506.0</td>\n",
       "      <td>2.4306</td>\n",
       "    </tr>\n",
       "    <tr>\n",
       "      <th>...</th>\n",
       "      <td>...</td>\n",
       "      <td>...</td>\n",
       "      <td>...</td>\n",
       "      <td>...</td>\n",
       "      <td>...</td>\n",
       "      <td>...</td>\n",
       "    </tr>\n",
       "    <tr>\n",
       "      <th>9408</th>\n",
       "      <td>33.0</td>\n",
       "      <td>2005.0</td>\n",
       "      <td>392.0</td>\n",
       "      <td>1043.0</td>\n",
       "      <td>351.0</td>\n",
       "      <td>5.3080</td>\n",
       "    </tr>\n",
       "    <tr>\n",
       "      <th>9409</th>\n",
       "      <td>28.0</td>\n",
       "      <td>1673.0</td>\n",
       "      <td>385.0</td>\n",
       "      <td>1434.0</td>\n",
       "      <td>371.0</td>\n",
       "      <td>2.0586</td>\n",
       "    </tr>\n",
       "    <tr>\n",
       "      <th>9410</th>\n",
       "      <td>46.0</td>\n",
       "      <td>1238.0</td>\n",
       "      <td>147.0</td>\n",
       "      <td>377.0</td>\n",
       "      <td>145.0</td>\n",
       "      <td>8.4546</td>\n",
       "    </tr>\n",
       "    <tr>\n",
       "      <th>9411</th>\n",
       "      <td>24.0</td>\n",
       "      <td>3668.0</td>\n",
       "      <td>890.0</td>\n",
       "      <td>3151.0</td>\n",
       "      <td>810.0</td>\n",
       "      <td>3.0526</td>\n",
       "    </tr>\n",
       "    <tr>\n",
       "      <th>9412</th>\n",
       "      <td>18.0</td>\n",
       "      <td>1307.0</td>\n",
       "      <td>441.0</td>\n",
       "      <td>884.0</td>\n",
       "      <td>456.0</td>\n",
       "      <td>2.9338</td>\n",
       "    </tr>\n",
       "  </tbody>\n",
       "</table>\n",
       "<p>9413 rows × 6 columns</p>\n",
       "</div>"
      ],
      "text/plain": [
       "      housing_median_age  total_rooms  total_bedrooms  population  households  \\\n",
       "0                   22.0       2935.0           523.0      1927.0       530.0   \n",
       "1                   16.0       2426.0           426.0      1319.0       446.0   \n",
       "2                   26.0       3653.0           568.0      1930.0       585.0   \n",
       "3                   32.0       2668.0           609.0      1512.0       541.0   \n",
       "4                   39.0       2479.0           541.0      1990.0       506.0   \n",
       "...                  ...          ...             ...         ...         ...   \n",
       "9408                33.0       2005.0           392.0      1043.0       351.0   \n",
       "9409                28.0       1673.0           385.0      1434.0       371.0   \n",
       "9410                46.0       1238.0           147.0       377.0       145.0   \n",
       "9411                24.0       3668.0           890.0      3151.0       810.0   \n",
       "9412                18.0       1307.0           441.0       884.0       456.0   \n",
       "\n",
       "      median_income  \n",
       "0            2.5875  \n",
       "1            4.8125  \n",
       "2            5.7301  \n",
       "3            2.9422  \n",
       "4            2.4306  \n",
       "...             ...  \n",
       "9408         5.3080  \n",
       "9409         2.0586  \n",
       "9410         8.4546  \n",
       "9411         3.0526  \n",
       "9412         2.9338  \n",
       "\n",
       "[9413 rows x 6 columns]"
      ]
     },
     "execution_count": 831,
     "metadata": {},
     "output_type": "execute_result"
    }
   ],
   "source": [
    "x_train"
   ]
  },
  {
   "cell_type": "code",
   "execution_count": 832,
   "id": "438f20af-f141-4109-b6c1-a750dda0e645",
   "metadata": {
    "tags": []
   },
   "outputs": [
    {
     "name": "stdout",
     "output_type": "stream",
     "text": [
      "[ 1.20144318e+01  2.18978347e-04  1.39798242e-08  1.53544809e-05\n",
      "  1.70257208e-06 -3.27620097e-05 -2.32639755e-03]\n"
     ]
    }
   ],
   "source": [
    "w0,w=train_linear_regression(x_train,y_train)"
   ]
  },
  {
   "cell_type": "code",
   "execution_count": 833,
   "id": "f3d4c5d8-8132-4ebb-bd9b-376f3241e526",
   "metadata": {
    "tags": []
   },
   "outputs": [],
   "source": [
    "y_train=np.log1p(df_train.median_house_value).values\n",
    "y_val=np.log1p(df_val.median_house_value).values\n",
    "y_test=np.log1p(df_test.median_house_value).values\n"
   ]
  },
  {
   "cell_type": "code",
   "execution_count": 834,
   "id": "18d1b0ab-bd56-4036-8ce8-1c8c0c0bf722",
   "metadata": {
    "tags": []
   },
   "outputs": [
    {
     "data": {
      "text/html": [
       "<div>\n",
       "<style scoped>\n",
       "    .dataframe tbody tr th:only-of-type {\n",
       "        vertical-align: middle;\n",
       "    }\n",
       "\n",
       "    .dataframe tbody tr th {\n",
       "        vertical-align: top;\n",
       "    }\n",
       "\n",
       "    .dataframe thead th {\n",
       "        text-align: right;\n",
       "    }\n",
       "</style>\n",
       "<table border=\"1\" class=\"dataframe\">\n",
       "  <thead>\n",
       "    <tr style=\"text-align: right;\">\n",
       "      <th></th>\n",
       "      <th>housing_median_age</th>\n",
       "      <th>total_rooms</th>\n",
       "      <th>total_bedrooms</th>\n",
       "      <th>population</th>\n",
       "      <th>households</th>\n",
       "      <th>median_income</th>\n",
       "    </tr>\n",
       "  </thead>\n",
       "  <tbody>\n",
       "    <tr>\n",
       "      <th>0</th>\n",
       "      <td>9.0</td>\n",
       "      <td>1608.0</td>\n",
       "      <td>297.0</td>\n",
       "      <td>1057.0</td>\n",
       "      <td>295.0</td>\n",
       "      <td>3.7143</td>\n",
       "    </tr>\n",
       "    <tr>\n",
       "      <th>1</th>\n",
       "      <td>34.0</td>\n",
       "      <td>1410.0</td>\n",
       "      <td>214.0</td>\n",
       "      <td>837.0</td>\n",
       "      <td>240.0</td>\n",
       "      <td>6.1168</td>\n",
       "    </tr>\n",
       "    <tr>\n",
       "      <th>2</th>\n",
       "      <td>32.0</td>\n",
       "      <td>1116.0</td>\n",
       "      <td>328.0</td>\n",
       "      <td>1265.0</td>\n",
       "      <td>302.0</td>\n",
       "      <td>2.2950</td>\n",
       "    </tr>\n",
       "    <tr>\n",
       "      <th>3</th>\n",
       "      <td>29.0</td>\n",
       "      <td>2409.0</td>\n",
       "      <td>436.0</td>\n",
       "      <td>1142.0</td>\n",
       "      <td>440.0</td>\n",
       "      <td>3.6895</td>\n",
       "    </tr>\n",
       "    <tr>\n",
       "      <th>4</th>\n",
       "      <td>10.0</td>\n",
       "      <td>3208.0</td>\n",
       "      <td>636.0</td>\n",
       "      <td>1395.0</td>\n",
       "      <td>582.0</td>\n",
       "      <td>3.4455</td>\n",
       "    </tr>\n",
       "    <tr>\n",
       "      <th>...</th>\n",
       "      <td>...</td>\n",
       "      <td>...</td>\n",
       "      <td>...</td>\n",
       "      <td>...</td>\n",
       "      <td>...</td>\n",
       "      <td>...</td>\n",
       "    </tr>\n",
       "    <tr>\n",
       "      <th>3132</th>\n",
       "      <td>29.0</td>\n",
       "      <td>2610.0</td>\n",
       "      <td>597.0</td>\n",
       "      <td>1659.0</td>\n",
       "      <td>571.0</td>\n",
       "      <td>1.5911</td>\n",
       "    </tr>\n",
       "    <tr>\n",
       "      <th>3133</th>\n",
       "      <td>25.0</td>\n",
       "      <td>2516.0</td>\n",
       "      <td>0.0</td>\n",
       "      <td>1266.0</td>\n",
       "      <td>494.0</td>\n",
       "      <td>1.7566</td>\n",
       "    </tr>\n",
       "    <tr>\n",
       "      <th>3134</th>\n",
       "      <td>30.0</td>\n",
       "      <td>5308.0</td>\n",
       "      <td>854.0</td>\n",
       "      <td>2114.0</td>\n",
       "      <td>838.0</td>\n",
       "      <td>5.1985</td>\n",
       "    </tr>\n",
       "    <tr>\n",
       "      <th>3135</th>\n",
       "      <td>36.0</td>\n",
       "      <td>3514.0</td>\n",
       "      <td>818.0</td>\n",
       "      <td>2277.0</td>\n",
       "      <td>828.0</td>\n",
       "      <td>3.1211</td>\n",
       "    </tr>\n",
       "    <tr>\n",
       "      <th>3136</th>\n",
       "      <td>36.0</td>\n",
       "      <td>2637.0</td>\n",
       "      <td>476.0</td>\n",
       "      <td>1385.0</td>\n",
       "      <td>483.0</td>\n",
       "      <td>4.1739</td>\n",
       "    </tr>\n",
       "  </tbody>\n",
       "</table>\n",
       "<p>3137 rows × 6 columns</p>\n",
       "</div>"
      ],
      "text/plain": [
       "      housing_median_age  total_rooms  total_bedrooms  population  households  \\\n",
       "0                    9.0       1608.0           297.0      1057.0       295.0   \n",
       "1                   34.0       1410.0           214.0       837.0       240.0   \n",
       "2                   32.0       1116.0           328.0      1265.0       302.0   \n",
       "3                   29.0       2409.0           436.0      1142.0       440.0   \n",
       "4                   10.0       3208.0           636.0      1395.0       582.0   \n",
       "...                  ...          ...             ...         ...         ...   \n",
       "3132                29.0       2610.0           597.0      1659.0       571.0   \n",
       "3133                25.0       2516.0             0.0      1266.0       494.0   \n",
       "3134                30.0       5308.0           854.0      2114.0       838.0   \n",
       "3135                36.0       3514.0           818.0      2277.0       828.0   \n",
       "3136                36.0       2637.0           476.0      1385.0       483.0   \n",
       "\n",
       "      median_income  \n",
       "0            3.7143  \n",
       "1            6.1168  \n",
       "2            2.2950  \n",
       "3            3.6895  \n",
       "4            3.4455  \n",
       "...             ...  \n",
       "3132         1.5911  \n",
       "3133         1.7566  \n",
       "3134         5.1985  \n",
       "3135         3.1211  \n",
       "3136         4.1739  \n",
       "\n",
       "[3137 rows x 6 columns]"
      ]
     },
     "execution_count": 834,
     "metadata": {},
     "output_type": "execute_result"
    }
   ],
   "source": [
    "x_val"
   ]
  },
  {
   "cell_type": "code",
   "execution_count": 835,
   "id": "1cf2fb84-fd16-4f57-b948-6d654768784f",
   "metadata": {
    "tags": []
   },
   "outputs": [
    {
     "data": {
      "text/plain": [
       "12.014431779951353"
      ]
     },
     "execution_count": 835,
     "metadata": {},
     "output_type": "execute_result"
    }
   ],
   "source": [
    "w0"
   ]
  },
  {
   "cell_type": "code",
   "execution_count": 836,
   "id": "4ed19d9d-6c31-458b-8dab-f72100b84437",
   "metadata": {
    "tags": []
   },
   "outputs": [
    {
     "data": {
      "text/plain": [
       "array([ 2.18978347e-04,  1.39798242e-08,  1.53544809e-05,  1.70257208e-06,\n",
       "       -3.27620097e-05, -2.32639755e-03])"
      ]
     },
     "execution_count": 836,
     "metadata": {},
     "output_type": "execute_result"
    }
   ],
   "source": [
    "w"
   ]
  },
  {
   "cell_type": "code",
   "execution_count": 837,
   "id": "19ce0ac6-7001-4a88-be88-405cebac8398",
   "metadata": {
    "tags": []
   },
   "outputs": [],
   "source": [
    "y_pred_val=w0+x_val.dot(w)"
   ]
  },
  {
   "cell_type": "code",
   "execution_count": 838,
   "id": "a4c3a188-e827-4858-ba53-77a432c4ca16",
   "metadata": {
    "tags": []
   },
   "outputs": [],
   "source": [
    "def rmse(y,y_pred):\n",
    "    diff=(y-y_pred)**2\n",
    "    mean_err=diff.mean()\n",
    "    return np.sqrt(mean_err)"
   ]
  },
  {
   "cell_type": "code",
   "execution_count": 839,
   "id": "24ea3461-4498-45ed-b199-0f64b0ad6270",
   "metadata": {
    "tags": []
   },
   "outputs": [
    {
     "data": {
      "text/plain": [
       "0.5777771526612085"
      ]
     },
     "execution_count": 839,
     "metadata": {},
     "output_type": "execute_result"
    }
   ],
   "source": [
    "rmse(y_val,y_pred_val)"
   ]
  },
  {
   "cell_type": "code",
   "execution_count": 840,
   "id": "10217b79-94dd-46f6-89a1-92ca3b6b4d61",
   "metadata": {
    "tags": []
   },
   "outputs": [],
   "source": [
    "x_train=prepare_data(df_train,feature_columns,x_train['total_bedrooms'].mean())\n",
    "del x_train['median_house_value']"
   ]
  },
  {
   "cell_type": "code",
   "execution_count": 841,
   "id": "6c377f5f-1c08-483d-be0d-13f6ba1493d6",
   "metadata": {
    "tags": []
   },
   "outputs": [
    {
     "data": {
      "text/plain": [
       "housing_median_age    0\n",
       "total_rooms           0\n",
       "total_bedrooms        0\n",
       "population            0\n",
       "households            0\n",
       "median_income         0\n",
       "dtype: int64"
      ]
     },
     "execution_count": 841,
     "metadata": {},
     "output_type": "execute_result"
    }
   ],
   "source": [
    "x_train.isnull().sum()"
   ]
  },
  {
   "cell_type": "code",
   "execution_count": 842,
   "id": "8a96365b-bb7a-42f8-a401-b77eafb24e34",
   "metadata": {
    "tags": []
   },
   "outputs": [
    {
     "name": "stdout",
     "output_type": "stream",
     "text": [
      "[ 1.08629821e+01  6.28042885e-03 -1.13878059e-04  2.41801154e-04\n",
      " -1.18362318e-04  8.69077011e-04  2.35130044e-01]\n"
     ]
    }
   ],
   "source": [
    "w0,w=train_linear_regression(x_train,y_train)"
   ]
  },
  {
   "cell_type": "code",
   "execution_count": 843,
   "id": "cba963e4-ef88-4896-b677-68c036646cf4",
   "metadata": {
    "tags": []
   },
   "outputs": [
    {
     "data": {
      "text/plain": [
       "(10.862982108101813,\n",
       " array([ 6.28042885e-03, -1.13878059e-04,  2.41801154e-04, -1.18362318e-04,\n",
       "         8.69077011e-04,  2.35130044e-01]))"
      ]
     },
     "execution_count": 843,
     "metadata": {},
     "output_type": "execute_result"
    }
   ],
   "source": [
    "w0,w"
   ]
  },
  {
   "cell_type": "code",
   "execution_count": 846,
   "id": "0c805841-f0a9-4545-a9a1-4719badd58b4",
   "metadata": {
    "tags": []
   },
   "outputs": [],
   "source": [
    "y_pred_val=w0+x_val.dot(w)"
   ]
  },
  {
   "cell_type": "code",
   "execution_count": 847,
   "id": "0b2dd79c-7374-409f-8a0d-41b04f345c25",
   "metadata": {
    "tags": []
   },
   "outputs": [
    {
     "data": {
      "text/plain": [
       "0.39871531957966666"
      ]
     },
     "execution_count": 847,
     "metadata": {},
     "output_type": "execute_result"
    }
   ],
   "source": [
    "rmse(y_val,y_pred_val)"
   ]
  },
  {
   "cell_type": "markdown",
   "id": "456b2ff1-0b2b-4c00-be66-1ef78b40f082",
   "metadata": {},
   "source": [
    "# Question-4"
   ]
  },
  {
   "cell_type": "code",
   "execution_count": 848,
   "id": "f9420bc4-b966-49d5-a959-9d4f0c8a9e5e",
   "metadata": {
    "tags": []
   },
   "outputs": [],
   "source": [
    "    df=pd.read_csv('housing.csv')\n",
    "    newdf = df [(df['ocean_proximity'] ==  '<1H OCEAN') | (df['ocean_proximity'] == 'INLAND')]\n",
    "    columns = [\n",
    "    'housing_median_age',\n",
    "    'total_rooms',\n",
    "    'total_bedrooms',\n",
    "    'population',\n",
    "    'households',\n",
    "    'median_income',\n",
    "    'median_house_value']\n",
    "    newdf=pd.DataFrame(newdf,columns=columns)\n",
    "    idx=np.arange(len(newdf))\n",
    "    np.random.seed(42)\n",
    "    np.random.shuffle(idx)"
   ]
  },
  {
   "cell_type": "code",
   "execution_count": 849,
   "id": "336f208f-854a-41e7-9b45-2b728e82581a",
   "metadata": {
    "tags": []
   },
   "outputs": [
    {
     "data": {
      "text/plain": [
       "(9413, 3137, 3137)"
      ]
     },
     "execution_count": 849,
     "metadata": {},
     "output_type": "execute_result"
    }
   ],
   "source": [
    "    n_val=int(len(idx)*.2)\n",
    "    n_test=int(len(idx)*.2)\n",
    "    n_train=len(idx) - n_test - n_val\n",
    "    n_train,n_val,n_test"
   ]
  },
  {
   "cell_type": "code",
   "execution_count": 850,
   "id": "3dded18d-37cb-4035-84bf-e35c791d581c",
   "metadata": {
    "tags": []
   },
   "outputs": [
    {
     "data": {
      "text/html": [
       "<div>\n",
       "<style scoped>\n",
       "    .dataframe tbody tr th:only-of-type {\n",
       "        vertical-align: middle;\n",
       "    }\n",
       "\n",
       "    .dataframe tbody tr th {\n",
       "        vertical-align: top;\n",
       "    }\n",
       "\n",
       "    .dataframe thead th {\n",
       "        text-align: right;\n",
       "    }\n",
       "</style>\n",
       "<table border=\"1\" class=\"dataframe\">\n",
       "  <thead>\n",
       "    <tr style=\"text-align: right;\">\n",
       "      <th></th>\n",
       "      <th>housing_median_age</th>\n",
       "      <th>total_rooms</th>\n",
       "      <th>total_bedrooms</th>\n",
       "      <th>population</th>\n",
       "      <th>households</th>\n",
       "      <th>median_income</th>\n",
       "      <th>median_house_value</th>\n",
       "    </tr>\n",
       "  </thead>\n",
       "  <tbody>\n",
       "    <tr>\n",
       "      <th>701</th>\n",
       "      <td>32.0</td>\n",
       "      <td>1283.0</td>\n",
       "      <td>194.0</td>\n",
       "      <td>485.0</td>\n",
       "      <td>171.0</td>\n",
       "      <td>6.0574</td>\n",
       "      <td>431000.0</td>\n",
       "    </tr>\n",
       "    <tr>\n",
       "      <th>830</th>\n",
       "      <td>9.0</td>\n",
       "      <td>3666.0</td>\n",
       "      <td>711.0</td>\n",
       "      <td>2341.0</td>\n",
       "      <td>703.0</td>\n",
       "      <td>4.6458</td>\n",
       "      <td>217000.0</td>\n",
       "    </tr>\n",
       "    <tr>\n",
       "      <th>859</th>\n",
       "      <td>21.0</td>\n",
       "      <td>4342.0</td>\n",
       "      <td>783.0</td>\n",
       "      <td>2172.0</td>\n",
       "      <td>789.0</td>\n",
       "      <td>4.6146</td>\n",
       "      <td>247600.0</td>\n",
       "    </tr>\n",
       "    <tr>\n",
       "      <th>860</th>\n",
       "      <td>15.0</td>\n",
       "      <td>3575.0</td>\n",
       "      <td>597.0</td>\n",
       "      <td>1777.0</td>\n",
       "      <td>559.0</td>\n",
       "      <td>5.7192</td>\n",
       "      <td>283500.0</td>\n",
       "    </tr>\n",
       "    <tr>\n",
       "      <th>861</th>\n",
       "      <td>20.0</td>\n",
       "      <td>4126.0</td>\n",
       "      <td>1031.0</td>\n",
       "      <td>2079.0</td>\n",
       "      <td>975.0</td>\n",
       "      <td>3.6832</td>\n",
       "      <td>216900.0</td>\n",
       "    </tr>\n",
       "    <tr>\n",
       "      <th>...</th>\n",
       "      <td>...</td>\n",
       "      <td>...</td>\n",
       "      <td>...</td>\n",
       "      <td>...</td>\n",
       "      <td>...</td>\n",
       "      <td>...</td>\n",
       "      <td>...</td>\n",
       "    </tr>\n",
       "    <tr>\n",
       "      <th>20635</th>\n",
       "      <td>25.0</td>\n",
       "      <td>1665.0</td>\n",
       "      <td>374.0</td>\n",
       "      <td>845.0</td>\n",
       "      <td>330.0</td>\n",
       "      <td>1.5603</td>\n",
       "      <td>78100.0</td>\n",
       "    </tr>\n",
       "    <tr>\n",
       "      <th>20636</th>\n",
       "      <td>18.0</td>\n",
       "      <td>697.0</td>\n",
       "      <td>150.0</td>\n",
       "      <td>356.0</td>\n",
       "      <td>114.0</td>\n",
       "      <td>2.5568</td>\n",
       "      <td>77100.0</td>\n",
       "    </tr>\n",
       "    <tr>\n",
       "      <th>20637</th>\n",
       "      <td>17.0</td>\n",
       "      <td>2254.0</td>\n",
       "      <td>485.0</td>\n",
       "      <td>1007.0</td>\n",
       "      <td>433.0</td>\n",
       "      <td>1.7000</td>\n",
       "      <td>92300.0</td>\n",
       "    </tr>\n",
       "    <tr>\n",
       "      <th>20638</th>\n",
       "      <td>18.0</td>\n",
       "      <td>1860.0</td>\n",
       "      <td>409.0</td>\n",
       "      <td>741.0</td>\n",
       "      <td>349.0</td>\n",
       "      <td>1.8672</td>\n",
       "      <td>84700.0</td>\n",
       "    </tr>\n",
       "    <tr>\n",
       "      <th>20639</th>\n",
       "      <td>16.0</td>\n",
       "      <td>2785.0</td>\n",
       "      <td>616.0</td>\n",
       "      <td>1387.0</td>\n",
       "      <td>530.0</td>\n",
       "      <td>2.3886</td>\n",
       "      <td>89400.0</td>\n",
       "    </tr>\n",
       "  </tbody>\n",
       "</table>\n",
       "<p>15687 rows × 7 columns</p>\n",
       "</div>"
      ],
      "text/plain": [
       "       housing_median_age  total_rooms  total_bedrooms  population  \\\n",
       "701                  32.0       1283.0           194.0       485.0   \n",
       "830                   9.0       3666.0           711.0      2341.0   \n",
       "859                  21.0       4342.0           783.0      2172.0   \n",
       "860                  15.0       3575.0           597.0      1777.0   \n",
       "861                  20.0       4126.0          1031.0      2079.0   \n",
       "...                   ...          ...             ...         ...   \n",
       "20635                25.0       1665.0           374.0       845.0   \n",
       "20636                18.0        697.0           150.0       356.0   \n",
       "20637                17.0       2254.0           485.0      1007.0   \n",
       "20638                18.0       1860.0           409.0       741.0   \n",
       "20639                16.0       2785.0           616.0      1387.0   \n",
       "\n",
       "       households  median_income  median_house_value  \n",
       "701         171.0         6.0574            431000.0  \n",
       "830         703.0         4.6458            217000.0  \n",
       "859         789.0         4.6146            247600.0  \n",
       "860         559.0         5.7192            283500.0  \n",
       "861         975.0         3.6832            216900.0  \n",
       "...           ...            ...                 ...  \n",
       "20635       330.0         1.5603             78100.0  \n",
       "20636       114.0         2.5568             77100.0  \n",
       "20637       433.0         1.7000             92300.0  \n",
       "20638       349.0         1.8672             84700.0  \n",
       "20639       530.0         2.3886             89400.0  \n",
       "\n",
       "[15687 rows x 7 columns]"
      ]
     },
     "execution_count": 850,
     "metadata": {},
     "output_type": "execute_result"
    }
   ],
   "source": [
    "newdf"
   ]
  },
  {
   "cell_type": "code",
   "execution_count": 851,
   "id": "91aea8d4-2899-47ec-82b7-09eeaeccdf85",
   "metadata": {
    "tags": []
   },
   "outputs": [],
   "source": [
    "    df_train=newdf.iloc[idx[:n_train]]\n",
    "    df_val=newdf.iloc[idx[n_train:n_train+n_val]]\n",
    "    df_test=newdf.iloc[idx[n_train+n_val:]]\n",
    "    df_train.reset_index(drop=True,inplace=True)\n",
    "    df_val.reset_index(drop=True,inplace=True)\n",
    "    df_test.reset_index(drop=True,inplace=True)"
   ]
  },
  {
   "cell_type": "code",
   "execution_count": 852,
   "id": "b11ad746-055c-4c90-8a0d-599c88fd848d",
   "metadata": {
    "tags": []
   },
   "outputs": [
    {
     "data": {
      "text/html": [
       "<div>\n",
       "<style scoped>\n",
       "    .dataframe tbody tr th:only-of-type {\n",
       "        vertical-align: middle;\n",
       "    }\n",
       "\n",
       "    .dataframe tbody tr th {\n",
       "        vertical-align: top;\n",
       "    }\n",
       "\n",
       "    .dataframe thead th {\n",
       "        text-align: right;\n",
       "    }\n",
       "</style>\n",
       "<table border=\"1\" class=\"dataframe\">\n",
       "  <thead>\n",
       "    <tr style=\"text-align: right;\">\n",
       "      <th></th>\n",
       "      <th>housing_median_age</th>\n",
       "      <th>total_rooms</th>\n",
       "      <th>total_bedrooms</th>\n",
       "      <th>population</th>\n",
       "      <th>households</th>\n",
       "      <th>median_income</th>\n",
       "      <th>median_house_value</th>\n",
       "    </tr>\n",
       "  </thead>\n",
       "  <tbody>\n",
       "    <tr>\n",
       "      <th>0</th>\n",
       "      <td>22.0</td>\n",
       "      <td>2935.0</td>\n",
       "      <td>523.0</td>\n",
       "      <td>1927.0</td>\n",
       "      <td>530.0</td>\n",
       "      <td>2.5875</td>\n",
       "      <td>70400.0</td>\n",
       "    </tr>\n",
       "    <tr>\n",
       "      <th>1</th>\n",
       "      <td>16.0</td>\n",
       "      <td>2426.0</td>\n",
       "      <td>426.0</td>\n",
       "      <td>1319.0</td>\n",
       "      <td>446.0</td>\n",
       "      <td>4.8125</td>\n",
       "      <td>224500.0</td>\n",
       "    </tr>\n",
       "    <tr>\n",
       "      <th>2</th>\n",
       "      <td>26.0</td>\n",
       "      <td>3653.0</td>\n",
       "      <td>568.0</td>\n",
       "      <td>1930.0</td>\n",
       "      <td>585.0</td>\n",
       "      <td>5.7301</td>\n",
       "      <td>260900.0</td>\n",
       "    </tr>\n",
       "    <tr>\n",
       "      <th>3</th>\n",
       "      <td>32.0</td>\n",
       "      <td>2668.0</td>\n",
       "      <td>609.0</td>\n",
       "      <td>1512.0</td>\n",
       "      <td>541.0</td>\n",
       "      <td>2.9422</td>\n",
       "      <td>233100.0</td>\n",
       "    </tr>\n",
       "    <tr>\n",
       "      <th>4</th>\n",
       "      <td>39.0</td>\n",
       "      <td>2479.0</td>\n",
       "      <td>541.0</td>\n",
       "      <td>1990.0</td>\n",
       "      <td>506.0</td>\n",
       "      <td>2.4306</td>\n",
       "      <td>289100.0</td>\n",
       "    </tr>\n",
       "    <tr>\n",
       "      <th>...</th>\n",
       "      <td>...</td>\n",
       "      <td>...</td>\n",
       "      <td>...</td>\n",
       "      <td>...</td>\n",
       "      <td>...</td>\n",
       "      <td>...</td>\n",
       "      <td>...</td>\n",
       "    </tr>\n",
       "    <tr>\n",
       "      <th>9408</th>\n",
       "      <td>33.0</td>\n",
       "      <td>2005.0</td>\n",
       "      <td>392.0</td>\n",
       "      <td>1043.0</td>\n",
       "      <td>351.0</td>\n",
       "      <td>5.3080</td>\n",
       "      <td>297900.0</td>\n",
       "    </tr>\n",
       "    <tr>\n",
       "      <th>9409</th>\n",
       "      <td>28.0</td>\n",
       "      <td>1673.0</td>\n",
       "      <td>385.0</td>\n",
       "      <td>1434.0</td>\n",
       "      <td>371.0</td>\n",
       "      <td>2.0586</td>\n",
       "      <td>40900.0</td>\n",
       "    </tr>\n",
       "    <tr>\n",
       "      <th>9410</th>\n",
       "      <td>46.0</td>\n",
       "      <td>1238.0</td>\n",
       "      <td>147.0</td>\n",
       "      <td>377.0</td>\n",
       "      <td>145.0</td>\n",
       "      <td>8.4546</td>\n",
       "      <td>500001.0</td>\n",
       "    </tr>\n",
       "    <tr>\n",
       "      <th>9411</th>\n",
       "      <td>24.0</td>\n",
       "      <td>3668.0</td>\n",
       "      <td>890.0</td>\n",
       "      <td>3151.0</td>\n",
       "      <td>810.0</td>\n",
       "      <td>3.0526</td>\n",
       "      <td>183300.0</td>\n",
       "    </tr>\n",
       "    <tr>\n",
       "      <th>9412</th>\n",
       "      <td>18.0</td>\n",
       "      <td>1307.0</td>\n",
       "      <td>441.0</td>\n",
       "      <td>884.0</td>\n",
       "      <td>456.0</td>\n",
       "      <td>2.9338</td>\n",
       "      <td>276300.0</td>\n",
       "    </tr>\n",
       "  </tbody>\n",
       "</table>\n",
       "<p>9413 rows × 7 columns</p>\n",
       "</div>"
      ],
      "text/plain": [
       "      housing_median_age  total_rooms  total_bedrooms  population  households  \\\n",
       "0                   22.0       2935.0           523.0      1927.0       530.0   \n",
       "1                   16.0       2426.0           426.0      1319.0       446.0   \n",
       "2                   26.0       3653.0           568.0      1930.0       585.0   \n",
       "3                   32.0       2668.0           609.0      1512.0       541.0   \n",
       "4                   39.0       2479.0           541.0      1990.0       506.0   \n",
       "...                  ...          ...             ...         ...         ...   \n",
       "9408                33.0       2005.0           392.0      1043.0       351.0   \n",
       "9409                28.0       1673.0           385.0      1434.0       371.0   \n",
       "9410                46.0       1238.0           147.0       377.0       145.0   \n",
       "9411                24.0       3668.0           890.0      3151.0       810.0   \n",
       "9412                18.0       1307.0           441.0       884.0       456.0   \n",
       "\n",
       "      median_income  median_house_value  \n",
       "0            2.5875             70400.0  \n",
       "1            4.8125            224500.0  \n",
       "2            5.7301            260900.0  \n",
       "3            2.9422            233100.0  \n",
       "4            2.4306            289100.0  \n",
       "...             ...                 ...  \n",
       "9408         5.3080            297900.0  \n",
       "9409         2.0586             40900.0  \n",
       "9410         8.4546            500001.0  \n",
       "9411         3.0526            183300.0  \n",
       "9412         2.9338            276300.0  \n",
       "\n",
       "[9413 rows x 7 columns]"
      ]
     },
     "execution_count": 852,
     "metadata": {},
     "output_type": "execute_result"
    }
   ],
   "source": [
    "df_train"
   ]
  },
  {
   "cell_type": "code",
   "execution_count": 853,
   "id": "8daa79bb-b873-4ddf-9a3f-4f8b349e6445",
   "metadata": {
    "tags": []
   },
   "outputs": [],
   "source": [
    "    x_train=df_train.fillna(0)\n",
    "    x_val=df_val.fillna(0)\n",
    "    x_test=df_test.fillna(0)"
   ]
  },
  {
   "cell_type": "code",
   "execution_count": 854,
   "id": "a6fe467e-ffaf-4c6c-9b23-6183931496e7",
   "metadata": {
    "tags": []
   },
   "outputs": [
    {
     "data": {
      "text/plain": [
       "housing_median_age    0\n",
       "total_rooms           0\n",
       "total_bedrooms        0\n",
       "population            0\n",
       "households            0\n",
       "median_income         0\n",
       "median_house_value    0\n",
       "dtype: int64"
      ]
     },
     "execution_count": 854,
     "metadata": {},
     "output_type": "execute_result"
    }
   ],
   "source": [
    "x_val.isnull().sum()"
   ]
  },
  {
   "cell_type": "code",
   "execution_count": 855,
   "id": "08efb35e-7daf-4a97-9e87-bddd7c0dd840",
   "metadata": {
    "tags": []
   },
   "outputs": [],
   "source": [
    "\n",
    "    y_train=np.log1p(df_train.median_house_value.values)\n",
    "    y_val=np.log1p(df_val.median_house_value.values)\n",
    "    y_test=np.log1p(df_test.median_house_value.values)\n",
    "    del x_train['median_house_value']\n",
    "    del x_val['median_house_value']\n",
    "    del x_test['median_house_value']\n",
    "    "
   ]
  },
  {
   "cell_type": "code",
   "execution_count": 856,
   "id": "e37169f8-1826-415f-955d-afb559acffd4",
   "metadata": {
    "tags": []
   },
   "outputs": [],
   "source": [
    "#checked\n",
    "def train_linear_regression_reg(x,y,r):\n",
    "    ones=np.ones(x.shape[0])\n",
    "    x=np.column_stack([ones,x])\n",
    "    XTX=x.T.dot(x)\n",
    "    XTX = XTX + r*(np.eye(XTX.shape[0]))\n",
    "    invXTX=np.linalg.inv(XTX)\n",
    "    w=invXTX.dot(x.T).dot(y)\n",
    "    return w[0],w[1:]"
   ]
  },
  {
   "cell_type": "code",
   "execution_count": 857,
   "id": "ccbaf864-0424-4c3a-8adf-0210087b2f7d",
   "metadata": {
    "tags": []
   },
   "outputs": [
    {
     "name": "stdout",
     "output_type": "stream",
     "text": [
      "0 0.3987\n",
      "1e-06 0.3987\n",
      "0.0001 0.3987\n",
      "0.001 0.3987\n",
      "0.01 0.3987\n",
      "0.1 0.3987\n",
      "1 0.3989\n",
      "5 0.4\n",
      "10 0.4027\n"
     ]
    }
   ],
   "source": [
    "#checked\n",
    "for r in [0, 0.000001, 0.0001, 0.001, 0.01, 0.1, 1, 5, 10]:\n",
    "    w0,w=train_linear_regression_reg(x_train,y_train,r)\n",
    "    y_pred_val=w0+x_val.dot(w)\n",
    "    score=rmse(y_val,y_pred_val)\n",
    "    print (r, round(score,4))\n",
    "    \n",
    "    "
   ]
  },
  {
   "cell_type": "markdown",
   "id": "857f2223-a1ae-4124-9964-0633193e1d06",
   "metadata": {},
   "source": [
    "# Question-5"
   ]
  },
  {
   "cell_type": "code",
   "execution_count": 439,
   "id": "f3b15e92-2f2f-4dd2-a913-d5b5f2e2767c",
   "metadata": {
    "tags": []
   },
   "outputs": [],
   "source": []
  },
  {
   "cell_type": "code",
   "execution_count": 440,
   "id": "a3d0fdf8-34b1-4261-8de0-8ca133879ec2",
   "metadata": {
    "tags": []
   },
   "outputs": [],
   "source": []
  },
  {
   "cell_type": "code",
   "execution_count": 309,
   "id": "2c714efb-fcb3-4202-b226-413578bc1d16",
   "metadata": {
    "tags": []
   },
   "outputs": [],
   "source": []
  },
  {
   "cell_type": "code",
   "execution_count": 441,
   "id": "873a8330-a8a8-4de9-9f9c-60ff2b3a759d",
   "metadata": {
    "tags": []
   },
   "outputs": [],
   "source": []
  },
  {
   "cell_type": "code",
   "execution_count": 442,
   "id": "f5860d5e-4890-4b9f-9265-2720e69a1502",
   "metadata": {
    "tags": []
   },
   "outputs": [],
   "source": []
  },
  {
   "cell_type": "code",
   "execution_count": 884,
   "id": "44e7b34a-0592-486b-904a-5506e5fe8064",
   "metadata": {
    "tags": []
   },
   "outputs": [],
   "source": [
    "df=pd.read_csv('housing.csv')\n",
    "newdf = df [(df['ocean_proximity'] ==  '<1H OCEAN') | (df['ocean_proximity'] == 'INLAND')]\n",
    "columns = ['latitude',\n",
    "'longitude',\n",
    "    'housing_median_age',\n",
    "    'total_rooms',\n",
    "    'total_bedrooms',\n",
    "    'population',\n",
    "    'households',\n",
    "    'median_income',\n",
    "    'median_house_value']\n",
    "newdf=pd.DataFrame(newdf,columns=columns)\n",
    "idx=np.arange(len(newdf))\n",
    "n_train,n_val,n_test=split_data_count(len(idx))\n"
   ]
  },
  {
   "cell_type": "code",
   "execution_count": 885,
   "id": "3e4eda08-8fe8-4cf9-878f-75a327eedd08",
   "metadata": {
    "tags": []
   },
   "outputs": [],
   "source": [
    "    np.random.seed(0)\n",
    "    np.random.shuffle(idx)"
   ]
  },
  {
   "cell_type": "code",
   "execution_count": 886,
   "id": "e88af055-f267-4069-b5cf-3d5d7c76b62d",
   "metadata": {
    "tags": []
   },
   "outputs": [],
   "source": [
    "    df_train=newdf.iloc[idx[:n_train]]\n",
    "    df_val=newdf.iloc[idx[n_train:n_train+n_val]]\n",
    "    df_test=newdf.iloc[idx[n_train+n_val:]]\n",
    "    df_train.reset_index(drop=True,inplace=True)\n",
    "    df_val.reset_index(drop=True,inplace=True)\n",
    "    df_test.reset_index(drop=True,inplace=True)"
   ]
  },
  {
   "cell_type": "code",
   "execution_count": 887,
   "id": "a3480ede-01c3-4d3f-b21a-d99412990c41",
   "metadata": {
    "tags": []
   },
   "outputs": [],
   "source": [
    "    x_train=df_train.fillna(0)\n",
    "    x_val=df_val.fillna(0)\n",
    "    x_test=df_test.fillna(0)"
   ]
  },
  {
   "cell_type": "code",
   "execution_count": 888,
   "id": "34837760-391e-48f4-9aa6-d248129029bf",
   "metadata": {
    "tags": []
   },
   "outputs": [],
   "source": [
    "    y_train=np.log1p(df_train.median_house_value).values\n",
    "    y_val=np.log1p(df_val.median_house_value).values\n",
    "    y_test=np.log1p(df_test.median_house_value).values"
   ]
  },
  {
   "cell_type": "code",
   "execution_count": 889,
   "id": "9a7cae79-92c1-4e28-bf00-ff09593db5e0",
   "metadata": {
    "tags": []
   },
   "outputs": [],
   "source": [
    "    del x_train['median_house_value']\n",
    "    del x_val['median_house_value']\n",
    "    del x_test['median_house_value']"
   ]
  },
  {
   "cell_type": "code",
   "execution_count": 890,
   "id": "71431a50-b99d-4af3-917b-6a3841e984f2",
   "metadata": {
    "tags": []
   },
   "outputs": [
    {
     "name": "stdout",
     "output_type": "stream",
     "text": [
      "-10.156623821092166 0.3391099327108759\n",
      "-9.886481292645843 0.34417424413662573\n",
      "-10.051234831518013 0.34472030439021345\n",
      "-9.856331056506008 0.3393198828861299\n",
      "-10.193679454265462 0.3504941452864902\n",
      "-9.472492464146137 0.33144312031438805\n",
      "-10.507192908317144 0.34735937898952335\n",
      "-9.85624086139073 0.34896418729198425\n",
      "-9.977922924069283 0.3269362609878322\n",
      "-10.033242328386798 0.34187996571909096\n"
     ]
    }
   ],
   "source": [
    "\n",
    "\n",
    "score_arr = []\n",
    "for i in [0, 1, 2, 3, 4, 5, 6, 7, 8, 9]:\n",
    "    np.random.seed(i)\n",
    "    np.random.shuffle(idx)\n",
    "   \n",
    "    df_train=newdf.iloc[idx[:n_train]]\n",
    "    df_val=newdf.iloc[idx[n_train:n_train+n_val]]\n",
    "    df_test=newdf.iloc[idx[n_train+n_val:]]\n",
    "    df_train.reset_index(drop=True,inplace=True)\n",
    "    df_val.reset_index(drop=True,inplace=True)\n",
    "    df_test.reset_index(drop=True,inplace=True)\n",
    "    \n",
    "    x_train=df_train.fillna(0)\n",
    "    x_val=df_val.fillna(0)\n",
    "    x_test=df_test.fillna(0)\n",
    "\n",
    "    y_train=np.log1p(df_train.median_house_value).values\n",
    "    y_val=np.log1p(df_val.median_house_value).values\n",
    "    y_test=np.log1p(df_test.median_house_value).values\n",
    "    \n",
    "    del x_train['median_house_value']\n",
    "    del x_val['median_house_value']\n",
    "    del x_test['median_house_value']\n",
    "\n",
    "    w0,w=train_linear_regression_reg(x_train,y_train,0)\n",
    "    \n",
    "    y_pred_val=w0+x_val.dot(w)\n",
    "    score=rmse(y_val,y_pred_val)\n",
    "    print ( w0, score)\n",
    "    score_arr.append(score)\n"
   ]
  },
  {
   "cell_type": "code",
   "execution_count": 891,
   "id": "593f8ba2-d6dd-40f3-b944-561f3656b461",
   "metadata": {
    "tags": []
   },
   "outputs": [],
   "source": [
    "np_score_arr=np.array(score_arr)"
   ]
  },
  {
   "cell_type": "code",
   "execution_count": 892,
   "id": "420eb9da-94d7-459c-aec7-5ed5f21fa7f7",
   "metadata": {
    "tags": []
   },
   "outputs": [],
   "source": [
    "std_dev=np.std(np_score_arr)"
   ]
  },
  {
   "cell_type": "code",
   "execution_count": 893,
   "id": "aeb6feae-3485-46e0-88c2-e06e59238939",
   "metadata": {
    "tags": []
   },
   "outputs": [
    {
     "data": {
      "text/plain": [
       "0.007157375254575385"
      ]
     },
     "execution_count": 893,
     "metadata": {},
     "output_type": "execute_result"
    }
   ],
   "source": [
    "std_dev"
   ]
  },
  {
   "cell_type": "code",
   "execution_count": 894,
   "id": "c5b95a50-eb1b-4a62-bc05-4c84c0e373e7",
   "metadata": {
    "tags": []
   },
   "outputs": [
    {
     "data": {
      "text/plain": [
       "0.007"
      ]
     },
     "execution_count": 894,
     "metadata": {},
     "output_type": "execute_result"
    }
   ],
   "source": [
    "round(std_dev, 3)"
   ]
  },
  {
   "cell_type": "code",
   "execution_count": 419,
   "id": "c3c3673d-f951-4475-8a0c-d8e832b8b38e",
   "metadata": {
    "tags": []
   },
   "outputs": [
    {
     "data": {
      "text/plain": [
       "numpy.ndarray"
      ]
     },
     "execution_count": 419,
     "metadata": {},
     "output_type": "execute_result"
    }
   ],
   "source": [
    "type(y_train)"
   ]
  },
  {
   "cell_type": "markdown",
   "id": "da9351c8-c340-445d-82f2-7f068f0d48e0",
   "metadata": {
    "tags": []
   },
   "source": [
    "# Question -6"
   ]
  },
  {
   "cell_type": "code",
   "execution_count": 883,
   "id": "bf67930b-45a2-4f04-b5a4-ee48e1736901",
   "metadata": {
    "tags": []
   },
   "outputs": [
    {
     "name": "stdout",
     "output_type": "stream",
     "text": [
      "-9.72483921716023 0.335\n"
     ]
    }
   ],
   "source": [
    "df=pd.read_csv('housing.csv')\n",
    "newdf = df [(df['ocean_proximity'] ==  '<1H OCEAN') | (df['ocean_proximity'] == 'INLAND')]\n",
    "columns = ['latitude',\n",
    "'longitude',\n",
    "'housing_median_age',\n",
    "'total_rooms',\n",
    "'total_bedrooms',\n",
    "'population',\n",
    "'households',\n",
    "'median_income',\n",
    "'median_house_value']\n",
    "\n",
    "newdf=pd.DataFrame(newdf,columns=columns)\n",
    "idx=np.arange(len(newdf))\n",
    "n_train,n_val,n_test=split_data_count(len(idx))\n",
    "\n",
    "\n",
    "np.random.seed(9)\n",
    "np.random.shuffle(idx)\n",
    "\n",
    "df_train=newdf.iloc[idx[:n_train]]\n",
    "df_val=newdf.iloc[idx[n_train:n_train+n_val]]\n",
    "df_test=newdf.iloc[idx[n_train+n_val:]]\n",
    "df_train.reset_index(drop=True,inplace=True)\n",
    "df_val.reset_index(drop=True,inplace=True)\n",
    "df_test.reset_index(drop=True,inplace=True)\n",
    "    \n",
    "x_train=df_train.fillna(0)\n",
    "x_val=df_val.fillna(0)\n",
    "x_test=df_test.fillna(0)\n",
    "\n",
    "\n",
    "y_train=np.log1p(df_train.median_house_value).values\n",
    "y_val=np.log1p(df_val.median_house_value).values\n",
    "y_test=np.log1p(df_test.median_house_value).values\n",
    "    \n",
    "del x_train['median_house_value']\n",
    "del x_val['median_house_value']\n",
    "del x_test['median_house_value']\n",
    "\n",
    "x_train_val = pd.concat([x_train,x_val])\n",
    "y_train_val = np.concatenate((y_train,y_val))\n",
    "\n",
    "w0,w=train_linear_regression_reg(x_train_val,y_train_val,0.001)\n",
    "    \n",
    "y_pred_test=w0+x_test.dot(w)\n",
    "score=rmse(y_test,y_pred_test)\n",
    "score= round(score, 3)\n",
    "print ( w0, score)\n",
    "\n"
   ]
  },
  {
   "cell_type": "code",
   "execution_count": 423,
   "id": "043915b8-5bc9-4e11-a11e-a167784ffb51",
   "metadata": {
    "tags": []
   },
   "outputs": [
    {
     "data": {
      "text/plain": [
       "pandas.core.frame.DataFrame"
      ]
     },
     "execution_count": 423,
     "metadata": {},
     "output_type": "execute_result"
    }
   ],
   "source": [
    "type(x_train)"
   ]
  },
  {
   "cell_type": "code",
   "execution_count": null,
   "id": "80a93ffc-5110-4724-8b5b-ed8df469ae22",
   "metadata": {},
   "outputs": [],
   "source": []
  }
 ],
 "metadata": {
  "kernelspec": {
   "display_name": "Python 3 (ipykernel)",
   "language": "python",
   "name": "python3"
  },
  "language_info": {
   "codemirror_mode": {
    "name": "ipython",
    "version": 3
   },
   "file_extension": ".py",
   "mimetype": "text/x-python",
   "name": "python",
   "nbconvert_exporter": "python",
   "pygments_lexer": "ipython3",
   "version": "3.11.4"
  }
 },
 "nbformat": 4,
 "nbformat_minor": 5
}

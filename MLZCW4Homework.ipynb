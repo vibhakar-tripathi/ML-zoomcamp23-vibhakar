{
 "cells": [
  {
   "cell_type": "code",
   "execution_count": 2,
   "id": "7294a88f-ed00-47ed-a7be-6633453a83d0",
   "metadata": {
    "tags": []
   },
   "outputs": [
    {
     "name": "stdout",
     "output_type": "stream",
     "text": [
      "--2023-10-05 11:53:53--  https://raw.githubusercontent.com/alexeygrigorev/mlbookcamp-code/master/chapter-02-car-price/data.csv\n",
      "Resolving raw.githubusercontent.com (raw.githubusercontent.com)... 185.199.108.133, 185.199.109.133, 185.199.110.133, ...\n",
      "Connecting to raw.githubusercontent.com (raw.githubusercontent.com)|185.199.108.133|:443... connected.\n",
      "HTTP request sent, awaiting response... 200 OK\n",
      "Length: 1475504 (1.4M) [text/plain]\n",
      "Saving to: ‘data.csv.3’\n",
      "\n",
      "data.csv.3          100%[===================>]   1.41M  7.83MB/s    in 0.2s    \n",
      "\n",
      "2023-10-05 11:53:54 (7.83 MB/s) - ‘data.csv.3’ saved [1475504/1475504]\n",
      "\n"
     ]
    }
   ],
   "source": [
    "!wget https://raw.githubusercontent.com/alexeygrigorev/mlbookcamp-code/master/chapter-02-car-price/data.csv"
   ]
  },
  {
   "cell_type": "code",
   "execution_count": 3,
   "id": "3eb67403-bf39-4acb-9883-955801ae0840",
   "metadata": {
    "tags": []
   },
   "outputs": [],
   "source": [
    "import numpy as np\n"
   ]
  },
  {
   "cell_type": "code",
   "execution_count": 4,
   "id": "2764b1cc-2f27-4347-b4d8-f90675632dad",
   "metadata": {
    "tags": []
   },
   "outputs": [],
   "source": [
    "import pandas as pd"
   ]
  },
  {
   "cell_type": "code",
   "execution_count": 5,
   "id": "5645ed53-be73-4135-a87c-4365fb078d81",
   "metadata": {
    "tags": []
   },
   "outputs": [],
   "source": [
    "df = pd.read_csv(\"data.csv.3\")"
   ]
  },
  {
   "cell_type": "code",
   "execution_count": 9,
   "id": "e65d2c6d-2c0c-4aa0-93d4-b260a2712be7",
   "metadata": {
    "tags": []
   },
   "outputs": [],
   "source": [
    "df.columns=df.columns.str.lower().str.replace(' ', '_')"
   ]
  },
  {
   "cell_type": "code",
   "execution_count": 21,
   "id": "c393f398-3326-472a-845e-a18b9beb0ade",
   "metadata": {
    "tags": []
   },
   "outputs": [
    {
     "data": {
      "text/plain": [
       "make                 0\n",
       "model                0\n",
       "year                 0\n",
       "engine_hp            0\n",
       "engine_cylinders     0\n",
       "transmission_type    0\n",
       "vehicle_style        0\n",
       "highway_mpg          0\n",
       "city_mpg             0\n",
       "msrp                 0\n",
       "dtype: int64"
      ]
     },
     "execution_count": 21,
     "metadata": {},
     "output_type": "execute_result"
    }
   ],
   "source": [
    "df.isnull().sum()"
   ]
  },
  {
   "cell_type": "code",
   "execution_count": 18,
   "id": "9e71c170-7605-4001-9020-3b76a4bb7599",
   "metadata": {
    "tags": []
   },
   "outputs": [],
   "source": [
    "df.fillna(0)"
   ]
  },
  {
   "cell_type": "code",
   "execution_count": 13,
   "id": "120e0895-8163-44d1-af05-5fc1d48b7683",
   "metadata": {
    "tags": []
   },
   "outputs": [],
   "source": [
    "df=df[['make', 'model', 'year',  'engine_hp',\n",
    "       'engine_cylinders', 'transmission_type', 'vehicle_style',\n",
    "       'highway_mpg', 'city_mpg', 'msrp']]"
   ]
  },
  {
   "cell_type": "code",
   "execution_count": 19,
   "id": "7035e54a-c718-4331-b1e5-c4f8081353d6",
   "metadata": {
    "tags": []
   },
   "outputs": [
    {
     "data": {
      "text/plain": [
       "make                 0\n",
       "model                0\n",
       "year                 0\n",
       "engine_hp            0\n",
       "engine_cylinders     0\n",
       "transmission_type    0\n",
       "vehicle_style        0\n",
       "highway_mpg          0\n",
       "city_mpg             0\n",
       "msrp                 0\n",
       "dtype: int64"
      ]
     },
     "execution_count": 19,
     "metadata": {},
     "output_type": "execute_result"
    }
   ],
   "source": [
    "df.isnull().sum()"
   ]
  },
  {
   "cell_type": "code",
   "execution_count": 23,
   "id": "987d41a7-64f2-4fc4-a889-3efaea6894b0",
   "metadata": {
    "tags": []
   },
   "outputs": [
    {
     "data": {
      "text/plain": [
       "40594.737032063116"
      ]
     },
     "execution_count": 23,
     "metadata": {},
     "output_type": "execute_result"
    }
   ],
   "source": [
    "price_mean=df['msrp'].mean()\n",
    "price_mean"
   ]
  },
  {
   "cell_type": "code",
   "execution_count": 24,
   "id": "710f7b2f-caf1-40a6-9436-5871cbf277cc",
   "metadata": {
    "tags": []
   },
   "outputs": [],
   "source": [
    "df['msrp']= np.where(df['msrp'] > price_mean,1,0)"
   ]
  },
  {
   "cell_type": "code",
   "execution_count": 32,
   "id": "2a2149e2-0e8f-43e7-a6fc-ae1f1a66a66d",
   "metadata": {
    "tags": []
   },
   "outputs": [],
   "source": [
    "df.rename(columns = {'price': 'above_average'}, inplace=True)"
   ]
  },
  {
   "cell_type": "code",
   "execution_count": 103,
   "id": "5e870c8d-23e2-46e9-abe2-29373ef83d35",
   "metadata": {
    "tags": []
   },
   "outputs": [
    {
     "data": {
      "text/plain": [
       "make                  object\n",
       "model                 object\n",
       "year                   int64\n",
       "engine_hp            float64\n",
       "engine_cylinders     float64\n",
       "transmission_type     object\n",
       "vehicle_style         object\n",
       "highway_mpg            int64\n",
       "city_mpg               int64\n",
       "above_average          int64\n",
       "dtype: object"
      ]
     },
     "execution_count": 103,
     "metadata": {},
     "output_type": "execute_result"
    }
   ],
   "source": [
    "df.dtypes"
   ]
  },
  {
   "cell_type": "code",
   "execution_count": 271,
   "id": "0800dc1b-18b3-4090-adce-ee4ec099e06c",
   "metadata": {
    "tags": []
   },
   "outputs": [],
   "source": [
    "numerical = list (df.dtypes[df.dtypes!='object'].index)"
   ]
  },
  {
   "cell_type": "code",
   "execution_count": 272,
   "id": "6e95c290-a04c-4817-95b4-bbe3fe7a7d40",
   "metadata": {
    "tags": []
   },
   "outputs": [
    {
     "data": {
      "text/plain": [
       "['year',\n",
       " 'engine_hp',\n",
       " 'engine_cylinders',\n",
       " 'highway_mpg',\n",
       " 'city_mpg',\n",
       " 'above_average']"
      ]
     },
     "execution_count": 272,
     "metadata": {},
     "output_type": "execute_result"
    }
   ],
   "source": [
    "numerical"
   ]
  },
  {
   "cell_type": "code",
   "execution_count": 273,
   "id": "e162e88f-2fb4-45e1-9224-7482a12eb244",
   "metadata": {
    "tags": []
   },
   "outputs": [],
   "source": [
    "df_num = df[numerical]"
   ]
  },
  {
   "cell_type": "code",
   "execution_count": 274,
   "id": "a4bb3ffd-b7ce-45c5-b107-73842362d872",
   "metadata": {
    "tags": []
   },
   "outputs": [
    {
     "data": {
      "text/html": [
       "<div>\n",
       "<style scoped>\n",
       "    .dataframe tbody tr th:only-of-type {\n",
       "        vertical-align: middle;\n",
       "    }\n",
       "\n",
       "    .dataframe tbody tr th {\n",
       "        vertical-align: top;\n",
       "    }\n",
       "\n",
       "    .dataframe thead th {\n",
       "        text-align: right;\n",
       "    }\n",
       "</style>\n",
       "<table border=\"1\" class=\"dataframe\">\n",
       "  <thead>\n",
       "    <tr style=\"text-align: right;\">\n",
       "      <th></th>\n",
       "      <th>year</th>\n",
       "      <th>engine_hp</th>\n",
       "      <th>engine_cylinders</th>\n",
       "      <th>highway_mpg</th>\n",
       "      <th>city_mpg</th>\n",
       "      <th>above_average</th>\n",
       "    </tr>\n",
       "  </thead>\n",
       "  <tbody>\n",
       "    <tr>\n",
       "      <th>0</th>\n",
       "      <td>2011</td>\n",
       "      <td>335.0</td>\n",
       "      <td>6.0</td>\n",
       "      <td>26</td>\n",
       "      <td>19</td>\n",
       "      <td>1</td>\n",
       "    </tr>\n",
       "    <tr>\n",
       "      <th>1</th>\n",
       "      <td>2011</td>\n",
       "      <td>300.0</td>\n",
       "      <td>6.0</td>\n",
       "      <td>28</td>\n",
       "      <td>19</td>\n",
       "      <td>1</td>\n",
       "    </tr>\n",
       "    <tr>\n",
       "      <th>2</th>\n",
       "      <td>2011</td>\n",
       "      <td>300.0</td>\n",
       "      <td>6.0</td>\n",
       "      <td>28</td>\n",
       "      <td>20</td>\n",
       "      <td>0</td>\n",
       "    </tr>\n",
       "    <tr>\n",
       "      <th>3</th>\n",
       "      <td>2011</td>\n",
       "      <td>230.0</td>\n",
       "      <td>6.0</td>\n",
       "      <td>28</td>\n",
       "      <td>18</td>\n",
       "      <td>0</td>\n",
       "    </tr>\n",
       "    <tr>\n",
       "      <th>4</th>\n",
       "      <td>2011</td>\n",
       "      <td>230.0</td>\n",
       "      <td>6.0</td>\n",
       "      <td>28</td>\n",
       "      <td>18</td>\n",
       "      <td>0</td>\n",
       "    </tr>\n",
       "    <tr>\n",
       "      <th>...</th>\n",
       "      <td>...</td>\n",
       "      <td>...</td>\n",
       "      <td>...</td>\n",
       "      <td>...</td>\n",
       "      <td>...</td>\n",
       "      <td>...</td>\n",
       "    </tr>\n",
       "    <tr>\n",
       "      <th>11909</th>\n",
       "      <td>2012</td>\n",
       "      <td>300.0</td>\n",
       "      <td>6.0</td>\n",
       "      <td>23</td>\n",
       "      <td>16</td>\n",
       "      <td>1</td>\n",
       "    </tr>\n",
       "    <tr>\n",
       "      <th>11910</th>\n",
       "      <td>2012</td>\n",
       "      <td>300.0</td>\n",
       "      <td>6.0</td>\n",
       "      <td>23</td>\n",
       "      <td>16</td>\n",
       "      <td>1</td>\n",
       "    </tr>\n",
       "    <tr>\n",
       "      <th>11911</th>\n",
       "      <td>2012</td>\n",
       "      <td>300.0</td>\n",
       "      <td>6.0</td>\n",
       "      <td>23</td>\n",
       "      <td>16</td>\n",
       "      <td>1</td>\n",
       "    </tr>\n",
       "    <tr>\n",
       "      <th>11912</th>\n",
       "      <td>2013</td>\n",
       "      <td>300.0</td>\n",
       "      <td>6.0</td>\n",
       "      <td>23</td>\n",
       "      <td>16</td>\n",
       "      <td>1</td>\n",
       "    </tr>\n",
       "    <tr>\n",
       "      <th>11913</th>\n",
       "      <td>2006</td>\n",
       "      <td>221.0</td>\n",
       "      <td>6.0</td>\n",
       "      <td>26</td>\n",
       "      <td>17</td>\n",
       "      <td>0</td>\n",
       "    </tr>\n",
       "  </tbody>\n",
       "</table>\n",
       "<p>11914 rows × 6 columns</p>\n",
       "</div>"
      ],
      "text/plain": [
       "       year  engine_hp  engine_cylinders  highway_mpg  city_mpg  above_average\n",
       "0      2011      335.0               6.0           26        19              1\n",
       "1      2011      300.0               6.0           28        19              1\n",
       "2      2011      300.0               6.0           28        20              0\n",
       "3      2011      230.0               6.0           28        18              0\n",
       "4      2011      230.0               6.0           28        18              0\n",
       "...     ...        ...               ...          ...       ...            ...\n",
       "11909  2012      300.0               6.0           23        16              1\n",
       "11910  2012      300.0               6.0           23        16              1\n",
       "11911  2012      300.0               6.0           23        16              1\n",
       "11912  2013      300.0               6.0           23        16              1\n",
       "11913  2006      221.0               6.0           26        17              0\n",
       "\n",
       "[11914 rows x 6 columns]"
      ]
     },
     "execution_count": 274,
     "metadata": {},
     "output_type": "execute_result"
    }
   ],
   "source": [
    "df_num"
   ]
  },
  {
   "cell_type": "code",
   "execution_count": 221,
   "id": "3cb09d22-fb26-4010-bcbc-083a10c2d53c",
   "metadata": {
    "tags": []
   },
   "outputs": [],
   "source": [
    "from sklearn.metrics import auc"
   ]
  },
  {
   "cell_type": "code",
   "execution_count": 275,
   "id": "fc89a267-6f37-4915-bca1-e9147766cc2f",
   "metadata": {
    "tags": []
   },
   "outputs": [
    {
     "data": {
      "text/html": [
       "<div>\n",
       "<style scoped>\n",
       "    .dataframe tbody tr th:only-of-type {\n",
       "        vertical-align: middle;\n",
       "    }\n",
       "\n",
       "    .dataframe tbody tr th {\n",
       "        vertical-align: top;\n",
       "    }\n",
       "\n",
       "    .dataframe thead th {\n",
       "        text-align: right;\n",
       "    }\n",
       "</style>\n",
       "<table border=\"1\" class=\"dataframe\">\n",
       "  <thead>\n",
       "    <tr style=\"text-align: right;\">\n",
       "      <th></th>\n",
       "      <th>year</th>\n",
       "      <th>engine_hp</th>\n",
       "      <th>engine_cylinders</th>\n",
       "      <th>highway_mpg</th>\n",
       "      <th>city_mpg</th>\n",
       "      <th>above_average</th>\n",
       "    </tr>\n",
       "  </thead>\n",
       "  <tbody>\n",
       "    <tr>\n",
       "      <th>year</th>\n",
       "      <td>1.000000</td>\n",
       "      <td>0.338714</td>\n",
       "      <td>-0.040708</td>\n",
       "      <td>0.258240</td>\n",
       "      <td>0.198171</td>\n",
       "      <td>0.318311</td>\n",
       "    </tr>\n",
       "    <tr>\n",
       "      <th>engine_hp</th>\n",
       "      <td>0.338714</td>\n",
       "      <td>1.000000</td>\n",
       "      <td>0.774851</td>\n",
       "      <td>-0.415707</td>\n",
       "      <td>-0.424918</td>\n",
       "      <td>0.660518</td>\n",
       "    </tr>\n",
       "    <tr>\n",
       "      <th>engine_cylinders</th>\n",
       "      <td>-0.040708</td>\n",
       "      <td>0.774851</td>\n",
       "      <td>1.000000</td>\n",
       "      <td>-0.614541</td>\n",
       "      <td>-0.587306</td>\n",
       "      <td>0.448907</td>\n",
       "    </tr>\n",
       "    <tr>\n",
       "      <th>highway_mpg</th>\n",
       "      <td>0.258240</td>\n",
       "      <td>-0.415707</td>\n",
       "      <td>-0.614541</td>\n",
       "      <td>1.000000</td>\n",
       "      <td>0.886829</td>\n",
       "      <td>-0.133440</td>\n",
       "    </tr>\n",
       "    <tr>\n",
       "      <th>city_mpg</th>\n",
       "      <td>0.198171</td>\n",
       "      <td>-0.424918</td>\n",
       "      <td>-0.587306</td>\n",
       "      <td>0.886829</td>\n",
       "      <td>1.000000</td>\n",
       "      <td>-0.149233</td>\n",
       "    </tr>\n",
       "    <tr>\n",
       "      <th>above_average</th>\n",
       "      <td>0.318311</td>\n",
       "      <td>0.660518</td>\n",
       "      <td>0.448907</td>\n",
       "      <td>-0.133440</td>\n",
       "      <td>-0.149233</td>\n",
       "      <td>1.000000</td>\n",
       "    </tr>\n",
       "  </tbody>\n",
       "</table>\n",
       "</div>"
      ],
      "text/plain": [
       "                      year  engine_hp  engine_cylinders  highway_mpg  \\\n",
       "year              1.000000   0.338714         -0.040708     0.258240   \n",
       "engine_hp         0.338714   1.000000          0.774851    -0.415707   \n",
       "engine_cylinders -0.040708   0.774851          1.000000    -0.614541   \n",
       "highway_mpg       0.258240  -0.415707         -0.614541     1.000000   \n",
       "city_mpg          0.198171  -0.424918         -0.587306     0.886829   \n",
       "above_average     0.318311   0.660518          0.448907    -0.133440   \n",
       "\n",
       "                  city_mpg  above_average  \n",
       "year              0.198171       0.318311  \n",
       "engine_hp        -0.424918       0.660518  \n",
       "engine_cylinders -0.587306       0.448907  \n",
       "highway_mpg       0.886829      -0.133440  \n",
       "city_mpg          1.000000      -0.149233  \n",
       "above_average    -0.149233       1.000000  "
      ]
     },
     "execution_count": 275,
     "metadata": {},
     "output_type": "execute_result"
    }
   ],
   "source": [
    "df_num.corr()"
   ]
  },
  {
   "cell_type": "code",
   "execution_count": 276,
   "id": "9d08129e-17b0-4736-8cfa-85af88bdb534",
   "metadata": {
    "tags": []
   },
   "outputs": [
    {
     "name": "stdout",
     "output_type": "stream",
     "text": [
      "engine_hp -1.1518481518481527\n",
      "engine_cylinders 0.3125\n",
      "highway_mpg -0.6412429378531075\n",
      "city_mpg -2.419708029197083\n"
     ]
    }
   ],
   "source": [
    "for col in ['engine_hp','engine_cylinders','highway_mpg','city_mpg']:\n",
    "    area=0\n",
    "    dfcol_scaled=df[col]/df[col].max()\n",
    "    for j in np.arange(1,df.shape[0]):\n",
    "        #dfi=df.sort_values(by=i)[i]\n",
    "        \n",
    "        #dfa=df.sort_values(by=['above_average'])['above_average']\n",
    "        \n",
    "        #area = auc(dfi_scaled,dfa)\n",
    "        #area = area + (dfcol_scaled[j]-dfcol_scaled[j-1])* (df['above_average'][j]+df['above_average'][j-1])/2\n",
    "        area = area + (dfcol_scaled[j]+dfcol_scaled[j-1])* (df['above_average'][j]-df['above_average'][j-1])/2\n",
    "\n",
    "    print (col, area)\n",
    "    "
   ]
  },
  {
   "cell_type": "markdown",
   "id": "6c6d0a80-4c22-4790-b380-8116a2d6a988",
   "metadata": {},
   "source": [
    "# Answer - 2"
   ]
  },
  {
   "cell_type": "code",
   "execution_count": 34,
   "id": "6198c768-8c19-44ee-b7bc-1ded70495af9",
   "metadata": {
    "tags": []
   },
   "outputs": [],
   "source": [
    "from sklearn.model_selection import train_test_split"
   ]
  },
  {
   "cell_type": "code",
   "execution_count": 44,
   "id": "0e26121c-d40f-4ba1-a7a9-ff0b5799395f",
   "metadata": {
    "tags": []
   },
   "outputs": [],
   "source": [
    "df_fulltrain, df_test=train_test_split(df, test_size=0.2, random_state=1)"
   ]
  },
  {
   "cell_type": "code",
   "execution_count": 45,
   "id": "d24d080c-6595-4237-93c1-db7aa353fe13",
   "metadata": {
    "tags": []
   },
   "outputs": [],
   "source": [
    "df_train, df_val=train_test_split(df_fulltrain, test_size=0.25, random_state=1)"
   ]
  },
  {
   "cell_type": "code",
   "execution_count": 48,
   "id": "27e2811d-93d2-4a9a-a47d-d2bfc3588332",
   "metadata": {
    "tags": []
   },
   "outputs": [],
   "source": [
    "dfX_train = df_train[['make', 'model', 'year',  'engine_hp',\n",
    "       'engine_cylinders', 'transmission_type', 'vehicle_style',\n",
    "       'highway_mpg', 'city_mpg']]\n",
    "dfX_val = df_val[['make', 'model', 'year',  'engine_hp',\n",
    "       'engine_cylinders', 'transmission_type', 'vehicle_style',\n",
    "       'highway_mpg', 'city_mpg']]\n",
    "dfX_test = df_test[['make', 'model', 'year',  'engine_hp',\n",
    "       'engine_cylinders', 'transmission_type', 'vehicle_style',\n",
    "       'highway_mpg', 'city_mpg']]"
   ]
  },
  {
   "cell_type": "code",
   "execution_count": 47,
   "id": "dd0828dc-17ea-4837-bbec-843263e9dfc5",
   "metadata": {
    "tags": []
   },
   "outputs": [],
   "source": [
    "y_train = df_train['above_average']\n",
    "y_val = df_val['above_average']\n",
    "y_test = df_test['above_average']"
   ]
  },
  {
   "cell_type": "code",
   "execution_count": 50,
   "id": "9806a5e7-a288-439f-91cf-8d102153a305",
   "metadata": {
    "tags": []
   },
   "outputs": [],
   "source": [
    "dictX_train= dfX_train.to_dict(orient='records')\n",
    "dictX_val= dfX_val.to_dict(orient='records')\n",
    "dictX_test= dfX_test.to_dict(orient='records')"
   ]
  },
  {
   "cell_type": "code",
   "execution_count": null,
   "id": "061562e3-996c-4a74-ae6b-ccb706c4b3bd",
   "metadata": {},
   "outputs": [],
   "source": [
    "X_train_dict = dv.fit(X_train_dict)"
   ]
  },
  {
   "cell_type": "code",
   "execution_count": 39,
   "id": "7c61c2aa-88fe-4bee-90ee-4ca7b2ad60c9",
   "metadata": {
    "tags": []
   },
   "outputs": [],
   "source": [
    "from sklearn.feature_extraction import DictVectorizer"
   ]
  },
  {
   "cell_type": "code",
   "execution_count": 41,
   "id": "62fed0c4-1c16-4a6d-b78b-bc9151f97a17",
   "metadata": {
    "tags": []
   },
   "outputs": [],
   "source": [
    "dv = DictVectorizer(sparse=True)"
   ]
  },
  {
   "cell_type": "code",
   "execution_count": 51,
   "id": "1be98e35-db24-49ab-bf7a-c8b0da096377",
   "metadata": {
    "tags": []
   },
   "outputs": [
    {
     "data": {
      "text/html": [
       "<style>#sk-container-id-1 {color: black;}#sk-container-id-1 pre{padding: 0;}#sk-container-id-1 div.sk-toggleable {background-color: white;}#sk-container-id-1 label.sk-toggleable__label {cursor: pointer;display: block;width: 100%;margin-bottom: 0;padding: 0.3em;box-sizing: border-box;text-align: center;}#sk-container-id-1 label.sk-toggleable__label-arrow:before {content: \"▸\";float: left;margin-right: 0.25em;color: #696969;}#sk-container-id-1 label.sk-toggleable__label-arrow:hover:before {color: black;}#sk-container-id-1 div.sk-estimator:hover label.sk-toggleable__label-arrow:before {color: black;}#sk-container-id-1 div.sk-toggleable__content {max-height: 0;max-width: 0;overflow: hidden;text-align: left;background-color: #f0f8ff;}#sk-container-id-1 div.sk-toggleable__content pre {margin: 0.2em;color: black;border-radius: 0.25em;background-color: #f0f8ff;}#sk-container-id-1 input.sk-toggleable__control:checked~div.sk-toggleable__content {max-height: 200px;max-width: 100%;overflow: auto;}#sk-container-id-1 input.sk-toggleable__control:checked~label.sk-toggleable__label-arrow:before {content: \"▾\";}#sk-container-id-1 div.sk-estimator input.sk-toggleable__control:checked~label.sk-toggleable__label {background-color: #d4ebff;}#sk-container-id-1 div.sk-label input.sk-toggleable__control:checked~label.sk-toggleable__label {background-color: #d4ebff;}#sk-container-id-1 input.sk-hidden--visually {border: 0;clip: rect(1px 1px 1px 1px);clip: rect(1px, 1px, 1px, 1px);height: 1px;margin: -1px;overflow: hidden;padding: 0;position: absolute;width: 1px;}#sk-container-id-1 div.sk-estimator {font-family: monospace;background-color: #f0f8ff;border: 1px dotted black;border-radius: 0.25em;box-sizing: border-box;margin-bottom: 0.5em;}#sk-container-id-1 div.sk-estimator:hover {background-color: #d4ebff;}#sk-container-id-1 div.sk-parallel-item::after {content: \"\";width: 100%;border-bottom: 1px solid gray;flex-grow: 1;}#sk-container-id-1 div.sk-label:hover label.sk-toggleable__label {background-color: #d4ebff;}#sk-container-id-1 div.sk-serial::before {content: \"\";position: absolute;border-left: 1px solid gray;box-sizing: border-box;top: 0;bottom: 0;left: 50%;z-index: 0;}#sk-container-id-1 div.sk-serial {display: flex;flex-direction: column;align-items: center;background-color: white;padding-right: 0.2em;padding-left: 0.2em;position: relative;}#sk-container-id-1 div.sk-item {position: relative;z-index: 1;}#sk-container-id-1 div.sk-parallel {display: flex;align-items: stretch;justify-content: center;background-color: white;position: relative;}#sk-container-id-1 div.sk-item::before, #sk-container-id-1 div.sk-parallel-item::before {content: \"\";position: absolute;border-left: 1px solid gray;box-sizing: border-box;top: 0;bottom: 0;left: 50%;z-index: -1;}#sk-container-id-1 div.sk-parallel-item {display: flex;flex-direction: column;z-index: 1;position: relative;background-color: white;}#sk-container-id-1 div.sk-parallel-item:first-child::after {align-self: flex-end;width: 50%;}#sk-container-id-1 div.sk-parallel-item:last-child::after {align-self: flex-start;width: 50%;}#sk-container-id-1 div.sk-parallel-item:only-child::after {width: 0;}#sk-container-id-1 div.sk-dashed-wrapped {border: 1px dashed gray;margin: 0 0.4em 0.5em 0.4em;box-sizing: border-box;padding-bottom: 0.4em;background-color: white;}#sk-container-id-1 div.sk-label label {font-family: monospace;font-weight: bold;display: inline-block;line-height: 1.2em;}#sk-container-id-1 div.sk-label-container {text-align: center;}#sk-container-id-1 div.sk-container {/* jupyter's `normalize.less` sets `[hidden] { display: none; }` but bootstrap.min.css set `[hidden] { display: none !important; }` so we also need the `!important` here to be able to override the default hidden behavior on the sphinx rendered scikit-learn.org. See: https://github.com/scikit-learn/scikit-learn/issues/21755 */display: inline-block !important;position: relative;}#sk-container-id-1 div.sk-text-repr-fallback {display: none;}</style><div id=\"sk-container-id-1\" class=\"sk-top-container\"><div class=\"sk-text-repr-fallback\"><pre>DictVectorizer()</pre><b>In a Jupyter environment, please rerun this cell to show the HTML representation or trust the notebook. <br />On GitHub, the HTML representation is unable to render, please try loading this page with nbviewer.org.</b></div><div class=\"sk-container\" hidden><div class=\"sk-item\"><div class=\"sk-estimator sk-toggleable\"><input class=\"sk-toggleable__control sk-hidden--visually\" id=\"sk-estimator-id-1\" type=\"checkbox\" checked><label for=\"sk-estimator-id-1\" class=\"sk-toggleable__label sk-toggleable__label-arrow\">DictVectorizer</label><div class=\"sk-toggleable__content\"><pre>DictVectorizer()</pre></div></div></div></div></div>"
      ],
      "text/plain": [
       "DictVectorizer()"
      ]
     },
     "execution_count": 51,
     "metadata": {},
     "output_type": "execute_result"
    }
   ],
   "source": [
    "dv.fit(dictX_train)"
   ]
  },
  {
   "cell_type": "code",
   "execution_count": 52,
   "id": "4d219cf5-6b3a-4c3f-b5f1-8c1632346e73",
   "metadata": {
    "tags": []
   },
   "outputs": [],
   "source": [
    "X_train = dv.transform(dictX_train)\n",
    "X_val = dv.transform(dictX_val)\n",
    "X_test = dv.transform(dictX_test)"
   ]
  },
  {
   "cell_type": "code",
   "execution_count": 56,
   "id": "12e3972e-5f22-4b2c-a304-fc3076467d37",
   "metadata": {
    "tags": []
   },
   "outputs": [],
   "source": [
    "from sklearn.linear_model import LogisticRegression"
   ]
  },
  {
   "cell_type": "code",
   "execution_count": 57,
   "id": "425f2e19-5f7a-4ab8-b39c-46672a57798d",
   "metadata": {
    "tags": []
   },
   "outputs": [],
   "source": [
    "lv=LogisticRegression(solver='liblinear', C=1.0, max_iter=1000)"
   ]
  },
  {
   "cell_type": "code",
   "execution_count": 58,
   "id": "5d3c12ae-6213-4e5e-8247-f34fc8af1207",
   "metadata": {
    "tags": []
   },
   "outputs": [
    {
     "data": {
      "text/html": [
       "<style>#sk-container-id-2 {color: black;}#sk-container-id-2 pre{padding: 0;}#sk-container-id-2 div.sk-toggleable {background-color: white;}#sk-container-id-2 label.sk-toggleable__label {cursor: pointer;display: block;width: 100%;margin-bottom: 0;padding: 0.3em;box-sizing: border-box;text-align: center;}#sk-container-id-2 label.sk-toggleable__label-arrow:before {content: \"▸\";float: left;margin-right: 0.25em;color: #696969;}#sk-container-id-2 label.sk-toggleable__label-arrow:hover:before {color: black;}#sk-container-id-2 div.sk-estimator:hover label.sk-toggleable__label-arrow:before {color: black;}#sk-container-id-2 div.sk-toggleable__content {max-height: 0;max-width: 0;overflow: hidden;text-align: left;background-color: #f0f8ff;}#sk-container-id-2 div.sk-toggleable__content pre {margin: 0.2em;color: black;border-radius: 0.25em;background-color: #f0f8ff;}#sk-container-id-2 input.sk-toggleable__control:checked~div.sk-toggleable__content {max-height: 200px;max-width: 100%;overflow: auto;}#sk-container-id-2 input.sk-toggleable__control:checked~label.sk-toggleable__label-arrow:before {content: \"▾\";}#sk-container-id-2 div.sk-estimator input.sk-toggleable__control:checked~label.sk-toggleable__label {background-color: #d4ebff;}#sk-container-id-2 div.sk-label input.sk-toggleable__control:checked~label.sk-toggleable__label {background-color: #d4ebff;}#sk-container-id-2 input.sk-hidden--visually {border: 0;clip: rect(1px 1px 1px 1px);clip: rect(1px, 1px, 1px, 1px);height: 1px;margin: -1px;overflow: hidden;padding: 0;position: absolute;width: 1px;}#sk-container-id-2 div.sk-estimator {font-family: monospace;background-color: #f0f8ff;border: 1px dotted black;border-radius: 0.25em;box-sizing: border-box;margin-bottom: 0.5em;}#sk-container-id-2 div.sk-estimator:hover {background-color: #d4ebff;}#sk-container-id-2 div.sk-parallel-item::after {content: \"\";width: 100%;border-bottom: 1px solid gray;flex-grow: 1;}#sk-container-id-2 div.sk-label:hover label.sk-toggleable__label {background-color: #d4ebff;}#sk-container-id-2 div.sk-serial::before {content: \"\";position: absolute;border-left: 1px solid gray;box-sizing: border-box;top: 0;bottom: 0;left: 50%;z-index: 0;}#sk-container-id-2 div.sk-serial {display: flex;flex-direction: column;align-items: center;background-color: white;padding-right: 0.2em;padding-left: 0.2em;position: relative;}#sk-container-id-2 div.sk-item {position: relative;z-index: 1;}#sk-container-id-2 div.sk-parallel {display: flex;align-items: stretch;justify-content: center;background-color: white;position: relative;}#sk-container-id-2 div.sk-item::before, #sk-container-id-2 div.sk-parallel-item::before {content: \"\";position: absolute;border-left: 1px solid gray;box-sizing: border-box;top: 0;bottom: 0;left: 50%;z-index: -1;}#sk-container-id-2 div.sk-parallel-item {display: flex;flex-direction: column;z-index: 1;position: relative;background-color: white;}#sk-container-id-2 div.sk-parallel-item:first-child::after {align-self: flex-end;width: 50%;}#sk-container-id-2 div.sk-parallel-item:last-child::after {align-self: flex-start;width: 50%;}#sk-container-id-2 div.sk-parallel-item:only-child::after {width: 0;}#sk-container-id-2 div.sk-dashed-wrapped {border: 1px dashed gray;margin: 0 0.4em 0.5em 0.4em;box-sizing: border-box;padding-bottom: 0.4em;background-color: white;}#sk-container-id-2 div.sk-label label {font-family: monospace;font-weight: bold;display: inline-block;line-height: 1.2em;}#sk-container-id-2 div.sk-label-container {text-align: center;}#sk-container-id-2 div.sk-container {/* jupyter's `normalize.less` sets `[hidden] { display: none; }` but bootstrap.min.css set `[hidden] { display: none !important; }` so we also need the `!important` here to be able to override the default hidden behavior on the sphinx rendered scikit-learn.org. See: https://github.com/scikit-learn/scikit-learn/issues/21755 */display: inline-block !important;position: relative;}#sk-container-id-2 div.sk-text-repr-fallback {display: none;}</style><div id=\"sk-container-id-2\" class=\"sk-top-container\"><div class=\"sk-text-repr-fallback\"><pre>LogisticRegression(max_iter=1000, solver=&#x27;liblinear&#x27;)</pre><b>In a Jupyter environment, please rerun this cell to show the HTML representation or trust the notebook. <br />On GitHub, the HTML representation is unable to render, please try loading this page with nbviewer.org.</b></div><div class=\"sk-container\" hidden><div class=\"sk-item\"><div class=\"sk-estimator sk-toggleable\"><input class=\"sk-toggleable__control sk-hidden--visually\" id=\"sk-estimator-id-2\" type=\"checkbox\" checked><label for=\"sk-estimator-id-2\" class=\"sk-toggleable__label sk-toggleable__label-arrow\">LogisticRegression</label><div class=\"sk-toggleable__content\"><pre>LogisticRegression(max_iter=1000, solver=&#x27;liblinear&#x27;)</pre></div></div></div></div></div>"
      ],
      "text/plain": [
       "LogisticRegression(max_iter=1000, solver='liblinear')"
      ]
     },
     "execution_count": 58,
     "metadata": {},
     "output_type": "execute_result"
    }
   ],
   "source": [
    "lv.fit(X_train, y_train)"
   ]
  },
  {
   "cell_type": "code",
   "execution_count": 73,
   "id": "a208640c-2559-45de-a206-e391ff51f006",
   "metadata": {
    "tags": []
   },
   "outputs": [],
   "source": [
    "y_val_pred = lv.predict_proba(X_val)[:,1]"
   ]
  },
  {
   "cell_type": "code",
   "execution_count": 61,
   "id": "571c548b-6fb7-454c-b064-8533ea010275",
   "metadata": {
    "tags": []
   },
   "outputs": [],
   "source": [
    "from sklearn.metrics import auc\n",
    "from sklearn.metrics import roc_curve"
   ]
  },
  {
   "cell_type": "code",
   "execution_count": 74,
   "id": "6bebdcbf-a929-478d-9997-61bd16791acf",
   "metadata": {
    "tags": []
   },
   "outputs": [
    {
     "data": {
      "text/plain": [
       "array([0.64240495, 0.01506024, 0.48519413, ..., 0.00528823, 0.99998724,\n",
       "       0.09593936])"
      ]
     },
     "execution_count": 74,
     "metadata": {},
     "output_type": "execute_result"
    }
   ],
   "source": [
    "y_val_pred"
   ]
  },
  {
   "cell_type": "code",
   "execution_count": 81,
   "id": "71e9b60c-de19-4833-91b9-de4fb37ebd26",
   "metadata": {
    "tags": []
   },
   "outputs": [],
   "source": [
    "fpr, tpr, thresholds = roc_curve(y_val, y_val_pred)"
   ]
  },
  {
   "cell_type": "code",
   "execution_count": 83,
   "id": "e300765b-1011-41a5-9c6e-9c377daa1c81",
   "metadata": {
    "tags": []
   },
   "outputs": [
    {
     "data": {
      "text/plain": [
       "0.977"
      ]
     },
     "execution_count": 83,
     "metadata": {},
     "output_type": "execute_result"
    }
   ],
   "source": [
    "aoc_value=auc(fpr,tpr)\n",
    "round(aoc_value,3)"
   ]
  },
  {
   "cell_type": "code",
   "execution_count": 84,
   "id": "11826e1c-552d-4035-b6cf-d93cafb153d4",
   "metadata": {
    "tags": []
   },
   "outputs": [],
   "source": [
    "from sklearn.metrics import roc_auc_score"
   ]
  },
  {
   "cell_type": "code",
   "execution_count": 85,
   "id": "0a4dca4a-30ff-4af4-9076-1afbf2cabe95",
   "metadata": {
    "tags": []
   },
   "outputs": [],
   "source": [
    "area_under_roc = roc_auc_score(y_val,y_val_pred)"
   ]
  },
  {
   "cell_type": "code",
   "execution_count": 86,
   "id": "9e4e2eca-30a6-4884-9f3c-c91327f63307",
   "metadata": {
    "tags": []
   },
   "outputs": [
    {
     "data": {
      "text/plain": [
       "0.977"
      ]
     },
     "execution_count": 86,
     "metadata": {},
     "output_type": "execute_result"
    }
   ],
   "source": [
    "round(aoc_value,3)"
   ]
  },
  {
   "cell_type": "markdown",
   "id": "3f0f51c9-c544-40dc-a0f5-d26795adb901",
   "metadata": {},
   "source": [
    "# Answer - 3"
   ]
  },
  {
   "cell_type": "code",
   "execution_count": 126,
   "id": "70c3d0bd-72f6-40a8-b017-deb3d3b80dfc",
   "metadata": {
    "tags": []
   },
   "outputs": [
    {
     "data": {
      "text/plain": [
       "array([0.  , 0.01, 0.02, 0.03, 0.04, 0.05, 0.06, 0.07, 0.08, 0.09, 0.1 ,\n",
       "       0.11, 0.12, 0.13, 0.14, 0.15, 0.16, 0.17, 0.18, 0.19, 0.2 , 0.21,\n",
       "       0.22, 0.23, 0.24, 0.25, 0.26, 0.27, 0.28, 0.29, 0.3 , 0.31, 0.32,\n",
       "       0.33, 0.34, 0.35, 0.36, 0.37, 0.38, 0.39, 0.4 , 0.41, 0.42, 0.43,\n",
       "       0.44, 0.45, 0.46, 0.47, 0.48, 0.49, 0.5 , 0.51, 0.52, 0.53, 0.54,\n",
       "       0.55, 0.56, 0.57, 0.58, 0.59, 0.6 , 0.61, 0.62, 0.63, 0.64, 0.65,\n",
       "       0.66, 0.67, 0.68, 0.69, 0.7 , 0.71, 0.72, 0.73, 0.74, 0.75, 0.76,\n",
       "       0.77, 0.78, 0.79, 0.8 , 0.81, 0.82, 0.83, 0.84, 0.85, 0.86, 0.87,\n",
       "       0.88, 0.89, 0.9 , 0.91, 0.92, 0.93, 0.94, 0.95, 0.96, 0.97, 0.98,\n",
       "       0.99, 1.  ])"
      ]
     },
     "execution_count": 126,
     "metadata": {},
     "output_type": "execute_result"
    }
   ],
   "source": [
    "\n",
    "thresholds"
   ]
  },
  {
   "cell_type": "code",
   "execution_count": 156,
   "id": "88fc26b8-e199-4d96-b9dd-41a7da7e99fa",
   "metadata": {
    "tags": []
   },
   "outputs": [],
   "source": [
    "\n",
    "\n",
    "thresholds = np.linspace(0,1,101)\n",
    "\n",
    "scores = []\n",
    "for t in thresholds:\n",
    "    actual_positive= (y_val==1)\n",
    "    actual_negative= (y_val==0)\n",
    "\n",
    "\n",
    "    high_price = (y_val_pred >= t)\n",
    "    score = (y_val == high_price).mean()\n",
    "\n",
    "    predict_positive= (high_price==1)\n",
    "    predict_negative=(high_price==0)\n",
    "    \n",
    "    tp=(predict_positive & actual_positive).sum()\n",
    "    tn=(predict_negative & actual_negative).sum()\n",
    "    fp=(predict_positive & actual_negative).sum()\n",
    "    fn=(predict_negative & actual_positive).sum()\n",
    "    \n",
    "\n",
    "    #confusion_matrix = np.array[[tn,fp],[fn,tp]]\n",
    "    scores.append((t,tp,fp,tn,fn))\n",
    "    #print (\"%.2f, %.3f\", t, score,actual_positive,)"
   ]
  },
  {
   "cell_type": "code",
   "execution_count": 157,
   "id": "b95a8226-31cb-4e43-a92f-3501a2e5e524",
   "metadata": {
    "tags": []
   },
   "outputs": [
    {
     "data": {
      "text/plain": [
       "[(0.0, 654, 1729, 0, 0),\n",
       " (0.01, 652, 839, 890, 2),\n",
       " (0.02, 651, 680, 1049, 3),\n",
       " (0.03, 651, 592, 1137, 3),\n",
       " (0.04, 650, 543, 1186, 4),\n",
       " (0.05, 649, 481, 1248, 5),\n",
       " (0.06, 648, 444, 1285, 6),\n",
       " (0.07, 648, 419, 1310, 6),\n",
       " (0.08, 647, 402, 1327, 7),\n",
       " (0.09, 645, 377, 1352, 9),\n",
       " (0.1, 643, 345, 1384, 11),\n",
       " (0.11, 643, 323, 1406, 11),\n",
       " (0.12, 641, 309, 1420, 13),\n",
       " (0.13, 640, 286, 1443, 14),\n",
       " (0.14, 638, 276, 1453, 16),\n",
       " (0.15, 637, 266, 1463, 17),\n",
       " (0.16, 636, 260, 1469, 18),\n",
       " (0.17, 633, 254, 1475, 21),\n",
       " (0.18, 630, 241, 1488, 24),\n",
       " (0.19, 626, 228, 1501, 28),\n",
       " (0.2, 622, 218, 1511, 32),\n",
       " (0.21, 622, 214, 1515, 32),\n",
       " (0.22, 621, 209, 1520, 33),\n",
       " (0.23, 620, 202, 1527, 34),\n",
       " (0.24, 616, 192, 1537, 38),\n",
       " (0.25, 613, 189, 1540, 41),\n",
       " (0.26, 611, 177, 1552, 43),\n",
       " (0.27, 608, 171, 1558, 46),\n",
       " (0.28, 608, 168, 1561, 46),\n",
       " (0.29, 606, 162, 1567, 48),\n",
       " (0.3, 606, 159, 1570, 48),\n",
       " (0.31, 603, 148, 1581, 51),\n",
       " (0.32, 601, 146, 1583, 53),\n",
       " (0.33, 598, 141, 1588, 56),\n",
       " (0.34, 596, 136, 1593, 58),\n",
       " (0.35000000000000003, 595, 134, 1595, 59),\n",
       " (0.36, 592, 133, 1596, 62),\n",
       " (0.37, 590, 125, 1604, 64),\n",
       " (0.38, 590, 118, 1611, 64),\n",
       " (0.39, 589, 114, 1615, 65),\n",
       " (0.4, 588, 109, 1620, 66),\n",
       " (0.41000000000000003, 584, 103, 1626, 70),\n",
       " (0.42, 581, 103, 1626, 73),\n",
       " (0.43, 581, 99, 1630, 73),\n",
       " (0.44, 580, 99, 1630, 74),\n",
       " (0.45, 578, 96, 1633, 76),\n",
       " (0.46, 573, 91, 1638, 81),\n",
       " (0.47000000000000003, 573, 87, 1642, 81),\n",
       " (0.48, 570, 87, 1642, 84),\n",
       " (0.49, 567, 80, 1649, 87),\n",
       " (0.5, 567, 76, 1653, 87),\n",
       " (0.51, 564, 76, 1653, 90),\n",
       " (0.52, 562, 73, 1656, 92),\n",
       " (0.53, 559, 68, 1661, 95),\n",
       " (0.54, 557, 65, 1664, 97),\n",
       " (0.55, 550, 59, 1670, 104),\n",
       " (0.56, 548, 58, 1671, 106),\n",
       " (0.5700000000000001, 546, 58, 1671, 108),\n",
       " (0.58, 541, 57, 1672, 113),\n",
       " (0.59, 540, 55, 1674, 114),\n",
       " (0.6, 522, 49, 1680, 132),\n",
       " (0.61, 517, 46, 1683, 137),\n",
       " (0.62, 512, 46, 1683, 142),\n",
       " (0.63, 508, 42, 1687, 146),\n",
       " (0.64, 506, 40, 1689, 148),\n",
       " (0.65, 501, 39, 1690, 153),\n",
       " (0.66, 497, 38, 1691, 157),\n",
       " (0.67, 496, 38, 1691, 158),\n",
       " (0.68, 495, 38, 1691, 159),\n",
       " (0.6900000000000001, 492, 38, 1691, 162),\n",
       " (0.7000000000000001, 490, 36, 1693, 164),\n",
       " (0.71, 486, 36, 1693, 168),\n",
       " (0.72, 483, 35, 1694, 171),\n",
       " (0.73, 477, 30, 1699, 177),\n",
       " (0.74, 477, 27, 1702, 177),\n",
       " (0.75, 472, 27, 1702, 182),\n",
       " (0.76, 468, 26, 1703, 186),\n",
       " (0.77, 456, 24, 1705, 198),\n",
       " (0.78, 451, 22, 1707, 203),\n",
       " (0.79, 441, 20, 1709, 213),\n",
       " (0.8, 440, 17, 1712, 214),\n",
       " (0.81, 429, 16, 1713, 225),\n",
       " (0.8200000000000001, 418, 11, 1718, 236),\n",
       " (0.8300000000000001, 411, 9, 1720, 243),\n",
       " (0.84, 404, 7, 1722, 250),\n",
       " (0.85, 394, 5, 1724, 260),\n",
       " (0.86, 389, 5, 1724, 265),\n",
       " (0.87, 376, 5, 1724, 278),\n",
       " (0.88, 368, 5, 1724, 286),\n",
       " (0.89, 355, 5, 1724, 299),\n",
       " (0.9, 347, 4, 1725, 307),\n",
       " (0.91, 337, 4, 1725, 317),\n",
       " (0.92, 314, 2, 1727, 340),\n",
       " (0.93, 303, 2, 1727, 351),\n",
       " (0.9400000000000001, 289, 1, 1728, 365),\n",
       " (0.9500000000000001, 278, 1, 1728, 376),\n",
       " (0.96, 255, 1, 1728, 399),\n",
       " (0.97, 237, 1, 1728, 417),\n",
       " (0.98, 211, 0, 1729, 443),\n",
       " (0.99, 181, 0, 1729, 473),\n",
       " (1.0, 0, 0, 1729, 654)]"
      ]
     },
     "execution_count": 157,
     "metadata": {},
     "output_type": "execute_result"
    }
   ],
   "source": [
    "scores"
   ]
  },
  {
   "cell_type": "code",
   "execution_count": 158,
   "id": "1e9dd7a2-7317-4ee1-b47b-6442f17d9db7",
   "metadata": {
    "tags": []
   },
   "outputs": [],
   "source": [
    "columns = ['threshold','tp','fp','tn','fn']"
   ]
  },
  {
   "cell_type": "code",
   "execution_count": 159,
   "id": "10d4c616-599d-44bf-9827-35f62714490e",
   "metadata": {
    "tags": []
   },
   "outputs": [],
   "source": [
    "df_scores = pd.DataFrame(scores, columns=columns)"
   ]
  },
  {
   "cell_type": "code",
   "execution_count": 179,
   "id": "1e0763a6-4542-484b-852b-e638a9dbbcd3",
   "metadata": {
    "tags": []
   },
   "outputs": [],
   "source": [
    "df_scores['precision'] = df_scores.tp/ (df_scores.tp+df_scores.fp)\n",
    "df_scores['recall'] = df_scores.tp/ (df_scores.tp+df_scores.fn)\n",
    "df_scores['diff']=round (df_scores.recall-df_scores.precision,4)\n",
    "df_scores['F1Score']= 2 * (df_scores.recall)*(df_scores.precision)/(df_scores.recall+df_scores.precision)\n"
   ]
  },
  {
   "cell_type": "code",
   "execution_count": 187,
   "id": "c72482bd-2d80-42e3-8b4e-713b8c620761",
   "metadata": {
    "tags": []
   },
   "outputs": [
    {
     "data": {
      "text/html": [
       "<div>\n",
       "<style scoped>\n",
       "    .dataframe tbody tr th:only-of-type {\n",
       "        vertical-align: middle;\n",
       "    }\n",
       "\n",
       "    .dataframe tbody tr th {\n",
       "        vertical-align: top;\n",
       "    }\n",
       "\n",
       "    .dataframe thead th {\n",
       "        text-align: right;\n",
       "    }\n",
       "</style>\n",
       "<table border=\"1\" class=\"dataframe\">\n",
       "  <thead>\n",
       "    <tr style=\"text-align: right;\">\n",
       "      <th></th>\n",
       "      <th>threshold</th>\n",
       "      <th>tp</th>\n",
       "      <th>fp</th>\n",
       "      <th>tn</th>\n",
       "      <th>fn</th>\n",
       "      <th>precision</th>\n",
       "      <th>recall</th>\n",
       "      <th>diff</th>\n",
       "      <th>F1Score</th>\n",
       "    </tr>\n",
       "  </thead>\n",
       "  <tbody>\n",
       "    <tr>\n",
       "      <th>45</th>\n",
       "      <td>0.45</td>\n",
       "      <td>578</td>\n",
       "      <td>96</td>\n",
       "      <td>1633</td>\n",
       "      <td>76</td>\n",
       "      <td>0.857567</td>\n",
       "      <td>0.883792</td>\n",
       "      <td>0.0262</td>\n",
       "      <td>0.870482</td>\n",
       "    </tr>\n",
       "    <tr>\n",
       "      <th>46</th>\n",
       "      <td>0.46</td>\n",
       "      <td>573</td>\n",
       "      <td>91</td>\n",
       "      <td>1638</td>\n",
       "      <td>81</td>\n",
       "      <td>0.862952</td>\n",
       "      <td>0.876147</td>\n",
       "      <td>0.0132</td>\n",
       "      <td>0.869499</td>\n",
       "    </tr>\n",
       "    <tr>\n",
       "      <th>47</th>\n",
       "      <td>0.47</td>\n",
       "      <td>573</td>\n",
       "      <td>87</td>\n",
       "      <td>1642</td>\n",
       "      <td>81</td>\n",
       "      <td>0.868182</td>\n",
       "      <td>0.876147</td>\n",
       "      <td>0.0080</td>\n",
       "      <td>0.872146</td>\n",
       "    </tr>\n",
       "    <tr>\n",
       "      <th>48</th>\n",
       "      <td>0.48</td>\n",
       "      <td>570</td>\n",
       "      <td>87</td>\n",
       "      <td>1642</td>\n",
       "      <td>84</td>\n",
       "      <td>0.867580</td>\n",
       "      <td>0.871560</td>\n",
       "      <td>0.0040</td>\n",
       "      <td>0.869565</td>\n",
       "    </tr>\n",
       "    <tr>\n",
       "      <th>49</th>\n",
       "      <td>0.49</td>\n",
       "      <td>567</td>\n",
       "      <td>80</td>\n",
       "      <td>1649</td>\n",
       "      <td>87</td>\n",
       "      <td>0.876352</td>\n",
       "      <td>0.866972</td>\n",
       "      <td>-0.0094</td>\n",
       "      <td>0.871637</td>\n",
       "    </tr>\n",
       "    <tr>\n",
       "      <th>50</th>\n",
       "      <td>0.50</td>\n",
       "      <td>567</td>\n",
       "      <td>76</td>\n",
       "      <td>1653</td>\n",
       "      <td>87</td>\n",
       "      <td>0.881804</td>\n",
       "      <td>0.866972</td>\n",
       "      <td>-0.0148</td>\n",
       "      <td>0.874325</td>\n",
       "    </tr>\n",
       "    <tr>\n",
       "      <th>51</th>\n",
       "      <td>0.51</td>\n",
       "      <td>564</td>\n",
       "      <td>76</td>\n",
       "      <td>1653</td>\n",
       "      <td>90</td>\n",
       "      <td>0.881250</td>\n",
       "      <td>0.862385</td>\n",
       "      <td>-0.0189</td>\n",
       "      <td>0.871716</td>\n",
       "    </tr>\n",
       "    <tr>\n",
       "      <th>52</th>\n",
       "      <td>0.52</td>\n",
       "      <td>562</td>\n",
       "      <td>73</td>\n",
       "      <td>1656</td>\n",
       "      <td>92</td>\n",
       "      <td>0.885039</td>\n",
       "      <td>0.859327</td>\n",
       "      <td>-0.0257</td>\n",
       "      <td>0.871994</td>\n",
       "    </tr>\n",
       "    <tr>\n",
       "      <th>53</th>\n",
       "      <td>0.53</td>\n",
       "      <td>559</td>\n",
       "      <td>68</td>\n",
       "      <td>1661</td>\n",
       "      <td>95</td>\n",
       "      <td>0.891547</td>\n",
       "      <td>0.854740</td>\n",
       "      <td>-0.0368</td>\n",
       "      <td>0.872756</td>\n",
       "    </tr>\n",
       "    <tr>\n",
       "      <th>54</th>\n",
       "      <td>0.54</td>\n",
       "      <td>557</td>\n",
       "      <td>65</td>\n",
       "      <td>1664</td>\n",
       "      <td>97</td>\n",
       "      <td>0.895498</td>\n",
       "      <td>0.851682</td>\n",
       "      <td>-0.0438</td>\n",
       "      <td>0.873041</td>\n",
       "    </tr>\n",
       "    <tr>\n",
       "      <th>55</th>\n",
       "      <td>0.55</td>\n",
       "      <td>550</td>\n",
       "      <td>59</td>\n",
       "      <td>1670</td>\n",
       "      <td>104</td>\n",
       "      <td>0.903120</td>\n",
       "      <td>0.840979</td>\n",
       "      <td>-0.0621</td>\n",
       "      <td>0.870942</td>\n",
       "    </tr>\n",
       "    <tr>\n",
       "      <th>56</th>\n",
       "      <td>0.56</td>\n",
       "      <td>548</td>\n",
       "      <td>58</td>\n",
       "      <td>1671</td>\n",
       "      <td>106</td>\n",
       "      <td>0.904290</td>\n",
       "      <td>0.837920</td>\n",
       "      <td>-0.0664</td>\n",
       "      <td>0.869841</td>\n",
       "    </tr>\n",
       "    <tr>\n",
       "      <th>57</th>\n",
       "      <td>0.57</td>\n",
       "      <td>546</td>\n",
       "      <td>58</td>\n",
       "      <td>1671</td>\n",
       "      <td>108</td>\n",
       "      <td>0.903974</td>\n",
       "      <td>0.834862</td>\n",
       "      <td>-0.0691</td>\n",
       "      <td>0.868045</td>\n",
       "    </tr>\n",
       "    <tr>\n",
       "      <th>58</th>\n",
       "      <td>0.58</td>\n",
       "      <td>541</td>\n",
       "      <td>57</td>\n",
       "      <td>1672</td>\n",
       "      <td>113</td>\n",
       "      <td>0.904682</td>\n",
       "      <td>0.827217</td>\n",
       "      <td>-0.0775</td>\n",
       "      <td>0.864217</td>\n",
       "    </tr>\n",
       "    <tr>\n",
       "      <th>59</th>\n",
       "      <td>0.59</td>\n",
       "      <td>540</td>\n",
       "      <td>55</td>\n",
       "      <td>1674</td>\n",
       "      <td>114</td>\n",
       "      <td>0.907563</td>\n",
       "      <td>0.825688</td>\n",
       "      <td>-0.0819</td>\n",
       "      <td>0.864692</td>\n",
       "    </tr>\n",
       "  </tbody>\n",
       "</table>\n",
       "</div>"
      ],
      "text/plain": [
       "    threshold   tp  fp    tn   fn  precision    recall    diff   F1Score\n",
       "45       0.45  578  96  1633   76   0.857567  0.883792  0.0262  0.870482\n",
       "46       0.46  573  91  1638   81   0.862952  0.876147  0.0132  0.869499\n",
       "47       0.47  573  87  1642   81   0.868182  0.876147  0.0080  0.872146\n",
       "48       0.48  570  87  1642   84   0.867580  0.871560  0.0040  0.869565\n",
       "49       0.49  567  80  1649   87   0.876352  0.866972 -0.0094  0.871637\n",
       "50       0.50  567  76  1653   87   0.881804  0.866972 -0.0148  0.874325\n",
       "51       0.51  564  76  1653   90   0.881250  0.862385 -0.0189  0.871716\n",
       "52       0.52  562  73  1656   92   0.885039  0.859327 -0.0257  0.871994\n",
       "53       0.53  559  68  1661   95   0.891547  0.854740 -0.0368  0.872756\n",
       "54       0.54  557  65  1664   97   0.895498  0.851682 -0.0438  0.873041\n",
       "55       0.55  550  59  1670  104   0.903120  0.840979 -0.0621  0.870942\n",
       "56       0.56  548  58  1671  106   0.904290  0.837920 -0.0664  0.869841\n",
       "57       0.57  546  58  1671  108   0.903974  0.834862 -0.0691  0.868045\n",
       "58       0.58  541  57  1672  113   0.904682  0.827217 -0.0775  0.864217\n",
       "59       0.59  540  55  1674  114   0.907563  0.825688 -0.0819  0.864692"
      ]
     },
     "execution_count": 187,
     "metadata": {},
     "output_type": "execute_result"
    }
   ],
   "source": [
    "df_scores[45:60:1]"
   ]
  },
  {
   "cell_type": "code",
   "execution_count": 185,
   "id": "0d1737e3-56f8-4a0e-99d5-04a4e2f93437",
   "metadata": {
    "tags": []
   },
   "outputs": [
    {
     "name": "stdout",
     "output_type": "stream",
     "text": [
      "    threshold   tp  fp    tn  fn  precision    recall    diff   F1Score\n",
      "50        0.5  567  76  1653  87   0.881804  0.866972 -0.0148  0.874325\n"
     ]
    }
   ],
   "source": [
    "print (df_scores[df_scores.F1Score == df_scores.F1Score.max()])"
   ]
  },
  {
   "cell_type": "code",
   "execution_count": 188,
   "id": "58cf0f63-8583-4ad2-a5ae-aa633e1d23de",
   "metadata": {
    "tags": []
   },
   "outputs": [
    {
     "data": {
      "text/plain": [
       "0.8743253662297611"
      ]
     },
     "execution_count": 188,
     "metadata": {},
     "output_type": "execute_result"
    }
   ],
   "source": [
    "df_scores.F1Score.max()"
   ]
  },
  {
   "cell_type": "code",
   "execution_count": 167,
   "id": "d7f38453-a4e2-43ef-b16a-b7987a4c3587",
   "metadata": {
    "tags": []
   },
   "outputs": [
    {
     "data": {
      "text/plain": [
       "<matplotlib.legend.Legend at 0x13c6bbc50>"
      ]
     },
     "execution_count": 167,
     "metadata": {},
     "output_type": "execute_result"
    },
    {
     "data": {
      "image/png": "[encoded data removed]",
      "text/plain": [
       "<Figure size 640x480 with 1 Axes>"
      ]
     },
     "metadata": {},
     "output_type": "display_data"
    }
   ],
   "source": [
    "plt.plot(df_scores.threshold,df_scores['precision'],label='precision')\n",
    "plt.plot(df_scores.threshold,df_scores['precision'],label='recall')                                                          "
   ]
  },
  {
   "cell_type": "code",
   "execution_count": 132,
   "id": "02b0afd1-c078-4f1a-aba2-44e4b962dc02",
   "metadata": {
    "tags": []
   },
   "outputs": [],
   "source": [
    "import matplotlib.pyplot as plt"
   ]
  },
  {
   "cell_type": "code",
   "execution_count": 135,
   "id": "cc348529-e873-47fd-83bd-7b660bce5d04",
   "metadata": {
    "tags": []
   },
   "outputs": [
    {
     "data": {
      "text/plain": [
       "[<matplotlib.lines.Line2D at 0x13970abd0>]"
      ]
     },
     "execution_count": 135,
     "metadata": {},
     "output_type": "execute_result"
    },
    {
     "data": {
      "image/png": "[encoded data removed]",
      "text/plain": [
       "<Figure size 640x480 with 1 Axes>"
      ]
     },
     "metadata": {},
     "output_type": "display_data"
    }
   ],
   "source": [
    "plt.plot(threshold,scores)"
   ]
  },
  {
   "cell_type": "markdown",
   "id": "a19b7f96-ef81-4a84-b032-4b5311f8b182",
   "metadata": {},
   "source": [
    "# Answer  - 4"
   ]
  },
  {
   "cell_type": "code",
   "execution_count": null,
   "id": "8b488594-7498-479d-aea9-1bafc9991ff1",
   "metadata": {},
   "outputs": [],
   "source": [
    "# Highest F1 at .50"
   ]
  },
  {
   "cell_type": "markdown",
   "id": "e26c3e1e-5145-4666-a8f6-76a5a198b05f",
   "metadata": {},
   "source": [
    "# Answer - 5"
   ]
  },
  {
   "cell_type": "code",
   "execution_count": 197,
   "id": "34fabe68-8bb1-4520-8b6c-35dc18235592",
   "metadata": {
    "tags": []
   },
   "outputs": [],
   "source": [
    "def train(df_train, y_train):\n",
    "    dv = DictVectorizer(sparse=False)\n",
    "    dict_df_train= df_train.to_dict(orient='records')\n",
    "    dict_df_train_x=dv.fit_transform(dict_df_train)\n",
    "    \n",
    "    model = LogisticRegression(solver='liblinear', C=1.0, max_iter=1000)\n",
    "    model.fit(dict_df_train_x,y_train)\n",
    "    return model, dv\n",
    "    "
   ]
  },
  {
   "cell_type": "code",
   "execution_count": 198,
   "id": "7254cca2-94cd-4421-b31a-b1f21cfad1f1",
   "metadata": {
    "tags": []
   },
   "outputs": [],
   "source": [
    "#log_model,dv = train(dfx_train, y_train)"
   ]
  },
  {
   "cell_type": "code",
   "execution_count": 199,
   "id": "01e16e87-08ac-4ae0-abff-25e6a56930c2",
   "metadata": {
    "tags": []
   },
   "outputs": [],
   "source": [
    "def predict(df_val,log_model,dv):\n",
    "        dict_df_val= df_val.to_dict(orient='records')\n",
    "        dict_df_val_x=dv.transform(dict_df_val)\n",
    "        \n",
    "        v_val_pred = log_model.predict_proba(dict_df_val_x)[:,1]\n",
    "        return v_val_pred    \n"
   ]
  },
  {
   "cell_type": "code",
   "execution_count": 201,
   "id": "f217d08f-38c8-4a64-8b99-ab837ddb2c7f",
   "metadata": {
    "tags": []
   },
   "outputs": [],
   "source": [
    "#y_pred = predict(df_val,log_model,dv)"
   ]
  },
  {
   "cell_type": "code",
   "execution_count": 203,
   "id": "24545a88-489c-458d-8b5a-32e3be46a770",
   "metadata": {
    "tags": []
   },
   "outputs": [],
   "source": [
    "from sklearn.model_selection import KFold"
   ]
  },
  {
   "cell_type": "code",
   "execution_count": 204,
   "id": "c1676874-2d29-4743-b7b4-05ac2236aee3",
   "metadata": {
    "tags": []
   },
   "outputs": [],
   "source": [
    "kfold = KFold(n_splits=5 , shuffle=True, random_state=1)"
   ]
  },
  {
   "cell_type": "code",
   "execution_count": 211,
   "id": "bc802f18-2e00-4c13-a434-f82dc2574945",
   "metadata": {
    "tags": []
   },
   "outputs": [],
   "source": [
    "df_fulltrain, df_test=train_test_split(df, test_size=0.2, random_state=1)"
   ]
  },
  {
   "cell_type": "code",
   "execution_count": 212,
   "id": "1861312d-932f-4d0f-bcaf-b7e6d6578bd0",
   "metadata": {
    "tags": []
   },
   "outputs": [],
   "source": [
    "scores = []\n",
    "for train_idx, val_idx in kfold.split(df_fulltrain):\n",
    "\n",
    "    \n",
    "    df_k_train = df_fulltrain.iloc[train_idx]\n",
    "    df_k_val=df_fulltrain.iloc[val_idx]\n",
    "    \n",
    "    df_k_train_x = df_k_train[['make', 'model', 'year',  'engine_hp',\n",
    "       'engine_cylinders', 'transmission_type', 'vehicle_style',\n",
    "       'highway_mpg', 'city_mpg']]\n",
    "    y_train_k = df_k_train.above_average.values\n",
    "    \n",
    "    df_k_val_x = df_k_val[['make', 'model', 'year',  'engine_hp',\n",
    "       'engine_cylinders', 'transmission_type', 'vehicle_style',\n",
    "       'highway_mpg', 'city_mpg']]\n",
    "    y_val_k = df_k_val.above_average.values\n",
    "        \n",
    "    \n",
    "    log_model,dv = train(df_k_train_x, y_train_k)\n",
    "    y_val_k_pred = predict(df_k_val_x,log_model,dv)\n",
    "    \n",
    "    auc= roc_auc_score(y_val_k,y_val_k_pred)\n",
    "    scores.append(auc)\n",
    "    \n",
    "    "
   ]
  },
  {
   "cell_type": "code",
   "execution_count": 213,
   "id": "807bdf45-e96a-4f4a-9516-8b8c908108f1",
   "metadata": {
    "tags": []
   },
   "outputs": [
    {
     "data": {
      "text/plain": [
       "[0.9784891235596622,\n",
       " 0.9802015987157496,\n",
       " 0.977745245663934,\n",
       " 0.9772628408900788,\n",
       " 0.9776806526806527]"
      ]
     },
     "execution_count": 213,
     "metadata": {},
     "output_type": "execute_result"
    }
   ],
   "source": [
    "scores"
   ]
  },
  {
   "cell_type": "code",
   "execution_count": 215,
   "id": "d33629a1-06d5-489c-8817-b5741a2be590",
   "metadata": {
    "tags": []
   },
   "outputs": [
    {
     "data": {
      "text/plain": [
       "(0.978, 0.001)"
      ]
     },
     "execution_count": 215,
     "metadata": {},
     "output_type": "execute_result"
    }
   ],
   "source": [
    "round(np.mean(scores),3), round(np.std(scores),3)"
   ]
  },
  {
   "cell_type": "markdown",
   "id": "63089ef4-6e69-4b1d-9d95-d54612c5a2e5",
   "metadata": {},
   "source": [
    "# Answer - 6"
   ]
  },
  {
   "cell_type": "code",
   "execution_count": 216,
   "id": "ef3e5043-d5ec-4182-922b-9bae44cb2e5c",
   "metadata": {
    "tags": []
   },
   "outputs": [],
   "source": [
    "def train_c(df_train, y_train,c):\n",
    "    dv = DictVectorizer(sparse=False)\n",
    "    dict_df_train= df_train.to_dict(orient='records')\n",
    "    dict_df_train_x=dv.fit_transform(dict_df_train)\n",
    "    \n",
    "    model = LogisticRegression(solver='liblinear', C=c, max_iter=1000)\n",
    "    model.fit(dict_df_train_x,y_train)\n",
    "    return model, dv "
   ]
  },
  {
   "cell_type": "code",
   "execution_count": 219,
   "id": "ce4290b8-2207-4d5f-bd10-a297aa5a44fe",
   "metadata": {
    "tags": []
   },
   "outputs": [
    {
     "name": "stdout",
     "output_type": "stream",
     "text": [
      "0.01 0.952 0.003\n",
      "0.1 0.972 0.002\n",
      "0.5 0.977 0.001\n",
      "10 0.98 0.003\n"
     ]
    }
   ],
   "source": [
    "\n",
    "for c in [0.01, 0.1, 0.5, 10]:\n",
    "    scores = []\n",
    "    for train_idx, val_idx in kfold.split(df_fulltrain):\n",
    "\n",
    "    \n",
    "        df_k_train = df_fulltrain.iloc[train_idx]\n",
    "        df_k_val=df_fulltrain.iloc[val_idx]\n",
    "    \n",
    "        df_k_train_x = df_k_train[['make', 'model', 'year',  'engine_hp',\n",
    "       'engine_cylinders', 'transmission_type', 'vehicle_style',\n",
    "       'highway_mpg', 'city_mpg']]\n",
    "        y_train_k = df_k_train.above_average.values\n",
    "    \n",
    "        df_k_val_x = df_k_val[['make', 'model', 'year',  'engine_hp',\n",
    "       'engine_cylinders', 'transmission_type', 'vehicle_style',\n",
    "       'highway_mpg', 'city_mpg']]\n",
    "        y_val_k = df_k_val.above_average.values\n",
    "        \n",
    "    \n",
    "        log_model,dv = train_c(df_k_train_x, y_train_k,c)\n",
    "        y_val_k_pred = predict(df_k_val_x,log_model,dv)\n",
    "    \n",
    "        auc= roc_auc_score(y_val_k,y_val_k_pred)\n",
    "        scores.append(auc)\n",
    "    print (c, round(np.mean(scores),3), round(np.std(scores),3))"
   ]
  },
  {
   "cell_type": "code",
   "execution_count": null,
   "id": "132fab6e-86ae-497c-b66f-2737f8da9c93",
   "metadata": {},
   "outputs": [],
   "source": []
  }
 ],
 "metadata": {
  "kernelspec": {
   "display_name": "Python 3 (ipykernel)",
   "language": "python",
   "name": "python3"
  },
  "language_info": {
   "codemirror_mode": {
    "name": "ipython",
    "version": 3
   },
   "file_extension": ".py",
   "mimetype": "text/x-python",
   "name": "python",
   "nbconvert_exporter": "python",
   "pygments_lexer": "ipython3",
   "version": "3.11.4"
  }
 },
 "nbformat": 4,
 "nbformat_minor": 5
}
